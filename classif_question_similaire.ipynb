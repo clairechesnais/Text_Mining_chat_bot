{
 "cells": [
  {
   "cell_type": "code",
   "execution_count": 1,
   "metadata": {},
   "outputs": [],
   "source": [
    "import pandas as pd\n",
    "import spacy\n",
    "import numpy as np\n",
    "\n",
    "nlp = spacy.load(\"fr_core_news_sm\")"
   ]
  },
  {
   "cell_type": "markdown",
   "metadata": {},
   "source": [
    "# Objectif : trouver la question du thème la plus similaire"
   ]
  },
  {
   "cell_type": "code",
   "execution_count": 256,
   "metadata": {},
   "outputs": [],
   "source": [
    "theme_quest_user = \"Préparer mon séjour\" # on fixe un theme au pif"
   ]
  },
  {
   "cell_type": "code",
   "execution_count": 257,
   "metadata": {},
   "outputs": [],
   "source": [
    "#quest_user = \"Puis-je évaluer le confort de mon domaine ?\"\n",
    "#quest_user = \"Les annimaux domestiques sont-ils acceptés ?\"\n",
    "quest_user = \"ai-je besoin d'un visa ou d'un passeport ?\""
   ]
  },
  {
   "cell_type": "code",
   "execution_count": 258,
   "metadata": {},
   "outputs": [],
   "source": [
    "faq = pd.read_pickle('faq_centerPark.pkl')"
   ]
  },
  {
   "cell_type": "code",
   "execution_count": 260,
   "metadata": {},
   "outputs": [
    {
     "data": {
      "text/html": [
       "<div>\n",
       "<style scoped>\n",
       "    .dataframe tbody tr th:only-of-type {\n",
       "        vertical-align: middle;\n",
       "    }\n",
       "\n",
       "    .dataframe tbody tr th {\n",
       "        vertical-align: top;\n",
       "    }\n",
       "\n",
       "    .dataframe thead th {\n",
       "        text-align: right;\n",
       "    }\n",
       "</style>\n",
       "<table border=\"1\" class=\"dataframe\">\n",
       "  <thead>\n",
       "    <tr style=\"text-align: right;\">\n",
       "      <th></th>\n",
       "      <th>question</th>\n",
       "      <th>reponse</th>\n",
       "    </tr>\n",
       "  </thead>\n",
       "  <tbody>\n",
       "    <tr>\n",
       "      <th>0</th>\n",
       "      <td>Quels sont les jours d’arrivée ?</td>\n",
       "      <td>Il est possible d’arriver n’importe quel jour ...</td>\n",
       "    </tr>\n",
       "    <tr>\n",
       "      <th>1</th>\n",
       "      <td>Comment évaluer le confort de mon domaine et d...</td>\n",
       "      <td>Le classement par « birdies » évalue l’offre C...</td>\n",
       "    </tr>\n",
       "    <tr>\n",
       "      <th>2</th>\n",
       "      <td>Quels sont les services et activités compris d...</td>\n",
       "      <td>En réservant votre hébergement, vous bénéficie...</td>\n",
       "    </tr>\n",
       "    <tr>\n",
       "      <th>3</th>\n",
       "      <td>Comment réserver mes activités ?</td>\n",
       "      <td>Lors de la réservation de votre hébergement, v...</td>\n",
       "    </tr>\n",
       "    <tr>\n",
       "      <th>4</th>\n",
       "      <td>Où trouver le plan du domaine ?</td>\n",
       "      <td>Sur la page d'accueil de notre site, cliquez s...</td>\n",
       "    </tr>\n",
       "    <tr>\n",
       "      <th>5</th>\n",
       "      <td>Puis-je venir avec mon animal domestique ?</td>\n",
       "      <td>La présence de votre animal domestique est aut...</td>\n",
       "    </tr>\n",
       "    <tr>\n",
       "      <th>6</th>\n",
       "      <td>Peut-on accéder au domaine à la journée (sans ...</td>\n",
       "      <td>Il est possible de passer la journée à Center ...</td>\n",
       "    </tr>\n",
       "    <tr>\n",
       "      <th>7</th>\n",
       "      <td>Comment réserver un logement adapté aux person...</td>\n",
       "      <td>Tous nos domaines français, dont  Villages Nat...</td>\n",
       "    </tr>\n",
       "    <tr>\n",
       "      <th>8</th>\n",
       "      <td>Comment recevoir la brochure ?</td>\n",
       "      <td>Cliquez ici pour remplir une demande d'envoi d...</td>\n",
       "    </tr>\n",
       "    <tr>\n",
       "      <th>9</th>\n",
       "      <td>Est-il possible d'acheter des billets pour les...</td>\n",
       "      <td>Oui. Achetez directement vos billets lors de v...</td>\n",
       "    </tr>\n",
       "    <tr>\n",
       "      <th>10</th>\n",
       "      <td>Un visa ou un passeport est-il impératif pour ...</td>\n",
       "      <td>Pour les ressortissants de l’Union Européenne,...</td>\n",
       "    </tr>\n",
       "    <tr>\n",
       "      <th>11</th>\n",
       "      <td>Comment utiliser l’offre Early Booking avec le...</td>\n",
       "      <td>Profitez de nos Activités Cadeaux offertes pou...</td>\n",
       "    </tr>\n",
       "    <tr>\n",
       "      <th>12</th>\n",
       "      <td>Y a-t-il un service bagagerie pour déposer mes...</td>\n",
       "      <td>Pour des raisons de sécurité, nous ne sommes p...</td>\n",
       "    </tr>\n",
       "  </tbody>\n",
       "</table>\n",
       "</div>"
      ],
      "text/plain": [
       "                                             question  \\\n",
       "0                    Quels sont les jours d’arrivée ?   \n",
       "1   Comment évaluer le confort de mon domaine et d...   \n",
       "2   Quels sont les services et activités compris d...   \n",
       "3                    Comment réserver mes activités ?   \n",
       "4                     Où trouver le plan du domaine ?   \n",
       "5          Puis-je venir avec mon animal domestique ?   \n",
       "6   Peut-on accéder au domaine à la journée (sans ...   \n",
       "7   Comment réserver un logement adapté aux person...   \n",
       "8                      Comment recevoir la brochure ?   \n",
       "9   Est-il possible d'acheter des billets pour les...   \n",
       "10  Un visa ou un passeport est-il impératif pour ...   \n",
       "11  Comment utiliser l’offre Early Booking avec le...   \n",
       "12  Y a-t-il un service bagagerie pour déposer mes...   \n",
       "\n",
       "                                              reponse  \n",
       "0   Il est possible d’arriver n’importe quel jour ...  \n",
       "1   Le classement par « birdies » évalue l’offre C...  \n",
       "2   En réservant votre hébergement, vous bénéficie...  \n",
       "3   Lors de la réservation de votre hébergement, v...  \n",
       "4   Sur la page d'accueil de notre site, cliquez s...  \n",
       "5   La présence de votre animal domestique est aut...  \n",
       "6   Il est possible de passer la journée à Center ...  \n",
       "7   Tous nos domaines français, dont  Villages Nat...  \n",
       "8   Cliquez ici pour remplir une demande d'envoi d...  \n",
       "9   Oui. Achetez directement vos billets lors de v...  \n",
       "10  Pour les ressortissants de l’Union Européenne,...  \n",
       "11  Profitez de nos Activités Cadeaux offertes pou...  \n",
       "12  Pour des raisons de sécurité, nous ne sommes p...  "
      ]
     },
     "execution_count": 260,
     "metadata": {},
     "output_type": "execute_result"
    }
   ],
   "source": [
    "faq_theme"
   ]
  },
  {
   "cell_type": "markdown",
   "metadata": {},
   "source": [
    "### Nettoyage du corpus"
   ]
  },
  {
   "cell_type": "code",
   "execution_count": 261,
   "metadata": {},
   "outputs": [],
   "source": [
    "import string\n",
    "import nltk\n",
    "from nltk.tokenize import word_tokenize\n",
    "from nltk.stem import SnowballStemmer\n",
    "\n",
    "stemmer = SnowballStemmer('french')\n",
    "\n",
    "sw = nltk.corpus.stopwords.words('french')\n",
    "sw += ['être', 'avoir']\n",
    "sw.sort()\n",
    "\n",
    "def lemmatise_text(text):\n",
    "    lst_lematised = [token.lemma_ for token in nlp(text)] \n",
    "    return ' '.join(lst_lematised).lower()\n",
    "\n",
    "\n",
    "def stem_text(text):\n",
    "    lst_stemmerised = [stemmer.stem(token) for token in word_tokenize(text)]    \n",
    "    return ' '.join(lst_stemmerised)\n",
    "\n",
    "\n",
    "def substitute_punctuation(text):\n",
    "    return ' '.join(text.replace(\"'\", ' ').translate(str.maketrans('', '', string.punctuation)).split())\n",
    "\n",
    "\n",
    "def supp(text):\n",
    "    return text.replace(\"«\", \"\").replace(\"’\", \"\").replace(\"•\", \"\").replace(\"®\", \"\")\n",
    "\n",
    "\n",
    "def supp_sw(text):\n",
    "    return ' '.join([token.text for token in nlp(text) if not token.text in sw])"
   ]
  },
  {
   "cell_type": "code",
   "execution_count": 262,
   "metadata": {},
   "outputs": [],
   "source": [
    "faq_theme['question_clean'] = (faq_theme.question.apply(lemmatise_text)\n",
    "                                                 .apply(stem_text)\n",
    "                                                 .apply(substitute_punctuation)\n",
    "                                                 .apply(supp)\n",
    "                                                 .apply(supp_sw)\n",
    "                              )\n",
    "faq_theme['reponse_clean'] = (faq_theme.reponse.apply(lemmatise_text)\n",
    "                                               .apply(stem_text)\n",
    "                                               .apply(substitute_punctuation)\n",
    "                                               .apply(supp)\n",
    "                                               .apply(supp_sw)\n",
    "                              )\n",
    "faq_theme['tokens'] = faq_theme['question_clean'].apply(nlp)"
   ]
  },
  {
   "cell_type": "code",
   "execution_count": 263,
   "metadata": {},
   "outputs": [],
   "source": [
    "faq_theme.to_pickle('df_classif_similarity.pkl')"
   ]
  },
  {
   "cell_type": "markdown",
   "metadata": {},
   "source": [
    "### sélection des questions du thème"
   ]
  },
  {
   "cell_type": "code",
   "execution_count": 259,
   "metadata": {},
   "outputs": [],
   "source": [
    "faq_theme = faq[faq.theme == theme_quest_user][[\"question\", 'reponse']]"
   ]
  },
  {
   "cell_type": "markdown",
   "metadata": {},
   "source": [
    "### Nettoyage de la question"
   ]
  },
  {
   "cell_type": "code",
   "execution_count": 249,
   "metadata": {},
   "outputs": [],
   "source": [
    "quest_user_clean = supp_sw(supp(substitute_punctuation(stem_text(lemmatise_text(quest_user)))))"
   ]
  },
  {
   "cell_type": "markdown",
   "metadata": {},
   "source": [
    "### Similarité"
   ]
  },
  {
   "cell_type": "code",
   "execution_count": 250,
   "metadata": {},
   "outputs": [],
   "source": [
    "quest_user_clean_tokens = nlp(quest_user_clean)"
   ]
  },
  {
   "cell_type": "code",
   "execution_count": 251,
   "metadata": {},
   "outputs": [],
   "source": [
    "lst_similarity = [quest_user_clean_tokens.similarity(token) for token in faq_theme.tokens]"
   ]
  },
  {
   "cell_type": "code",
   "execution_count": 252,
   "metadata": {},
   "outputs": [],
   "source": [
    "rep_quest_user = faq_theme.reponse[np.asarray(lst_similarity).argmax()]"
   ]
  },
  {
   "cell_type": "code",
   "execution_count": 253,
   "metadata": {},
   "outputs": [
    {
     "data": {
      "text/plain": [
       "'Il est possible d’arriver n’importe quel jour de la semaine, à l’exception du dimanche, et pour une durée de 2 à 7 nuits. Les possibilités d’arrivées pendant les périodes de vacances scolaires sont plus limitées. Vous pouvez vous référer aux possibilités d’arrivées et de séjour dans votre réservation.'"
      ]
     },
     "execution_count": 253,
     "metadata": {},
     "output_type": "execute_result"
    }
   ],
   "source": [
    "rep_quest_user"
   ]
  },
  {
   "cell_type": "code",
   "execution_count": null,
   "metadata": {},
   "outputs": [],
   "source": []
  }
 ],
 "metadata": {
  "kernelspec": {
   "display_name": "Python 3",
   "language": "python",
   "name": "python3"
  },
  "language_info": {
   "codemirror_mode": {
    "name": "ipython",
    "version": 3
   },
   "file_extension": ".py",
   "mimetype": "text/x-python",
   "name": "python",
   "nbconvert_exporter": "python",
   "pygments_lexer": "ipython3",
   "version": "3.7.1"
  }
 },
 "nbformat": 4,
 "nbformat_minor": 2
}
