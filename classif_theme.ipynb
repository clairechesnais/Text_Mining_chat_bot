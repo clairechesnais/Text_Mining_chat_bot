{
 "cells": [
  {
   "cell_type": "markdown",
   "metadata": {},
   "source": [
    "# Classification de la question"
   ]
  },
  {
   "cell_type": "markdown",
   "metadata": {},
   "source": [
    "## 1. Prétraitement textuel de la base de données"
   ]
  },
  {
   "cell_type": "markdown",
   "metadata": {},
   "source": [
    "### A. Préparation du fichier"
   ]
  },
  {
   "cell_type": "code",
   "execution_count": 1,
   "metadata": {},
   "outputs": [],
   "source": [
    "import pandas as pd"
   ]
  },
  {
   "cell_type": "code",
   "execution_count": 2,
   "metadata": {
    "scrolled": true
   },
   "outputs": [
    {
     "data": {
      "text/html": [
       "<div>\n",
       "<style scoped>\n",
       "    .dataframe tbody tr th:only-of-type {\n",
       "        vertical-align: middle;\n",
       "    }\n",
       "\n",
       "    .dataframe tbody tr th {\n",
       "        vertical-align: top;\n",
       "    }\n",
       "\n",
       "    .dataframe thead th {\n",
       "        text-align: right;\n",
       "    }\n",
       "</style>\n",
       "<table border=\"1\" class=\"dataframe\">\n",
       "  <thead>\n",
       "    <tr style=\"text-align: right;\">\n",
       "      <th></th>\n",
       "      <th>question</th>\n",
       "      <th>reponse</th>\n",
       "      <th>theme</th>\n",
       "    </tr>\n",
       "  </thead>\n",
       "  <tbody>\n",
       "    <tr>\n",
       "      <th>0</th>\n",
       "      <td>Quels sont les jours d’arrivée ?</td>\n",
       "      <td>Il est possible d’arriver n’importe quel jour ...</td>\n",
       "      <td>Préparer mon séjour</td>\n",
       "    </tr>\n",
       "    <tr>\n",
       "      <th>1</th>\n",
       "      <td>Comment évaluer le confort de mon domaine et d...</td>\n",
       "      <td>Le classement par « birdies » évalue l’offre C...</td>\n",
       "      <td>Préparer mon séjour</td>\n",
       "    </tr>\n",
       "    <tr>\n",
       "      <th>2</th>\n",
       "      <td>Quels sont les services et activités compris d...</td>\n",
       "      <td>En réservant votre hébergement, vous bénéficie...</td>\n",
       "      <td>Préparer mon séjour</td>\n",
       "    </tr>\n",
       "    <tr>\n",
       "      <th>3</th>\n",
       "      <td>Comment réserver mes activités ?</td>\n",
       "      <td>Lors de la réservation de votre hébergement, v...</td>\n",
       "      <td>Préparer mon séjour</td>\n",
       "    </tr>\n",
       "    <tr>\n",
       "      <th>4</th>\n",
       "      <td>Où trouver le plan du domaine ?</td>\n",
       "      <td>Sur la page d'accueil de notre site, cliquez s...</td>\n",
       "      <td>Préparer mon séjour</td>\n",
       "    </tr>\n",
       "  </tbody>\n",
       "</table>\n",
       "</div>"
      ],
      "text/plain": [
       "                                            question  \\\n",
       "0                   Quels sont les jours d’arrivée ?   \n",
       "1  Comment évaluer le confort de mon domaine et d...   \n",
       "2  Quels sont les services et activités compris d...   \n",
       "3                   Comment réserver mes activités ?   \n",
       "4                    Où trouver le plan du domaine ?   \n",
       "\n",
       "                                             reponse                theme  \n",
       "0  Il est possible d’arriver n’importe quel jour ...  Préparer mon séjour  \n",
       "1  Le classement par « birdies » évalue l’offre C...  Préparer mon séjour  \n",
       "2  En réservant votre hébergement, vous bénéficie...  Préparer mon séjour  \n",
       "3  Lors de la réservation de votre hébergement, v...  Préparer mon séjour  \n",
       "4  Sur la page d'accueil de notre site, cliquez s...  Préparer mon séjour  "
      ]
     },
     "execution_count": 2,
     "metadata": {},
     "output_type": "execute_result"
    }
   ],
   "source": [
    "df_faq = pd.read_pickle('faq_centerPark.pkl')\n",
    "df_faq.head()"
   ]
  },
  {
   "cell_type": "code",
   "execution_count": 3,
   "metadata": {},
   "outputs": [
    {
     "data": {
      "text/plain": [
       "(54, 3)"
      ]
     },
     "execution_count": 3,
     "metadata": {},
     "output_type": "execute_result"
    }
   ],
   "source": [
    "df_faq.shape"
   ]
  },
  {
   "cell_type": "markdown",
   "metadata": {},
   "source": [
    "Notre jeu de données est composé de :\n",
    "    - 54 lignes\n",
    "    - 3 colonnes\n",
    "    - 5 thèmes différents\n",
    "On pose :\n",
    "    - 1 = Préparer mon séjour\n",
    "    - 2 = Réserver et payer\n",
    "    - 3 = Gérer ma réservation\n",
    "    - 4 = Mon séjour\n",
    "    - 5 = Assurances"
   ]
  },
  {
   "cell_type": "code",
   "execution_count": 5,
   "metadata": {},
   "outputs": [],
   "source": [
    "df_faq.to_csv('jeu_test_similarite.csv', sep=\";\")"
   ]
  },
  {
   "cell_type": "code",
   "execution_count": 6,
   "metadata": {},
   "outputs": [],
   "source": [
    "dic_code_theme = {\"Préparer mon séjour\": 1,\n",
    "                  \"Réserver et payer\": 2,\n",
    "                  \"Gérer ma réservation\": 3,\n",
    "                  \"Mon séjour\": 4,\n",
    "                  \"Assurances\": 5}\n",
    "dic_decode_theme = {val: key for key, val in dic_code_theme.items()}"
   ]
  },
  {
   "cell_type": "code",
   "execution_count": 7,
   "metadata": {},
   "outputs": [],
   "source": [
    "df_faq[\"theme\"].replace(dic_code_theme, inplace=True)"
   ]
  },
  {
   "cell_type": "code",
   "execution_count": 8,
   "metadata": {},
   "outputs": [
    {
     "name": "stderr",
     "output_type": "stream",
     "text": [
      "C:\\Users\\enora\\Anaconda3\\lib\\site-packages\\pandas\\core\\frame.py:4025: SettingWithCopyWarning: \n",
      "A value is trying to be set on a copy of a slice from a DataFrame\n",
      "\n",
      "See the caveats in the documentation: http://pandas.pydata.org/pandas-docs/stable/indexing.html#indexing-view-versus-copy\n",
      "  return super(DataFrame, self).rename(**kwargs)\n"
     ]
    }
   ],
   "source": [
    "df_question = df_faq[['question', 'theme']]\n",
    "df_question.rename(columns={'question': 'texte', 'theme': 'theme'}, inplace=True)\n",
    "df_reponse = df_faq[['reponse', 'theme']]\n",
    "df_reponse.rename(columns={'reponse': 'texte', 'theme': 'theme'}, inplace=True)"
   ]
  },
  {
   "cell_type": "code",
   "execution_count": 9,
   "metadata": {},
   "outputs": [],
   "source": [
    "df_concat = pd.concat([df_question, df_reponse])"
   ]
  },
  {
   "cell_type": "code",
   "execution_count": 10,
   "metadata": {},
   "outputs": [],
   "source": [
    "# Sauvegarde\n",
    "df_concat.to_pickle('df_concat.pkl')"
   ]
  },
  {
   "cell_type": "markdown",
   "metadata": {},
   "source": [
    "### B. Nettoyage du texte"
   ]
  },
  {
   "cell_type": "code",
   "execution_count": 11,
   "metadata": {},
   "outputs": [],
   "source": [
    "import os\n",
    "import numpy as np\n",
    "import re\n",
    "from collections import Counter\n",
    "\n",
    "# pour le nettoyage du texte\n",
    "import nltk\n",
    "import string\n",
    "import spacy\n",
    "from nltk.tokenize import word_tokenize\n",
    "from nltk.stem import SnowballStemmer\n",
    "from sklearn.feature_extraction.text import CountVectorizer, TfidfVectorizer\n",
    "\n",
    "#pour la classification\n",
    "from sklearn.linear_model import LogisticRegression\n",
    "from sklearn.naive_bayes import MultinomialNB\n",
    "from sklearn.metrics import accuracy_score, precision_score, recall_score, f1_score, classification_report, confusion_matrix\n",
    "from sklearn.svm import SVC\n",
    "\n",
    "import unidecode"
   ]
  },
  {
   "cell_type": "code",
   "execution_count": 12,
   "metadata": {},
   "outputs": [],
   "source": [
    "from sklearn.model_selection import train_test_split\n",
    "\n",
    "df_concat = pd.read_pickle('df_concat.pkl')\n",
    "X_train, X_test, y_train, y_test = train_test_split(df_concat['texte'], \n",
    "                                                    df_concat['theme'],\n",
    "                                                    train_size=0.7,\n",
    "                                                    random_state=5)"
   ]
  },
  {
   "cell_type": "code",
   "execution_count": 13,
   "metadata": {},
   "outputs": [],
   "source": [
    "stemmer = SnowballStemmer('french')\n",
    "#tokenizer = TweetTokenizer(strip_handles=True, reduce_len=True) # tokenizer for tweet\n",
    "nlp = spacy.load('fr_core_news_sm')\n",
    "\n",
    "sw = nltk.corpus.stopwords.words('french')\n",
    "sw += ['être', 'avoir']\n",
    "sw.sort()\n",
    "\n",
    "def lemmatise_text(text):\n",
    "    lst_lematised = [token.lemma_ for token in nlp(text)]\n",
    "    return ' '.join(lst_lematised).lower()\n",
    "\n",
    "\n",
    "def stem_text(text):\n",
    "    #lst_stemmerised = [stemmer.stem(token) for token in tokenizer.tokenize(text)] \n",
    "    lst_stemmerised = [stemmer.stem(token) for token in word_tokenize(text)]\n",
    "    return ' '.join(lst_stemmerised)\n",
    "\n",
    "\n",
    "def replace_words_with_pos_tag(text):\n",
    "    lst_tags = [token.pos_ for token in nlp(text)]\n",
    "    return ' '.join(lst_tags)\n",
    "\n",
    "\n",
    "def ner(text): #entites nommees\n",
    "    dico_remplacement = {entite_nommee.text : entite_nommee.label_ for entite_nommee in nlp(text).ents}\n",
    "    for entite_nommee, remplacement in dico_remplacement.items():\n",
    "        text = text.replace(entite_nommee, remplacement)\n",
    "    return text\n",
    "\n",
    "\n",
    "def substitute_punctuation(text):\n",
    "    return ' '.join(text.replace(\"'\", ' ').translate(str.maketrans('', '', string.punctuation)).split())\n",
    "\n",
    "\n",
    "def supp(text):\n",
    "    return text.replace(\"«\", \"\").replace(\"’\", \"\").replace(\"•\", \"\").replace(\"®\", \"\")\n",
    "\n",
    "\n",
    "def supprime_accent(txt):\n",
    "    return unidecode.unidecode(txt)"
   ]
  },
  {
   "cell_type": "code",
   "execution_count": 14,
   "metadata": {},
   "outputs": [],
   "source": [
    "X_train_clean = (X_train.apply(lemmatise_text)\n",
    "                        .apply(stem_text)\n",
    "                        .apply(substitute_punctuation)\n",
    "                        .apply(supp)\n",
    "                )\n",
    "\n",
    "X_test_clean = (X_test.apply(lemmatise_text)\n",
    "                      .apply(stem_text)\n",
    "                      .apply(substitute_punctuation)\n",
    "                      .apply(supp)\n",
    "               )"
   ]
  },
  {
   "cell_type": "markdown",
   "metadata": {},
   "source": [
    "## C. Test de différents modèles"
   ]
  },
  {
   "cell_type": "markdown",
   "metadata": {},
   "source": [
    "##### a. Les différents vectoriseurs"
   ]
  },
  {
   "cell_type": "code",
   "execution_count": 15,
   "metadata": {},
   "outputs": [],
   "source": [
    "#vectoriseur binaire\n",
    "\n",
    "bin_count = CountVectorizer(binary=True)\n",
    "bin_count.fit(X_train_clean)\n",
    "X_train_clean_vectorized_bin = bin_count.transform(X_train_clean)\n",
    "X_test_clean_vectorized_bin = bin_count.transform(X_test_clean)"
   ]
  },
  {
   "cell_type": "code",
   "execution_count": 16,
   "metadata": {},
   "outputs": [],
   "source": [
    "#vectoriseur numérique discret\n",
    "\n",
    "vect_count = CountVectorizer(binary=False)\n",
    "vect_count.fit(X_train_clean)\n",
    "X_train_clean_vectorized_count = vect_count.transform(X_train_clean)\n",
    "X_test_clean_vectorized_count = vect_count.transform(X_test_clean)"
   ]
  },
  {
   "cell_type": "code",
   "execution_count": 17,
   "metadata": {},
   "outputs": [
    {
     "data": {
      "text/plain": [
       "['vectorizer_classif_theme.joblib']"
      ]
     },
     "execution_count": 17,
     "metadata": {},
     "output_type": "execute_result"
    }
   ],
   "source": [
    "#vectoriseur numérique continu : TF-IDF\n",
    "\n",
    "vect_tfidf = TfidfVectorizer(stop_words=sw)\n",
    "vect_tfidf.fit(X_train_clean)\n",
    "X_train_clean_vectorized_tfidf = vect_tfidf.transform(X_train_clean)\n",
    "X_test_clean_vectorized_tfidf = vect_tfidf.transform(X_test_clean) \n",
    "\n",
    "## export vectorizer\n",
    "from joblib import dump\n",
    "dump(vect_tfidf, 'vectorizer_classif_theme.joblib')"
   ]
  },
  {
   "cell_type": "markdown",
   "metadata": {},
   "source": [
    "#### b. Les différents modèles"
   ]
  },
  {
   "cell_type": "markdown",
   "metadata": {},
   "source": [
    "Nous entraînerons des modèles de classification appartenant à quelques familles d'algorithmes d'apprentissage automatique classique. L'objectif est de comparer non seulement les performances des différentes méthodes entre elles, mais aussi la performance d'une même méthode sur des représentations différentes du texte."
   ]
  },
  {
   "cell_type": "markdown",
   "metadata": {},
   "source": [
    "##### b.1 DummyClassifier"
   ]
  },
  {
   "cell_type": "code",
   "execution_count": 18,
   "metadata": {},
   "outputs": [],
   "source": [
    "from sklearn.dummy import DummyClassifier"
   ]
  },
  {
   "cell_type": "code",
   "execution_count": 19,
   "metadata": {},
   "outputs": [
    {
     "data": {
      "text/plain": [
       "0.06060606060606061"
      ]
     },
     "execution_count": 19,
     "metadata": {},
     "output_type": "execute_result"
    }
   ],
   "source": [
    "random_uniform = DummyClassifier(strategy='uniform').fit(X_train_clean_vectorized_count, y_train)\n",
    "predictions_valid = random_uniform.predict(X_test_clean_vectorized_count)\n",
    "accuracy_score(y_test, predictions_valid)"
   ]
  },
  {
   "cell_type": "code",
   "execution_count": 20,
   "metadata": {},
   "outputs": [
    {
     "data": {
      "text/plain": [
       "0.12121212121212122"
      ]
     },
     "execution_count": 20,
     "metadata": {},
     "output_type": "execute_result"
    }
   ],
   "source": [
    "random_uniform = DummyClassifier(strategy='uniform').fit(X_train_clean_vectorized_bin, y_train)\n",
    "predictions_valid = random_uniform.predict(X_test_clean_vectorized_bin)\n",
    "accuracy_score(y_test, predictions_valid)"
   ]
  },
  {
   "cell_type": "code",
   "execution_count": 21,
   "metadata": {},
   "outputs": [
    {
     "data": {
      "text/plain": [
       "0.21212121212121213"
      ]
     },
     "execution_count": 21,
     "metadata": {},
     "output_type": "execute_result"
    }
   ],
   "source": [
    "random_uniform = DummyClassifier(strategy='uniform').fit(X_train_clean_vectorized_tfidf, y_train)\n",
    "predictions_valid = random_uniform.predict(X_test_clean_vectorized_tfidf)\n",
    "accuracy_score(y_test, predictions_valid)"
   ]
  },
  {
   "cell_type": "markdown",
   "metadata": {},
   "source": [
    "##### b.2 Classifieur naïf bayesien"
   ]
  },
  {
   "cell_type": "code",
   "execution_count": 22,
   "metadata": {},
   "outputs": [],
   "source": [
    "from sklearn.naive_bayes import MultinomialNB"
   ]
  },
  {
   "cell_type": "code",
   "execution_count": 23,
   "metadata": {},
   "outputs": [
    {
     "data": {
      "text/plain": [
       "0.5757575757575758"
      ]
     },
     "execution_count": 23,
     "metadata": {},
     "output_type": "execute_result"
    }
   ],
   "source": [
    "model_nb = MultinomialNB().fit(X_train_clean_vectorized_count, y_train)\n",
    "predictions_valid = model_nb.predict(X_test_clean_vectorized_count)\n",
    "accuracy_score(y_test, predictions_valid)"
   ]
  },
  {
   "cell_type": "code",
   "execution_count": 24,
   "metadata": {},
   "outputs": [
    {
     "data": {
      "text/plain": [
       "0.6060606060606061"
      ]
     },
     "execution_count": 24,
     "metadata": {},
     "output_type": "execute_result"
    }
   ],
   "source": [
    "model_nb = MultinomialNB().fit(X_train_clean_vectorized_bin, y_train)\n",
    "predictions_valid = model_nb.predict(X_test_clean_vectorized_bin)\n",
    "accuracy_score(y_test, predictions_valid)"
   ]
  },
  {
   "cell_type": "code",
   "execution_count": 25,
   "metadata": {},
   "outputs": [
    {
     "data": {
      "text/plain": [
       "0.5454545454545454"
      ]
     },
     "execution_count": 25,
     "metadata": {},
     "output_type": "execute_result"
    }
   ],
   "source": [
    "model_nb = MultinomialNB().fit(X_train_clean_vectorized_tfidf, y_train)\n",
    "predictions_valid = model_nb.predict(X_test_clean_vectorized_tfidf)\n",
    "accuracy_score(y_test, predictions_valid)"
   ]
  },
  {
   "cell_type": "markdown",
   "metadata": {},
   "source": [
    "#### b.3 Complement NB"
   ]
  },
  {
   "cell_type": "code",
   "execution_count": 26,
   "metadata": {},
   "outputs": [],
   "source": [
    "from sklearn.naive_bayes import ComplementNB"
   ]
  },
  {
   "cell_type": "code",
   "execution_count": 27,
   "metadata": {},
   "outputs": [
    {
     "data": {
      "text/plain": [
       "0.5454545454545454"
      ]
     },
     "execution_count": 27,
     "metadata": {},
     "output_type": "execute_result"
    }
   ],
   "source": [
    "model_comp = ComplementNB().fit(X_train_clean_vectorized_count, y_train)\n",
    "predictions_valid = model_comp.predict(X_test_clean_vectorized_count)\n",
    "accuracy_score(y_test, predictions_valid)"
   ]
  },
  {
   "cell_type": "code",
   "execution_count": 28,
   "metadata": {},
   "outputs": [
    {
     "data": {
      "text/plain": [
       "0.6060606060606061"
      ]
     },
     "execution_count": 28,
     "metadata": {},
     "output_type": "execute_result"
    }
   ],
   "source": [
    "model_comp = ComplementNB().fit(X_train_clean_vectorized_bin, y_train)\n",
    "predictions_valid = model_comp.predict(X_test_clean_vectorized_bin)\n",
    "accuracy_score(y_test, predictions_valid)"
   ]
  },
  {
   "cell_type": "code",
   "execution_count": 29,
   "metadata": {},
   "outputs": [
    {
     "data": {
      "text/plain": [
       "0.6666666666666666"
      ]
     },
     "execution_count": 29,
     "metadata": {},
     "output_type": "execute_result"
    }
   ],
   "source": [
    "model_comp = ComplementNB().fit(X_train_clean_vectorized_tfidf, y_train)\n",
    "predictions_valid = model_comp.predict(X_test_clean_vectorized_tfidf)\n",
    "accuracy_score(y_test, predictions_valid)"
   ]
  },
  {
   "cell_type": "markdown",
   "metadata": {},
   "source": [
    "#### b.4 BernoulliNB"
   ]
  },
  {
   "cell_type": "code",
   "execution_count": 30,
   "metadata": {},
   "outputs": [],
   "source": [
    "from sklearn.naive_bayes import BernoulliNB"
   ]
  },
  {
   "cell_type": "code",
   "execution_count": 31,
   "metadata": {},
   "outputs": [
    {
     "data": {
      "text/plain": [
       "0.36363636363636365"
      ]
     },
     "execution_count": 31,
     "metadata": {},
     "output_type": "execute_result"
    }
   ],
   "source": [
    "model_bern = BernoulliNB().fit(X_train_clean_vectorized_count, y_train)\n",
    "predictions_valid = model_bern.predict(X_test_clean_vectorized_count)\n",
    "accuracy_score(y_test, predictions_valid)"
   ]
  },
  {
   "cell_type": "code",
   "execution_count": 32,
   "metadata": {},
   "outputs": [
    {
     "data": {
      "text/plain": [
       "0.36363636363636365"
      ]
     },
     "execution_count": 32,
     "metadata": {},
     "output_type": "execute_result"
    }
   ],
   "source": [
    "model_bern = BernoulliNB().fit(X_train_clean_vectorized_bin, y_train)\n",
    "predictions_valid = model_bern.predict(X_test_clean_vectorized_bin)\n",
    "accuracy_score(y_test, predictions_valid)"
   ]
  },
  {
   "cell_type": "code",
   "execution_count": 33,
   "metadata": {},
   "outputs": [
    {
     "data": {
      "text/plain": [
       "0.36363636363636365"
      ]
     },
     "execution_count": 33,
     "metadata": {},
     "output_type": "execute_result"
    }
   ],
   "source": [
    "model_bern = BernoulliNB().fit(X_train_clean_vectorized_tfidf, y_train)\n",
    "predictions_valid = model_bern.predict(X_test_clean_vectorized_tfidf)\n",
    "accuracy_score(y_test, predictions_valid)"
   ]
  },
  {
   "cell_type": "markdown",
   "metadata": {},
   "source": [
    "#### b.5KNeighborsClassifier"
   ]
  },
  {
   "cell_type": "code",
   "execution_count": 34,
   "metadata": {},
   "outputs": [],
   "source": [
    "from sklearn.neighbors import KNeighborsClassifier"
   ]
  },
  {
   "cell_type": "code",
   "execution_count": 35,
   "metadata": {},
   "outputs": [
    {
     "data": {
      "text/plain": [
       "0.2727272727272727"
      ]
     },
     "execution_count": 35,
     "metadata": {},
     "output_type": "execute_result"
    }
   ],
   "source": [
    "model_knn = KNeighborsClassifier(4).fit(X_train_clean_vectorized_count, y_train)\n",
    "predictions_valid = model_knn.predict(X_test_clean_vectorized_count)\n",
    "accuracy_score(y_test, predictions_valid)"
   ]
  },
  {
   "cell_type": "code",
   "execution_count": 36,
   "metadata": {},
   "outputs": [
    {
     "data": {
      "text/plain": [
       "0.30303030303030304"
      ]
     },
     "execution_count": 36,
     "metadata": {},
     "output_type": "execute_result"
    }
   ],
   "source": [
    "model_knn = KNeighborsClassifier(4).fit(X_train_clean_vectorized_bin, y_train)\n",
    "predictions_valid = model_knn.predict(X_test_clean_vectorized_bin)\n",
    "accuracy_score(y_test, predictions_valid)"
   ]
  },
  {
   "cell_type": "code",
   "execution_count": 37,
   "metadata": {},
   "outputs": [
    {
     "data": {
      "text/plain": [
       "0.6363636363636364"
      ]
     },
     "execution_count": 37,
     "metadata": {},
     "output_type": "execute_result"
    }
   ],
   "source": [
    "model_knn = KNeighborsClassifier(4).fit(X_train_clean_vectorized_tfidf, y_train)\n",
    "predictions_valid = model_knn.predict(X_test_clean_vectorized_tfidf)\n",
    "accuracy_score(y_test, predictions_valid)"
   ]
  },
  {
   "cell_type": "markdown",
   "metadata": {},
   "source": [
    "#### b.7. SVM"
   ]
  },
  {
   "cell_type": "code",
   "execution_count": 38,
   "metadata": {},
   "outputs": [],
   "source": [
    "from sklearn.svm import SVC"
   ]
  },
  {
   "cell_type": "code",
   "execution_count": 39,
   "metadata": {},
   "outputs": [
    {
     "data": {
      "text/plain": [
       "0.3939393939393939"
      ]
     },
     "execution_count": 39,
     "metadata": {},
     "output_type": "execute_result"
    }
   ],
   "source": [
    "model_svm = SVC(kernel='linear', C=0.9).fit(X_train_clean_vectorized_count, y_train)\n",
    "predictions_valid = model_svm.predict(X_test_clean_vectorized_count)\n",
    "accuracy_score(y_test, predictions_valid)"
   ]
  },
  {
   "cell_type": "code",
   "execution_count": 40,
   "metadata": {},
   "outputs": [
    {
     "data": {
      "text/plain": [
       "0.3939393939393939"
      ]
     },
     "execution_count": 40,
     "metadata": {},
     "output_type": "execute_result"
    }
   ],
   "source": [
    "model_svm = SVC(kernel='linear', C=0.9).fit(X_train_clean_vectorized_bin, y_train)\n",
    "predictions_valid = model_svm.predict(X_test_clean_vectorized_bin)\n",
    "accuracy_score(y_test, predictions_valid)"
   ]
  },
  {
   "cell_type": "code",
   "execution_count": 41,
   "metadata": {},
   "outputs": [
    {
     "data": {
      "text/plain": [
       "0.5757575757575758"
      ]
     },
     "execution_count": 41,
     "metadata": {},
     "output_type": "execute_result"
    }
   ],
   "source": [
    "model_svm = SVC(kernel='linear', C=0.9).fit(X_train_clean_vectorized_tfidf, y_train)\n",
    "predictions_valid = model_svm.predict(X_test_clean_vectorized_tfidf)\n",
    "accuracy_score(y_test, predictions_valid)"
   ]
  },
  {
   "cell_type": "markdown",
   "metadata": {},
   "source": [
    "#### b.8 Réseaux de neurones de convolution"
   ]
  },
  {
   "cell_type": "code",
   "execution_count": 42,
   "metadata": {},
   "outputs": [
    {
     "name": "stderr",
     "output_type": "stream",
     "text": [
      "Using TensorFlow backend.\n"
     ]
    }
   ],
   "source": [
    "from keras.models import Sequential\n",
    "from keras.layers import LSTM, Embedding, Dense, SpatialDropout1D, MaxPooling1D, Conv1D, Flatten, MaxPooling2D, Conv2D"
   ]
  },
  {
   "cell_type": "code",
   "execution_count": 43,
   "metadata": {},
   "outputs": [],
   "source": [
    "XX_train = X_train_clean_vectorized_tfidf.toarray().reshape(X_train_clean_vectorized_tfidf.shape[0],1,\n",
    "                                                X_train_clean_vectorized_tfidf.shape[1])\n",
    "XX_test = X_test_clean_vectorized_tfidf.toarray().reshape(X_test_clean_vectorized_tfidf.shape[0],1,\n",
    "                                                X_test_clean_vectorized_tfidf.shape[1])\n",
    "YY_train = pd.get_dummies(y_train)\n",
    "YY_test = pd.get_dummies(y_test)"
   ]
  },
  {
   "cell_type": "code",
   "execution_count": 49,
   "metadata": {},
   "outputs": [
    {
     "name": "stdout",
     "output_type": "stream",
     "text": [
      "Train on 45 samples, validate on 30 samples\n",
      "Epoch 1/150\n",
      "45/45 [==============================] - ETA: 0s - loss: 1.6218 - accuracy: 0.12 - 0s 5ms/step - loss: 1.6177 - accuracy: 0.1556 - val_loss: 1.6150 - val_accuracy: 0.1333\n",
      "Epoch 2/150\n",
      "45/45 [==============================] - ETA: 0s - loss: 1.6106 - accuracy: 0.28 - 0s 600us/step - loss: 1.6069 - accuracy: 0.2667 - val_loss: 1.6119 - val_accuracy: 0.2000\n",
      "Epoch 3/150\n",
      "45/45 [==============================] - ETA: 0s - loss: 1.6006 - accuracy: 0.31 - 0s 667us/step - loss: 1.5989 - accuracy: 0.3333 - val_loss: 1.6093 - val_accuracy: 0.2000\n",
      "Epoch 4/150\n",
      "45/45 [==============================] - ETA: 0s - loss: 1.5986 - accuracy: 0.37 - 0s 511us/step - loss: 1.5911 - accuracy: 0.4444 - val_loss: 1.6067 - val_accuracy: 0.3000\n",
      "Epoch 5/150\n",
      "45/45 [==============================] - ETA: 0s - loss: 1.5803 - accuracy: 0.50 - 0s 555us/step - loss: 1.5837 - accuracy: 0.4667 - val_loss: 1.6044 - val_accuracy: 0.3333\n",
      "Epoch 6/150\n",
      "45/45 [==============================] - ETA: 0s - loss: 1.5785 - accuracy: 0.53 - 0s 555us/step - loss: 1.5765 - accuracy: 0.5556 - val_loss: 1.6022 - val_accuracy: 0.3333\n",
      "Epoch 7/150\n",
      "45/45 [==============================] - ETA: 0s - loss: 1.5652 - accuracy: 0.65 - 0s 600us/step - loss: 1.5696 - accuracy: 0.6000 - val_loss: 1.6000 - val_accuracy: 0.3333\n",
      "Epoch 8/150\n",
      "45/45 [==============================] - ETA: 0s - loss: 1.5651 - accuracy: 0.59 - 0s 467us/step - loss: 1.5624 - accuracy: 0.5778 - val_loss: 1.5977 - val_accuracy: 0.3333\n",
      "Epoch 9/150\n",
      "45/45 [==============================] - ETA: 0s - loss: 1.5682 - accuracy: 0.53 - 0s 622us/step - loss: 1.5551 - accuracy: 0.5778 - val_loss: 1.5956 - val_accuracy: 0.3333\n",
      "Epoch 10/150\n",
      "45/45 [==============================] - ETA: 0s - loss: 1.5389 - accuracy: 0.65 - 0s 599us/step - loss: 1.5482 - accuracy: 0.6000 - val_loss: 1.5934 - val_accuracy: 0.2667\n",
      "Epoch 11/150\n",
      "45/45 [==============================] - ETA: 0s - loss: 1.5520 - accuracy: 0.56 - 0s 444us/step - loss: 1.5400 - accuracy: 0.6000 - val_loss: 1.5913 - val_accuracy: 0.2667\n",
      "Epoch 12/150\n",
      "45/45 [==============================] - ETA: 0s - loss: 1.5375 - accuracy: 0.59 - 0s 644us/step - loss: 1.5317 - accuracy: 0.6000 - val_loss: 1.5891 - val_accuracy: 0.2667\n",
      "Epoch 13/150\n",
      "45/45 [==============================] - ETA: 0s - loss: 1.5343 - accuracy: 0.53 - 0s 444us/step - loss: 1.5228 - accuracy: 0.6000 - val_loss: 1.5868 - val_accuracy: 0.2667\n",
      "Epoch 14/150\n",
      "45/45 [==============================] - ETA: 0s - loss: 1.5152 - accuracy: 0.62 - 0s 689us/step - loss: 1.5138 - accuracy: 0.6000 - val_loss: 1.5844 - val_accuracy: 0.2667\n",
      "Epoch 15/150\n",
      "45/45 [==============================] - ETA: 0s - loss: 1.5007 - accuracy: 0.65 - 0s 1ms/step - loss: 1.5043 - accuracy: 0.6667 - val_loss: 1.5819 - val_accuracy: 0.2667\n",
      "Epoch 16/150\n",
      "45/45 [==============================] - ETA: 0s - loss: 1.4943 - accuracy: 0.75 - 0s 578us/step - loss: 1.4942 - accuracy: 0.7111 - val_loss: 1.5790 - val_accuracy: 0.3333\n",
      "Epoch 17/150\n",
      "45/45 [==============================] - ETA: 0s - loss: 1.4810 - accuracy: 0.65 - 0s 911us/step - loss: 1.4835 - accuracy: 0.7111 - val_loss: 1.5762 - val_accuracy: 0.3667\n",
      "Epoch 18/150\n",
      "45/45 [==============================] - ETA: 0s - loss: 1.4658 - accuracy: 0.71 - 0s 733us/step - loss: 1.4725 - accuracy: 0.7111 - val_loss: 1.5732 - val_accuracy: 0.3667\n",
      "Epoch 19/150\n",
      "45/45 [==============================] - ETA: 0s - loss: 1.4595 - accuracy: 0.71 - 0s 444us/step - loss: 1.4610 - accuracy: 0.7333 - val_loss: 1.5699 - val_accuracy: 0.3667\n",
      "Epoch 20/150\n",
      "45/45 [==============================] - ETA: 0s - loss: 1.4655 - accuracy: 0.65 - 0s 511us/step - loss: 1.4481 - accuracy: 0.7333 - val_loss: 1.5662 - val_accuracy: 0.4000\n",
      "Epoch 21/150\n",
      "45/45 [==============================] - ETA: 0s - loss: 1.4231 - accuracy: 0.81 - 0s 533us/step - loss: 1.4359 - accuracy: 0.7556 - val_loss: 1.5623 - val_accuracy: 0.4000\n",
      "Epoch 22/150\n",
      "45/45 [==============================] - ETA: 0s - loss: 1.4098 - accuracy: 0.78 - 0s 689us/step - loss: 1.4223 - accuracy: 0.7333 - val_loss: 1.5587 - val_accuracy: 0.4000\n",
      "Epoch 23/150\n",
      "45/45 [==============================] - ETA: 0s - loss: 1.3945 - accuracy: 0.78 - 0s 578us/step - loss: 1.4078 - accuracy: 0.7333 - val_loss: 1.5545 - val_accuracy: 0.4000\n",
      "Epoch 24/150\n",
      "45/45 [==============================] - ETA: 0s - loss: 1.3795 - accuracy: 0.75 - 0s 444us/step - loss: 1.3927 - accuracy: 0.7333 - val_loss: 1.5500 - val_accuracy: 0.4000\n",
      "Epoch 25/150\n",
      "45/45 [==============================] - ETA: 0s - loss: 1.3853 - accuracy: 0.78 - 0s 600us/step - loss: 1.3763 - accuracy: 0.7556 - val_loss: 1.5453 - val_accuracy: 0.4000\n",
      "Epoch 26/150\n",
      "45/45 [==============================] - ETA: 0s - loss: 1.3418 - accuracy: 0.81 - 0s 689us/step - loss: 1.3609 - accuracy: 0.8000 - val_loss: 1.5399 - val_accuracy: 0.4000\n",
      "Epoch 27/150\n",
      "45/45 [==============================] - ETA: 0s - loss: 1.3555 - accuracy: 0.81 - 0s 444us/step - loss: 1.3426 - accuracy: 0.8222 - val_loss: 1.5336 - val_accuracy: 0.4000\n",
      "Epoch 28/150\n",
      "45/45 [==============================] - ETA: 0s - loss: 1.3475 - accuracy: 0.87 - 0s 689us/step - loss: 1.3249 - accuracy: 0.8667 - val_loss: 1.5273 - val_accuracy: 0.4000\n",
      "Epoch 29/150\n",
      "45/45 [==============================] - ETA: 0s - loss: 1.2844 - accuracy: 0.87 - 0s 600us/step - loss: 1.3067 - accuracy: 0.8667 - val_loss: 1.5210 - val_accuracy: 0.4000\n",
      "Epoch 30/150\n",
      "45/45 [==============================] - ETA: 0s - loss: 1.2571 - accuracy: 0.87 - 0s 600us/step - loss: 1.2867 - accuracy: 0.8667 - val_loss: 1.5143 - val_accuracy: 0.4000\n",
      "Epoch 31/150\n",
      "45/45 [==============================] - ETA: 0s - loss: 1.2653 - accuracy: 0.90 - 0s 578us/step - loss: 1.2666 - accuracy: 0.8889 - val_loss: 1.5071 - val_accuracy: 0.4000\n",
      "Epoch 32/150\n",
      "45/45 [==============================] - ETA: 0s - loss: 1.2498 - accuracy: 0.87 - 0s 667us/step - loss: 1.2458 - accuracy: 0.8889 - val_loss: 1.5005 - val_accuracy: 0.4000\n",
      "Epoch 33/150\n",
      "45/45 [==============================] - ETA: 0s - loss: 1.2475 - accuracy: 0.84 - 0s 422us/step - loss: 1.2245 - accuracy: 0.8889 - val_loss: 1.4937 - val_accuracy: 0.4000\n",
      "Epoch 34/150\n",
      "45/45 [==============================] - ETA: 0s - loss: 1.2156 - accuracy: 0.90 - 0s 644us/step - loss: 1.2027 - accuracy: 0.9111 - val_loss: 1.4865 - val_accuracy: 0.4000\n",
      "Epoch 35/150\n",
      "45/45 [==============================] - ETA: 0s - loss: 1.1804 - accuracy: 0.87 - 0s 667us/step - loss: 1.1802 - accuracy: 0.9111 - val_loss: 1.4789 - val_accuracy: 0.4000\n",
      "Epoch 36/150\n",
      "45/45 [==============================] - ETA: 0s - loss: 1.1636 - accuracy: 0.93 - 0s 466us/step - loss: 1.1573 - accuracy: 0.9111 - val_loss: 1.4709 - val_accuracy: 0.4000\n",
      "Epoch 37/150\n",
      "45/45 [==============================] - ETA: 0s - loss: 1.1414 - accuracy: 0.87 - 0s 711us/step - loss: 1.1337 - accuracy: 0.9111 - val_loss: 1.4634 - val_accuracy: 0.4000\n",
      "Epoch 38/150\n",
      "45/45 [==============================] - ETA: 0s - loss: 1.1386 - accuracy: 0.87 - 0s 644us/step - loss: 1.1100 - accuracy: 0.9111 - val_loss: 1.4559 - val_accuracy: 0.4000\n",
      "Epoch 39/150\n",
      "45/45 [==============================] - ETA: 0s - loss: 1.0623 - accuracy: 0.90 - 0s 511us/step - loss: 1.0866 - accuracy: 0.9111 - val_loss: 1.4480 - val_accuracy: 0.4333\n",
      "Epoch 40/150\n",
      "45/45 [==============================] - ETA: 0s - loss: 1.0540 - accuracy: 0.93 - 0s 444us/step - loss: 1.0625 - accuracy: 0.9111 - val_loss: 1.4394 - val_accuracy: 0.4333\n",
      "Epoch 41/150\n",
      "45/45 [==============================] - ETA: 0s - loss: 1.0318 - accuracy: 0.87 - 0s 578us/step - loss: 1.0376 - accuracy: 0.9111 - val_loss: 1.4301 - val_accuracy: 0.4333\n",
      "Epoch 42/150\n",
      "45/45 [==============================] - ETA: 0s - loss: 1.0121 - accuracy: 0.93 - 0s 600us/step - loss: 1.0128 - accuracy: 0.9333 - val_loss: 1.4208 - val_accuracy: 0.4333\n",
      "Epoch 43/150\n",
      "45/45 [==============================] - ETA: 0s - loss: 0.9943 - accuracy: 0.90 - 0s 711us/step - loss: 0.9883 - accuracy: 0.9333 - val_loss: 1.4114 - val_accuracy: 0.4333\n",
      "Epoch 44/150\n",
      "45/45 [==============================] - ETA: 0s - loss: 0.9853 - accuracy: 0.93 - 0s 311us/step - loss: 0.9636 - accuracy: 0.9333 - val_loss: 1.4019 - val_accuracy: 0.4333\n"
     ]
    },
    {
     "name": "stdout",
     "output_type": "stream",
     "text": [
      "Epoch 45/150\n",
      "45/45 [==============================] - ETA: 0s - loss: 0.9349 - accuracy: 0.90 - 0s 378us/step - loss: 0.9384 - accuracy: 0.9333 - val_loss: 1.3925 - val_accuracy: 0.4333\n",
      "Epoch 46/150\n",
      "45/45 [==============================] - ETA: 0s - loss: 0.9181 - accuracy: 0.93 - 0s 578us/step - loss: 0.9134 - accuracy: 0.9333 - val_loss: 1.3833 - val_accuracy: 0.4333\n",
      "Epoch 47/150\n",
      "45/45 [==============================] - ETA: 0s - loss: 0.8999 - accuracy: 0.93 - 0s 511us/step - loss: 0.8875 - accuracy: 0.9333 - val_loss: 1.3733 - val_accuracy: 0.4333\n",
      "Epoch 48/150\n",
      "45/45 [==============================] - ETA: 0s - loss: 0.8467 - accuracy: 0.90 - 0s 578us/step - loss: 0.8625 - accuracy: 0.9333 - val_loss: 1.3630 - val_accuracy: 0.4333\n",
      "Epoch 49/150\n",
      "45/45 [==============================] - ETA: 0s - loss: 0.8369 - accuracy: 0.93 - 0s 400us/step - loss: 0.8372 - accuracy: 0.9333 - val_loss: 1.3535 - val_accuracy: 0.4333\n",
      "Epoch 50/150\n",
      "45/45 [==============================] - ETA: 0s - loss: 0.7745 - accuracy: 0.93 - 0s 667us/step - loss: 0.8126 - accuracy: 0.9333 - val_loss: 1.3449 - val_accuracy: 0.4333\n",
      "Epoch 51/150\n",
      "45/45 [==============================] - ETA: 0s - loss: 0.7252 - accuracy: 0.93 - 0s 422us/step - loss: 0.7869 - accuracy: 0.9333 - val_loss: 1.3361 - val_accuracy: 0.4333\n",
      "Epoch 52/150\n",
      "45/45 [==============================] - ETA: 0s - loss: 0.7317 - accuracy: 0.96 - 0s 422us/step - loss: 0.7625 - accuracy: 0.9333 - val_loss: 1.3267 - val_accuracy: 0.4333\n",
      "Epoch 53/150\n",
      "45/45 [==============================] - ETA: 0s - loss: 0.7444 - accuracy: 0.93 - 0s 422us/step - loss: 0.7384 - accuracy: 0.9333 - val_loss: 1.3180 - val_accuracy: 0.4333\n",
      "Epoch 54/150\n",
      "45/45 [==============================] - ETA: 0s - loss: 0.6315 - accuracy: 0.93 - 0s 444us/step - loss: 0.7143 - accuracy: 0.9333 - val_loss: 1.3101 - val_accuracy: 0.4000\n",
      "Epoch 55/150\n",
      "45/45 [==============================] - ETA: 0s - loss: 0.6480 - accuracy: 0.96 - 0s 422us/step - loss: 0.6903 - accuracy: 0.9333 - val_loss: 1.3009 - val_accuracy: 0.4000\n",
      "Epoch 56/150\n",
      "45/45 [==============================] - ETA: 0s - loss: 0.6872 - accuracy: 0.93 - 0s 489us/step - loss: 0.6679 - accuracy: 0.9556 - val_loss: 1.2901 - val_accuracy: 0.4000\n",
      "Epoch 57/150\n",
      "45/45 [==============================] - ETA: 0s - loss: 0.6564 - accuracy: 0.96 - 0s 400us/step - loss: 0.6447 - accuracy: 0.9556 - val_loss: 1.2793 - val_accuracy: 0.4000\n",
      "Epoch 58/150\n",
      "45/45 [==============================] - ETA: 0s - loss: 0.6237 - accuracy: 0.93 - 0s 556us/step - loss: 0.6222 - accuracy: 0.9556 - val_loss: 1.2699 - val_accuracy: 0.4000\n",
      "Epoch 59/150\n",
      "45/45 [==============================] - ETA: 0s - loss: 0.5688 - accuracy: 0.96 - 0s 533us/step - loss: 0.6005 - accuracy: 0.9778 - val_loss: 1.2603 - val_accuracy: 0.4000\n",
      "Epoch 60/150\n",
      "45/45 [==============================] - ETA: 0s - loss: 0.6209 - accuracy: 0.96 - 0s 489us/step - loss: 0.5790 - accuracy: 0.9778 - val_loss: 1.2496 - val_accuracy: 0.4000\n",
      "Epoch 61/150\n",
      "45/45 [==============================] - ETA: 0s - loss: 0.5860 - accuracy: 0.96 - 0s 511us/step - loss: 0.5583 - accuracy: 0.9778 - val_loss: 1.2392 - val_accuracy: 0.4000\n",
      "Epoch 62/150\n",
      "45/45 [==============================] - ETA: 0s - loss: 0.5506 - accuracy: 1.00 - 0s 533us/step - loss: 0.5379 - accuracy: 0.9778 - val_loss: 1.2288 - val_accuracy: 0.4333\n",
      "Epoch 63/150\n",
      "45/45 [==============================] - ETA: 0s - loss: 0.5143 - accuracy: 1.00 - 0s 422us/step - loss: 0.5184 - accuracy: 0.9778 - val_loss: 1.2199 - val_accuracy: 0.4333\n",
      "Epoch 64/150\n",
      "45/45 [==============================] - ETA: 0s - loss: 0.4984 - accuracy: 0.96 - 0s 489us/step - loss: 0.4991 - accuracy: 0.9778 - val_loss: 1.2124 - val_accuracy: 0.4333\n",
      "Epoch 65/150\n",
      "45/45 [==============================] - ETA: 0s - loss: 0.5075 - accuracy: 0.96 - 0s 489us/step - loss: 0.4807 - accuracy: 0.9778 - val_loss: 1.2044 - val_accuracy: 0.4333\n",
      "Epoch 66/150\n",
      "45/45 [==============================] - ETA: 0s - loss: 0.5106 - accuracy: 0.96 - 0s 400us/step - loss: 0.4627 - accuracy: 0.9778 - val_loss: 1.1963 - val_accuracy: 0.4333\n",
      "Epoch 67/150\n",
      "45/45 [==============================] - ETA: 0s - loss: 0.4796 - accuracy: 0.96 - 0s 400us/step - loss: 0.4456 - accuracy: 0.9778 - val_loss: 1.1878 - val_accuracy: 0.4333\n",
      "Epoch 68/150\n",
      "45/45 [==============================] - ETA: 0s - loss: 0.4926 - accuracy: 0.96 - 0s 467us/step - loss: 0.4288 - accuracy: 0.9778 - val_loss: 1.1802 - val_accuracy: 0.4333\n",
      "Epoch 69/150\n",
      "45/45 [==============================] - ETA: 0s - loss: 0.4497 - accuracy: 0.96 - 0s 444us/step - loss: 0.4126 - accuracy: 0.9778 - val_loss: 1.1727 - val_accuracy: 0.4333\n",
      "Epoch 70/150\n",
      "45/45 [==============================] - ETA: 0s - loss: 0.4021 - accuracy: 0.96 - 0s 400us/step - loss: 0.3968 - accuracy: 0.9778 - val_loss: 1.1650 - val_accuracy: 0.4667\n",
      "Epoch 71/150\n",
      "45/45 [==============================] - ETA: 0s - loss: 0.4261 - accuracy: 0.96 - 0s 511us/step - loss: 0.3817 - accuracy: 0.9778 - val_loss: 1.1564 - val_accuracy: 0.4667\n",
      "Epoch 72/150\n",
      "45/45 [==============================] - ETA: 0s - loss: 0.3669 - accuracy: 0.96 - 0s 467us/step - loss: 0.3665 - accuracy: 0.9778 - val_loss: 1.1488 - val_accuracy: 0.4667\n",
      "Epoch 73/150\n",
      "45/45 [==============================] - ETA: 0s - loss: 0.3604 - accuracy: 0.96 - 0s 445us/step - loss: 0.3526 - accuracy: 0.9778 - val_loss: 1.1418 - val_accuracy: 0.4667\n",
      "Epoch 74/150\n",
      "45/45 [==============================] - ETA: 0s - loss: 0.3321 - accuracy: 0.96 - 0s 533us/step - loss: 0.3389 - accuracy: 0.9778 - val_loss: 1.1331 - val_accuracy: 0.4667\n",
      "Epoch 75/150\n",
      "45/45 [==============================] - ETA: 0s - loss: 0.3461 - accuracy: 1.00 - 0s 489us/step - loss: 0.3267 - accuracy: 0.9778 - val_loss: 1.1237 - val_accuracy: 0.4667\n",
      "Epoch 76/150\n",
      "45/45 [==============================] - ETA: 0s - loss: 0.3228 - accuracy: 1.00 - 0s 444us/step - loss: 0.3132 - accuracy: 0.9778 - val_loss: 1.1168 - val_accuracy: 0.4667\n",
      "Epoch 77/150\n",
      "45/45 [==============================] - ETA: 0s - loss: 0.3141 - accuracy: 0.96 - 0s 444us/step - loss: 0.3011 - accuracy: 0.9778 - val_loss: 1.1111 - val_accuracy: 0.4667\n",
      "Epoch 78/150\n",
      "45/45 [==============================] - ETA: 0s - loss: 0.2663 - accuracy: 1.00 - 0s 444us/step - loss: 0.2887 - accuracy: 0.9778 - val_loss: 1.1052 - val_accuracy: 0.4667\n",
      "Epoch 79/150\n",
      "45/45 [==============================] - ETA: 0s - loss: 0.2263 - accuracy: 1.00 - 0s 444us/step - loss: 0.2776 - accuracy: 0.9778 - val_loss: 1.0986 - val_accuracy: 0.5000\n",
      "Epoch 80/150\n",
      "45/45 [==============================] - ETA: 0s - loss: 0.2988 - accuracy: 0.96 - 0s 467us/step - loss: 0.2675 - accuracy: 0.9778 - val_loss: 1.0913 - val_accuracy: 0.5000\n",
      "Epoch 81/150\n",
      "45/45 [==============================] - ETA: 0s - loss: 0.2560 - accuracy: 0.96 - 0s 422us/step - loss: 0.2572 - accuracy: 0.9778 - val_loss: 1.0845 - val_accuracy: 0.5000\n",
      "Epoch 82/150\n",
      "45/45 [==============================] - ETA: 0s - loss: 0.2676 - accuracy: 1.00 - 0s 511us/step - loss: 0.2491 - accuracy: 0.9778 - val_loss: 1.0768 - val_accuracy: 0.5333\n",
      "Epoch 83/150\n",
      "45/45 [==============================] - ETA: 0s - loss: 0.2329 - accuracy: 0.96 - 0s 467us/step - loss: 0.2392 - accuracy: 0.9778 - val_loss: 1.0685 - val_accuracy: 0.5333\n",
      "Epoch 84/150\n",
      "45/45 [==============================] - ETA: 0s - loss: 0.2147 - accuracy: 0.96 - 0s 511us/step - loss: 0.2299 - accuracy: 0.9778 - val_loss: 1.0616 - val_accuracy: 0.5333\n",
      "Epoch 85/150\n",
      "45/45 [==============================] - ETA: 0s - loss: 0.2558 - accuracy: 0.96 - 0s 489us/step - loss: 0.2222 - accuracy: 0.9778 - val_loss: 1.0537 - val_accuracy: 0.5333\n",
      "Epoch 86/150\n",
      "45/45 [==============================] - ETA: 0s - loss: 0.2154 - accuracy: 0.96 - 0s 422us/step - loss: 0.2144 - accuracy: 0.9778 - val_loss: 1.0477 - val_accuracy: 0.5333\n",
      "Epoch 87/150\n",
      "45/45 [==============================] - ETA: 0s - loss: 0.2187 - accuracy: 1.00 - 0s 422us/step - loss: 0.2072 - accuracy: 0.9778 - val_loss: 1.0431 - val_accuracy: 0.5333\n",
      "Epoch 88/150\n",
      "45/45 [==============================] - ETA: 0s - loss: 0.1843 - accuracy: 0.96 - 0s 400us/step - loss: 0.1993 - accuracy: 0.9778 - val_loss: 1.0363 - val_accuracy: 0.5333\n",
      "Epoch 89/150\n",
      "45/45 [==============================] - ETA: 0s - loss: 0.2098 - accuracy: 0.96 - 0s 467us/step - loss: 0.1928 - accuracy: 0.9778 - val_loss: 1.0287 - val_accuracy: 0.5333\n",
      "Epoch 90/150\n",
      "45/45 [==============================] - ETA: 0s - loss: 0.2080 - accuracy: 0.96 - 0s 422us/step - loss: 0.1861 - accuracy: 0.9778 - val_loss: 1.0225 - val_accuracy: 0.5333\n",
      "Epoch 91/150\n",
      "45/45 [==============================] - ETA: 0s - loss: 0.2067 - accuracy: 0.96 - 0s 467us/step - loss: 0.1800 - accuracy: 0.9778 - val_loss: 1.0174 - val_accuracy: 0.5333\n",
      "Epoch 92/150\n",
      "45/45 [==============================] - ETA: 0s - loss: 0.1524 - accuracy: 0.96 - 0s 400us/step - loss: 0.1742 - accuracy: 0.9556 - val_loss: 1.0123 - val_accuracy: 0.5667\n",
      "Epoch 93/150\n",
      "45/45 [==============================] - ETA: 0s - loss: 0.1945 - accuracy: 0.96 - 0s 422us/step - loss: 0.1684 - accuracy: 0.9778 - val_loss: 1.0079 - val_accuracy: 0.5667\n",
      "Epoch 94/150\n",
      "45/45 [==============================] - ETA: 0s - loss: 0.1614 - accuracy: 1.00 - 0s 444us/step - loss: 0.1637 - accuracy: 0.9778 - val_loss: 1.0028 - val_accuracy: 0.5667\n",
      "Epoch 95/150\n",
      "45/45 [==============================] - ETA: 0s - loss: 0.1459 - accuracy: 0.96 - 0s 444us/step - loss: 0.1587 - accuracy: 0.9556 - val_loss: 0.9961 - val_accuracy: 0.5667\n",
      "Epoch 96/150\n",
      "45/45 [==============================] - ETA: 0s - loss: 0.1708 - accuracy: 0.96 - 0s 467us/step - loss: 0.1533 - accuracy: 0.9778 - val_loss: 0.9917 - val_accuracy: 0.5667\n",
      "Epoch 97/150\n",
      "45/45 [==============================] - ETA: 0s - loss: 0.1733 - accuracy: 0.96 - 0s 489us/step - loss: 0.1489 - accuracy: 0.9778 - val_loss: 0.9876 - val_accuracy: 0.6000\n",
      "Epoch 98/150\n",
      "45/45 [==============================] - ETA: 0s - loss: 0.1479 - accuracy: 0.96 - 0s 422us/step - loss: 0.1443 - accuracy: 0.9778 - val_loss: 0.9835 - val_accuracy: 0.6000\n",
      "Epoch 99/150\n",
      "45/45 [==============================] - ETA: 0s - loss: 0.1580 - accuracy: 0.96 - 0s 378us/step - loss: 0.1404 - accuracy: 0.9778 - val_loss: 0.9786 - val_accuracy: 0.6000\n",
      "Epoch 100/150\n",
      "45/45 [==============================] - ETA: 0s - loss: 0.1031 - accuracy: 1.00 - 0s 467us/step - loss: 0.1366 - accuracy: 0.9778 - val_loss: 0.9747 - val_accuracy: 0.6000\n",
      "Epoch 101/150\n",
      "45/45 [==============================] - ETA: 0s - loss: 0.1202 - accuracy: 1.00 - 0s 444us/step - loss: 0.1333 - accuracy: 0.9778 - val_loss: 0.9723 - val_accuracy: 0.6000\n",
      "Epoch 102/150\n",
      "45/45 [==============================] - ETA: 0s - loss: 0.1181 - accuracy: 1.00 - 0s 422us/step - loss: 0.1293 - accuracy: 0.9778 - val_loss: 0.9682 - val_accuracy: 0.6000\n",
      "Epoch 103/150\n",
      "45/45 [==============================] - ETA: 0s - loss: 0.1332 - accuracy: 0.96 - 0s 422us/step - loss: 0.1256 - accuracy: 0.9778 - val_loss: 0.9636 - val_accuracy: 0.6000\n",
      "Epoch 104/150\n",
      "45/45 [==============================] - ETA: 0s - loss: 0.1361 - accuracy: 0.96 - 0s 400us/step - loss: 0.1224 - accuracy: 0.9778 - val_loss: 0.9585 - val_accuracy: 0.6000\n",
      "Epoch 105/150\n",
      "45/45 [==============================] - ETA: 0s - loss: 0.0855 - accuracy: 1.00 - 0s 422us/step - loss: 0.1193 - accuracy: 0.9778 - val_loss: 0.9542 - val_accuracy: 0.6000\n",
      "Epoch 106/150\n",
      "45/45 [==============================] - ETA: 0s - loss: 0.1164 - accuracy: 0.96 - 0s 422us/step - loss: 0.1166 - accuracy: 0.9778 - val_loss: 0.9492 - val_accuracy: 0.6000\n",
      "Epoch 107/150\n",
      "45/45 [==============================] - ETA: 0s - loss: 0.1232 - accuracy: 0.96 - 0s 444us/step - loss: 0.1135 - accuracy: 0.9778 - val_loss: 0.9440 - val_accuracy: 0.6000\n",
      "Epoch 108/150\n",
      "45/45 [==============================] - ETA: 0s - loss: 0.1016 - accuracy: 0.96 - 0s 400us/step - loss: 0.1108 - accuracy: 0.9778 - val_loss: 0.9398 - val_accuracy: 0.6333\n",
      "Epoch 109/150\n",
      "45/45 [==============================] - ETA: 0s - loss: 0.0998 - accuracy: 0.96 - 0s 467us/step - loss: 0.1086 - accuracy: 0.9778 - val_loss: 0.9358 - val_accuracy: 0.6333\n",
      "Epoch 110/150\n",
      "45/45 [==============================] - ETA: 0s - loss: 0.1012 - accuracy: 0.96 - 0s 444us/step - loss: 0.1060 - accuracy: 0.9778 - val_loss: 0.9305 - val_accuracy: 0.6333\n",
      "Epoch 111/150\n",
      "45/45 [==============================] - ETA: 0s - loss: 0.1273 - accuracy: 0.96 - 0s 400us/step - loss: 0.1043 - accuracy: 0.9778 - val_loss: 0.9250 - val_accuracy: 0.6333\n",
      "Epoch 112/150\n",
      "45/45 [==============================] - ETA: 0s - loss: 0.0564 - accuracy: 1.00 - 0s 444us/step - loss: 0.1026 - accuracy: 0.9778 - val_loss: 0.9220 - val_accuracy: 0.6333\n",
      "Epoch 113/150\n",
      "45/45 [==============================] - ETA: 0s - loss: 0.0732 - accuracy: 1.00 - 0s 422us/step - loss: 0.1007 - accuracy: 0.9778 - val_loss: 0.9216 - val_accuracy: 0.6333\n",
      "Epoch 114/150\n",
      "45/45 [==============================] - ETA: 0s - loss: 0.1051 - accuracy: 0.96 - 0s 422us/step - loss: 0.0991 - accuracy: 0.9778 - val_loss: 0.9233 - val_accuracy: 0.6333\n",
      "Epoch 115/150\n",
      "45/45 [==============================] - ETA: 0s - loss: 0.1104 - accuracy: 0.96 - 0s 489us/step - loss: 0.0958 - accuracy: 0.9778 - val_loss: 0.9233 - val_accuracy: 0.6333\n",
      "Epoch 116/150\n",
      "45/45 [==============================] - ETA: 0s - loss: 0.0624 - accuracy: 1.00 - 0s 422us/step - loss: 0.0935 - accuracy: 0.9778 - val_loss: 0.9226 - val_accuracy: 0.6333\n",
      "Epoch 117/150\n",
      "45/45 [==============================] - ETA: 0s - loss: 0.0713 - accuracy: 1.00 - 0s 467us/step - loss: 0.0915 - accuracy: 0.9778 - val_loss: 0.9221 - val_accuracy: 0.6333\n",
      "Epoch 118/150\n",
      "45/45 [==============================] - ETA: 0s - loss: 0.1087 - accuracy: 0.96 - 0s 400us/step - loss: 0.0899 - accuracy: 0.9778 - val_loss: 0.9233 - val_accuracy: 0.6000\n",
      "Epoch 119/150\n",
      "45/45 [==============================] - ETA: 0s - loss: 0.0932 - accuracy: 0.96 - 0s 489us/step - loss: 0.0882 - accuracy: 0.9778 - val_loss: 0.9242 - val_accuracy: 0.6000\n",
      "Epoch 120/150\n",
      "45/45 [==============================] - ETA: 0s - loss: 0.0683 - accuracy: 0.96 - 0s 489us/step - loss: 0.0866 - accuracy: 0.9778 - val_loss: 0.9239 - val_accuracy: 0.6000\n",
      "Epoch 121/150\n",
      "45/45 [==============================] - ETA: 0s - loss: 0.0814 - accuracy: 0.96 - 0s 467us/step - loss: 0.0853 - accuracy: 0.9778 - val_loss: 0.9240 - val_accuracy: 0.6000\n",
      "Epoch 122/150\n",
      "45/45 [==============================] - ETA: 0s - loss: 0.0625 - accuracy: 1.00 - 0s 511us/step - loss: 0.0860 - accuracy: 0.9778 - val_loss: 0.9239 - val_accuracy: 0.6000\n",
      "Epoch 123/150\n",
      "45/45 [==============================] - ETA: 0s - loss: 0.0702 - accuracy: 1.00 - 0s 467us/step - loss: 0.0840 - accuracy: 0.9778 - val_loss: 0.9198 - val_accuracy: 0.6000\n",
      "Epoch 124/150\n",
      "45/45 [==============================] - ETA: 0s - loss: 0.0509 - accuracy: 1.00 - 0s 467us/step - loss: 0.0816 - accuracy: 0.9778 - val_loss: 0.9135 - val_accuracy: 0.6000\n",
      "Epoch 125/150\n",
      "45/45 [==============================] - ETA: 0s - loss: 0.0598 - accuracy: 1.00 - 0s 467us/step - loss: 0.0799 - accuracy: 0.9778 - val_loss: 0.9077 - val_accuracy: 0.6333\n",
      "Epoch 126/150\n",
      "45/45 [==============================] - ETA: 0s - loss: 0.0954 - accuracy: 0.96 - 0s 444us/step - loss: 0.0785 - accuracy: 0.9778 - val_loss: 0.9029 - val_accuracy: 0.6333\n",
      "Epoch 127/150\n",
      "45/45 [==============================] - ETA: 0s - loss: 0.0680 - accuracy: 0.96 - 0s 533us/step - loss: 0.0770 - accuracy: 0.9778 - val_loss: 0.8985 - val_accuracy: 0.6333\n",
      "Epoch 128/150\n",
      "45/45 [==============================] - ETA: 0s - loss: 0.0762 - accuracy: 1.00 - 0s 422us/step - loss: 0.0781 - accuracy: 0.9778 - val_loss: 0.8943 - val_accuracy: 0.6333\n",
      "Epoch 129/150\n",
      "45/45 [==============================] - ETA: 0s - loss: 0.0925 - accuracy: 0.96 - 0s 467us/step - loss: 0.0759 - accuracy: 0.9778 - val_loss: 0.8937 - val_accuracy: 0.6333\n",
      "Epoch 130/150\n",
      "45/45 [==============================] - ETA: 0s - loss: 0.0668 - accuracy: 0.96 - 0s 467us/step - loss: 0.0751 - accuracy: 0.9778 - val_loss: 0.8937 - val_accuracy: 0.6333\n",
      "Epoch 131/150\n",
      "45/45 [==============================] - ETA: 0s - loss: 0.0618 - accuracy: 1.00 - 0s 422us/step - loss: 0.0746 - accuracy: 0.9778 - val_loss: 0.8935 - val_accuracy: 0.6333\n",
      "Epoch 132/150\n",
      "45/45 [==============================] - ETA: 0s - loss: 0.0915 - accuracy: 0.96 - 0s 489us/step - loss: 0.0729 - accuracy: 0.9778 - val_loss: 0.8953 - val_accuracy: 0.6333\n"
     ]
    },
    {
     "name": "stdout",
     "output_type": "stream",
     "text": [
      "Epoch 133/150\n",
      "45/45 [==============================] - ETA: 0s - loss: 0.0615 - accuracy: 1.00 - 0s 444us/step - loss: 0.0713 - accuracy: 0.9778 - val_loss: 0.8976 - val_accuracy: 0.6333\n",
      "Epoch 134/150\n",
      "45/45 [==============================] - ETA: 0s - loss: 0.0611 - accuracy: 1.00 - 0s 422us/step - loss: 0.0697 - accuracy: 0.9778 - val_loss: 0.9016 - val_accuracy: 0.6333\n",
      "Epoch 135/150\n",
      "45/45 [==============================] - ETA: 0s - loss: 0.0806 - accuracy: 0.96 - 0s 489us/step - loss: 0.0696 - accuracy: 0.9778 - val_loss: 0.9065 - val_accuracy: 0.6000\n",
      "Epoch 136/150\n",
      "45/45 [==============================] - ETA: 0s - loss: 0.0774 - accuracy: 0.96 - 0s 400us/step - loss: 0.0694 - accuracy: 0.9778 - val_loss: 0.9092 - val_accuracy: 0.6000\n",
      "Epoch 137/150\n",
      "45/45 [==============================] - ETA: 0s - loss: 0.0834 - accuracy: 0.96 - 0s 555us/step - loss: 0.0694 - accuracy: 0.9778 - val_loss: 0.9102 - val_accuracy: 0.6000\n",
      "Epoch 138/150\n",
      "45/45 [==============================] - ETA: 0s - loss: 0.0671 - accuracy: 0.96 - 0s 422us/step - loss: 0.0692 - accuracy: 0.9778 - val_loss: 0.9099 - val_accuracy: 0.6000\n",
      "Epoch 139/150\n",
      "45/45 [==============================] - ETA: 0s - loss: 0.0831 - accuracy: 0.96 - 0s 444us/step - loss: 0.0688 - accuracy: 0.9778 - val_loss: 0.9095 - val_accuracy: 0.6000\n",
      "Epoch 140/150\n",
      "45/45 [==============================] - ETA: 0s - loss: 0.0891 - accuracy: 0.96 - 0s 467us/step - loss: 0.0685 - accuracy: 0.9778 - val_loss: 0.9075 - val_accuracy: 0.6000\n",
      "Epoch 141/150\n",
      "45/45 [==============================] - ETA: 0s - loss: 0.0803 - accuracy: 0.96 - 0s 466us/step - loss: 0.0677 - accuracy: 0.9778 - val_loss: 0.9045 - val_accuracy: 0.6000\n",
      "Epoch 142/150\n",
      "45/45 [==============================] - ETA: 0s - loss: 0.0769 - accuracy: 0.96 - 0s 422us/step - loss: 0.0667 - accuracy: 0.9778 - val_loss: 0.9010 - val_accuracy: 0.6000\n",
      "Epoch 143/150\n",
      "45/45 [==============================] - ETA: 0s - loss: 0.0808 - accuracy: 0.96 - 0s 422us/step - loss: 0.0656 - accuracy: 0.9778 - val_loss: 0.8976 - val_accuracy: 0.6000\n",
      "Epoch 144/150\n",
      "45/45 [==============================] - ETA: 0s - loss: 0.0851 - accuracy: 0.96 - 0s 400us/step - loss: 0.0643 - accuracy: 0.9778 - val_loss: 0.8938 - val_accuracy: 0.6333\n",
      "Epoch 145/150\n",
      "45/45 [==============================] - ETA: 0s - loss: 0.0627 - accuracy: 0.96 - 0s 467us/step - loss: 0.0640 - accuracy: 0.9778 - val_loss: 0.8907 - val_accuracy: 0.6333\n",
      "Epoch 146/150\n",
      "45/45 [==============================] - ETA: 0s - loss: 0.0322 - accuracy: 1.00 - 0s 422us/step - loss: 0.0622 - accuracy: 0.9778 - val_loss: 0.8891 - val_accuracy: 0.6333\n",
      "Epoch 147/150\n",
      "45/45 [==============================] - ETA: 0s - loss: 0.0742 - accuracy: 0.96 - 0s 444us/step - loss: 0.0616 - accuracy: 0.9778 - val_loss: 0.8868 - val_accuracy: 0.6333\n",
      "Epoch 148/150\n",
      "45/45 [==============================] - ETA: 0s - loss: 0.0671 - accuracy: 0.96 - 0s 422us/step - loss: 0.0608 - accuracy: 0.9778 - val_loss: 0.8843 - val_accuracy: 0.6333\n",
      "Epoch 149/150\n",
      "45/45 [==============================] - ETA: 0s - loss: 0.0708 - accuracy: 0.96 - 0s 444us/step - loss: 0.0602 - accuracy: 0.9778 - val_loss: 0.8816 - val_accuracy: 0.6333\n",
      "Epoch 150/150\n",
      "45/45 [==============================] - ETA: 0s - loss: 0.0512 - accuracy: 0.96 - 0s 467us/step - loss: 0.0603 - accuracy: 0.9556 - val_loss: 0.8796 - val_accuracy: 0.6333\n"
     ]
    }
   ],
   "source": [
    "n_timesteps = 1\n",
    "n_features = XX_train.shape[2]\n",
    "\n",
    "model = Sequential()\n",
    "model.add(Conv1D(filters=32, kernel_size=1, activation='relu', input_shape=(n_timesteps, n_features)))\n",
    "model.add(MaxPooling1D(pool_size=1))\n",
    "model.add(Flatten())\n",
    "model.add(Dense(16, activation='relu'))\n",
    "model.add(Dense(units=YY_train.shape[1], activation='softmax'))\n",
    "model.compile(loss='categorical_crossentropy', optimizer=\"adam\", metrics=['accuracy'])\n",
    "\n",
    "epochs = 150\n",
    "batch_size = 32\n",
    "history = model.fit(XX_train, YY_train, epochs=epochs, batch_size=batch_size, validation_split=0.4)"
   ]
  },
  {
   "cell_type": "code",
   "execution_count": 50,
   "metadata": {},
   "outputs": [
    {
     "data": {
      "text/plain": [
       "0.5757575757575758"
      ]
     },
     "execution_count": 50,
     "metadata": {},
     "output_type": "execute_result"
    }
   ],
   "source": [
    "pred_proba=model.predict(XX_test)\n",
    "idx = np.argmax(pred_proba, axis=-1)\n",
    "YY_pred = np.zeros( pred_proba.shape )\n",
    "YY_pred[ np.arange(YY_pred.shape[0]), idx] = 1\n",
    "accuracy_score(YY_test, YY_pred)"
   ]
  },
  {
   "cell_type": "code",
   "execution_count": 46,
   "metadata": {},
   "outputs": [
    {
     "data": {
      "text/plain": [
       "['model_classif_theme.joblib']"
      ]
     },
     "execution_count": 46,
     "metadata": {},
     "output_type": "execute_result"
    }
   ],
   "source": [
    "from joblib import dump\n",
    "dump(model, 'model_classif_theme.joblib')"
   ]
  }
 ],
 "metadata": {
  "kernelspec": {
   "display_name": "Python 3",
   "language": "python",
   "name": "python3"
  },
  "language_info": {
   "codemirror_mode": {
    "name": "ipython",
    "version": 3
   },
   "file_extension": ".py",
   "mimetype": "text/x-python",
   "name": "python",
   "nbconvert_exporter": "python",
   "pygments_lexer": "ipython3",
   "version": "3.7.3"
  }
 },
 "nbformat": 4,
 "nbformat_minor": 2
}
