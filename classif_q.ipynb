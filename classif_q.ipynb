{
 "cells": [
  {
   "cell_type": "markdown",
   "metadata": {},
   "source": [
    "**Classification de la question**\n",
    "\n",
    "Lorsque l'agent reçoit une question, il devra décider si la question est réellement liée au domaine métier ou non. Si oui et si les données sont en plus regroupées par thématiques, une deuxième décision est à prendre : sur laquelle de ces thématiques porte la question.\n",
    "\n",
    "Si c'est une question métier, le chatbot retournera une réponse pertinente selon sa stratégie ; si non, il déclenchera la composante conversationnelle, qui produira une réponse originale.\n",
    "\n",
    "Il faut donc mettre en place une stratégie pour la prise de ces décisions et pour la sélection de la réponse.\n",
    "\n",
    "Quelle que soit l'approche il faudra d'abord :\n",
    "\n",
    "    prétraiter la base de données (à faire une seule fois et à stocker). Attention, si on vectorise le corpus il faudra garder le vectoriseur (l'enregistrer comme pickle) pour appliquer ensuite le même vectoriseur à la question ;\n",
    "    prétraiter la question (en temps réel).\n",
    "\n",
    "\n"
   ]
  },
  {
   "cell_type": "markdown",
   "metadata": {},
   "source": [
    "# 1. Prétraitement textuel de la base de données"
   ]
  },
  {
   "cell_type": "markdown",
   "metadata": {},
   "source": [
    "**Lecture du fichier**"
   ]
  },
  {
   "cell_type": "code",
   "execution_count": 1,
   "metadata": {},
   "outputs": [],
   "source": [
    "import pandas as pd"
   ]
  },
  {
   "cell_type": "code",
   "execution_count": 2,
   "metadata": {
    "scrolled": true
   },
   "outputs": [
    {
     "data": {
      "text/html": [
       "<div>\n",
       "<style scoped>\n",
       "    .dataframe tbody tr th:only-of-type {\n",
       "        vertical-align: middle;\n",
       "    }\n",
       "\n",
       "    .dataframe tbody tr th {\n",
       "        vertical-align: top;\n",
       "    }\n",
       "\n",
       "    .dataframe thead th {\n",
       "        text-align: right;\n",
       "    }\n",
       "</style>\n",
       "<table border=\"1\" class=\"dataframe\">\n",
       "  <thead>\n",
       "    <tr style=\"text-align: right;\">\n",
       "      <th></th>\n",
       "      <th>question</th>\n",
       "      <th>reponse</th>\n",
       "      <th>theme</th>\n",
       "    </tr>\n",
       "  </thead>\n",
       "  <tbody>\n",
       "    <tr>\n",
       "      <th>0</th>\n",
       "      <td>Quels sont les jours d’arrivée ?</td>\n",
       "      <td>Il est possible d’arriver n’importe quel jour ...</td>\n",
       "      <td>Préparer mon séjour</td>\n",
       "    </tr>\n",
       "    <tr>\n",
       "      <th>1</th>\n",
       "      <td>Comment évaluer le confort de mon domaine et d...</td>\n",
       "      <td>Le classement par « birdies » évalue l’offre C...</td>\n",
       "      <td>Préparer mon séjour</td>\n",
       "    </tr>\n",
       "    <tr>\n",
       "      <th>2</th>\n",
       "      <td>Quels sont les services et activités compris d...</td>\n",
       "      <td>En réservant votre hébergement, vous bénéficie...</td>\n",
       "      <td>Préparer mon séjour</td>\n",
       "    </tr>\n",
       "    <tr>\n",
       "      <th>3</th>\n",
       "      <td>Comment réserver mes activités ?</td>\n",
       "      <td>Lors de la réservation de votre hébergement, v...</td>\n",
       "      <td>Préparer mon séjour</td>\n",
       "    </tr>\n",
       "    <tr>\n",
       "      <th>4</th>\n",
       "      <td>Où trouver le plan du domaine ?</td>\n",
       "      <td>Sur la page d'accueil de notre site, cliquez s...</td>\n",
       "      <td>Préparer mon séjour</td>\n",
       "    </tr>\n",
       "  </tbody>\n",
       "</table>\n",
       "</div>"
      ],
      "text/plain": [
       "                                            question  \\\n",
       "0                   Quels sont les jours d’arrivée ?   \n",
       "1  Comment évaluer le confort de mon domaine et d...   \n",
       "2  Quels sont les services et activités compris d...   \n",
       "3                   Comment réserver mes activités ?   \n",
       "4                    Où trouver le plan du domaine ?   \n",
       "\n",
       "                                             reponse                theme  \n",
       "0  Il est possible d’arriver n’importe quel jour ...  Préparer mon séjour  \n",
       "1  Le classement par « birdies » évalue l’offre C...  Préparer mon séjour  \n",
       "2  En réservant votre hébergement, vous bénéficie...  Préparer mon séjour  \n",
       "3  Lors de la réservation de votre hébergement, v...  Préparer mon séjour  \n",
       "4  Sur la page d'accueil de notre site, cliquez s...  Préparer mon séjour  "
      ]
     },
     "execution_count": 2,
     "metadata": {},
     "output_type": "execute_result"
    }
   ],
   "source": [
    "df_faq = pd.read_pickle('faq_centerPark.pkl')\n",
    "df_faq.head()"
   ]
  },
  {
   "cell_type": "markdown",
   "metadata": {},
   "source": [
    "Notre jeu de données est composé de :\n",
    "- 54 lignes\n",
    "- 3 colonnes\n",
    "- 5 thèmes différents"
   ]
  },
  {
   "cell_type": "markdown",
   "metadata": {},
   "source": [
    "On pose :\n",
    "- 1 = Préparer mon séjour\n",
    "- 2 = Réserver et payer\n",
    "- 3 = Gérer ma réservation\n",
    "- 4 = Mon séjour\n",
    "- 5 = Assurances"
   ]
  },
  {
   "cell_type": "code",
   "execution_count": 3,
   "metadata": {},
   "outputs": [],
   "source": [
    "dic_code_theme = {\"Préparer mon séjour\": 1,\n",
    "                  \"Réserver et payer\": 2,\n",
    "                  \"Gérer ma réservation\": 3,\n",
    "                  \"Mon séjour\": 4,\n",
    "                  \"Assurances\": 5}\n",
    "dic_decode_theme = {val: key for key, val in dic_code_theme.items()}"
   ]
  },
  {
   "cell_type": "code",
   "execution_count": 4,
   "metadata": {},
   "outputs": [],
   "source": [
    "df_faq[\"theme\"].replace(dic_code_theme, inplace=True)"
   ]
  },
  {
   "cell_type": "code",
   "execution_count": 5,
   "metadata": {},
   "outputs": [
    {
     "data": {
      "text/html": [
       "<div>\n",
       "<style scoped>\n",
       "    .dataframe tbody tr th:only-of-type {\n",
       "        vertical-align: middle;\n",
       "    }\n",
       "\n",
       "    .dataframe tbody tr th {\n",
       "        vertical-align: top;\n",
       "    }\n",
       "\n",
       "    .dataframe thead th {\n",
       "        text-align: right;\n",
       "    }\n",
       "</style>\n",
       "<table border=\"1\" class=\"dataframe\">\n",
       "  <thead>\n",
       "    <tr style=\"text-align: right;\">\n",
       "      <th></th>\n",
       "      <th>question</th>\n",
       "      <th>reponse</th>\n",
       "      <th>theme</th>\n",
       "    </tr>\n",
       "  </thead>\n",
       "  <tbody>\n",
       "    <tr>\n",
       "      <th>0</th>\n",
       "      <td>Quels sont les jours d’arrivée ?</td>\n",
       "      <td>Il est possible d’arriver n’importe quel jour ...</td>\n",
       "      <td>1</td>\n",
       "    </tr>\n",
       "    <tr>\n",
       "      <th>1</th>\n",
       "      <td>Comment évaluer le confort de mon domaine et d...</td>\n",
       "      <td>Le classement par « birdies » évalue l’offre C...</td>\n",
       "      <td>1</td>\n",
       "    </tr>\n",
       "    <tr>\n",
       "      <th>2</th>\n",
       "      <td>Quels sont les services et activités compris d...</td>\n",
       "      <td>En réservant votre hébergement, vous bénéficie...</td>\n",
       "      <td>1</td>\n",
       "    </tr>\n",
       "    <tr>\n",
       "      <th>3</th>\n",
       "      <td>Comment réserver mes activités ?</td>\n",
       "      <td>Lors de la réservation de votre hébergement, v...</td>\n",
       "      <td>1</td>\n",
       "    </tr>\n",
       "    <tr>\n",
       "      <th>4</th>\n",
       "      <td>Où trouver le plan du domaine ?</td>\n",
       "      <td>Sur la page d'accueil de notre site, cliquez s...</td>\n",
       "      <td>1</td>\n",
       "    </tr>\n",
       "  </tbody>\n",
       "</table>\n",
       "</div>"
      ],
      "text/plain": [
       "                                            question  \\\n",
       "0                   Quels sont les jours d’arrivée ?   \n",
       "1  Comment évaluer le confort de mon domaine et d...   \n",
       "2  Quels sont les services et activités compris d...   \n",
       "3                   Comment réserver mes activités ?   \n",
       "4                    Où trouver le plan du domaine ?   \n",
       "\n",
       "                                             reponse  theme  \n",
       "0  Il est possible d’arriver n’importe quel jour ...      1  \n",
       "1  Le classement par « birdies » évalue l’offre C...      1  \n",
       "2  En réservant votre hébergement, vous bénéficie...      1  \n",
       "3  Lors de la réservation de votre hébergement, v...      1  \n",
       "4  Sur la page d'accueil de notre site, cliquez s...      1  "
      ]
     },
     "execution_count": 5,
     "metadata": {},
     "output_type": "execute_result"
    }
   ],
   "source": [
    "df_faq.head()"
   ]
  },
  {
   "cell_type": "code",
   "execution_count": 6,
   "metadata": {},
   "outputs": [
    {
     "name": "stderr",
     "output_type": "stream",
     "text": [
      "C:\\Users\\enora\\Anaconda3\\lib\\site-packages\\pandas\\core\\frame.py:4025: SettingWithCopyWarning: \n",
      "A value is trying to be set on a copy of a slice from a DataFrame\n",
      "\n",
      "See the caveats in the documentation: http://pandas.pydata.org/pandas-docs/stable/indexing.html#indexing-view-versus-copy\n",
      "  return super(DataFrame, self).rename(**kwargs)\n"
     ]
    }
   ],
   "source": [
    "df_question = df_faq[['question', 'theme']]\n",
    "df_question.rename(columns={'question': 'texte', 'theme': 'theme'}, inplace=True)\n",
    "df_reponse = df_faq[['reponse', 'theme']]\n",
    "df_reponse.rename(columns={'reponse': 'texte', 'theme': 'theme'}, inplace=True)"
   ]
  },
  {
   "cell_type": "code",
   "execution_count": 7,
   "metadata": {},
   "outputs": [],
   "source": [
    "df_concat = pd.concat([df_question, df_reponse])"
   ]
  },
  {
   "cell_type": "code",
   "execution_count": 8,
   "metadata": {},
   "outputs": [
    {
     "data": {
      "text/html": [
       "<div>\n",
       "<style scoped>\n",
       "    .dataframe tbody tr th:only-of-type {\n",
       "        vertical-align: middle;\n",
       "    }\n",
       "\n",
       "    .dataframe tbody tr th {\n",
       "        vertical-align: top;\n",
       "    }\n",
       "\n",
       "    .dataframe thead th {\n",
       "        text-align: right;\n",
       "    }\n",
       "</style>\n",
       "<table border=\"1\" class=\"dataframe\">\n",
       "  <thead>\n",
       "    <tr style=\"text-align: right;\">\n",
       "      <th></th>\n",
       "      <th>texte</th>\n",
       "      <th>theme</th>\n",
       "    </tr>\n",
       "  </thead>\n",
       "  <tbody>\n",
       "    <tr>\n",
       "      <th>0</th>\n",
       "      <td>Quels sont les jours d’arrivée ?</td>\n",
       "      <td>1</td>\n",
       "    </tr>\n",
       "    <tr>\n",
       "      <th>1</th>\n",
       "      <td>Comment évaluer le confort de mon domaine et d...</td>\n",
       "      <td>1</td>\n",
       "    </tr>\n",
       "    <tr>\n",
       "      <th>2</th>\n",
       "      <td>Quels sont les services et activités compris d...</td>\n",
       "      <td>1</td>\n",
       "    </tr>\n",
       "    <tr>\n",
       "      <th>3</th>\n",
       "      <td>Comment réserver mes activités ?</td>\n",
       "      <td>1</td>\n",
       "    </tr>\n",
       "    <tr>\n",
       "      <th>4</th>\n",
       "      <td>Où trouver le plan du domaine ?</td>\n",
       "      <td>1</td>\n",
       "    </tr>\n",
       "    <tr>\n",
       "      <th>5</th>\n",
       "      <td>Puis-je venir avec mon animal domestique ?</td>\n",
       "      <td>1</td>\n",
       "    </tr>\n",
       "    <tr>\n",
       "      <th>6</th>\n",
       "      <td>Peut-on accéder au domaine à la journée (sans ...</td>\n",
       "      <td>1</td>\n",
       "    </tr>\n",
       "    <tr>\n",
       "      <th>7</th>\n",
       "      <td>Comment réserver un logement adapté aux person...</td>\n",
       "      <td>1</td>\n",
       "    </tr>\n",
       "    <tr>\n",
       "      <th>8</th>\n",
       "      <td>Comment recevoir la brochure ?</td>\n",
       "      <td>1</td>\n",
       "    </tr>\n",
       "    <tr>\n",
       "      <th>9</th>\n",
       "      <td>Est-il possible d'acheter des billets pour les...</td>\n",
       "      <td>1</td>\n",
       "    </tr>\n",
       "    <tr>\n",
       "      <th>10</th>\n",
       "      <td>Un visa ou un passeport est-il impératif pour ...</td>\n",
       "      <td>1</td>\n",
       "    </tr>\n",
       "    <tr>\n",
       "      <th>11</th>\n",
       "      <td>Comment utiliser l’offre Early Booking avec le...</td>\n",
       "      <td>1</td>\n",
       "    </tr>\n",
       "    <tr>\n",
       "      <th>12</th>\n",
       "      <td>Y a-t-il un service bagagerie pour déposer mes...</td>\n",
       "      <td>1</td>\n",
       "    </tr>\n",
       "    <tr>\n",
       "      <th>13</th>\n",
       "      <td>Y'a-t-il des frais de dossier ?</td>\n",
       "      <td>2</td>\n",
       "    </tr>\n",
       "    <tr>\n",
       "      <th>14</th>\n",
       "      <td>Dois-je payer la totalité de mon séjour au mom...</td>\n",
       "      <td>2</td>\n",
       "    </tr>\n",
       "    <tr>\n",
       "      <th>15</th>\n",
       "      <td>Ai-je un droit de rétractation ?</td>\n",
       "      <td>2</td>\n",
       "    </tr>\n",
       "    <tr>\n",
       "      <th>16</th>\n",
       "      <td>Comment payer si je réserve mon séjour sur le ...</td>\n",
       "      <td>2</td>\n",
       "    </tr>\n",
       "    <tr>\n",
       "      <th>17</th>\n",
       "      <td>Comment payer si je réserve mon séjour via le ...</td>\n",
       "      <td>2</td>\n",
       "    </tr>\n",
       "    <tr>\n",
       "      <th>18</th>\n",
       "      <td>Puis-je adresser mon règlement par courrier ?</td>\n",
       "      <td>2</td>\n",
       "    </tr>\n",
       "    <tr>\n",
       "      <th>19</th>\n",
       "      <td>Comment puis-je payer si je ne réside pas en F...</td>\n",
       "      <td>2</td>\n",
       "    </tr>\n",
       "  </tbody>\n",
       "</table>\n",
       "</div>"
      ],
      "text/plain": [
       "                                                texte  theme\n",
       "0                    Quels sont les jours d’arrivée ?      1\n",
       "1   Comment évaluer le confort de mon domaine et d...      1\n",
       "2   Quels sont les services et activités compris d...      1\n",
       "3                    Comment réserver mes activités ?      1\n",
       "4                     Où trouver le plan du domaine ?      1\n",
       "5          Puis-je venir avec mon animal domestique ?      1\n",
       "6   Peut-on accéder au domaine à la journée (sans ...      1\n",
       "7   Comment réserver un logement adapté aux person...      1\n",
       "8                      Comment recevoir la brochure ?      1\n",
       "9   Est-il possible d'acheter des billets pour les...      1\n",
       "10  Un visa ou un passeport est-il impératif pour ...      1\n",
       "11  Comment utiliser l’offre Early Booking avec le...      1\n",
       "12  Y a-t-il un service bagagerie pour déposer mes...      1\n",
       "13                    Y'a-t-il des frais de dossier ?      2\n",
       "14  Dois-je payer la totalité de mon séjour au mom...      2\n",
       "15                   Ai-je un droit de rétractation ?      2\n",
       "16  Comment payer si je réserve mon séjour sur le ...      2\n",
       "17  Comment payer si je réserve mon séjour via le ...      2\n",
       "18      Puis-je adresser mon règlement par courrier ?      2\n",
       "19  Comment puis-je payer si je ne réside pas en F...      2"
      ]
     },
     "execution_count": 8,
     "metadata": {},
     "output_type": "execute_result"
    }
   ],
   "source": [
    "df_concat.head(20)"
   ]
  },
  {
   "cell_type": "code",
   "execution_count": 9,
   "metadata": {},
   "outputs": [],
   "source": [
    "# Sauvegarde\n",
    "df_concat.to_pickle('df_concat.pkl')"
   ]
  },
  {
   "cell_type": "markdown",
   "metadata": {},
   "source": [
    "# A. Définition de fonctions pour le nettoyage du texte des tweets"
   ]
  },
  {
   "cell_type": "code",
   "execution_count": 10,
   "metadata": {},
   "outputs": [],
   "source": [
    "import os\n",
    "import numpy as np\n",
    "import re\n",
    "from collections import defaultdict, Counter\n",
    "\n",
    "# pour le nettoyage du texte\n",
    "import nltk\n",
    "import string\n",
    "import spacy\n",
    "from nltk.tokenize import word_tokenize, TweetTokenizer\n",
    "from nltk.stem import SnowballStemmer\n",
    "\n",
    "# pour la classification\n",
    "from sklearn.linear_model import LogisticRegression\n",
    "from sklearn.naive_bayes import MultinomialNB\n",
    "from sklearn.metrics import accuracy_score, precision_score, recall_score, f1_score, classification_report, confusion_matrix\n",
    "from sklearn.svm import SVC\n",
    "from sklearn.model_selection import train_test_split\n",
    "from sklearn.feature_extraction.text import CountVectorizer, TfidfVectorizer"
   ]
  },
  {
   "cell_type": "code",
   "execution_count": 11,
   "metadata": {},
   "outputs": [],
   "source": [
    "import unidecode"
   ]
  },
  {
   "cell_type": "code",
   "execution_count": 12,
   "metadata": {},
   "outputs": [],
   "source": [
    "df_concat = pd.read_pickle('df_concat.pkl')\n",
    "X_train, X_test, y_train, y_test = train_test_split(df_concat['texte'],\n",
    "                                                    df_concat['theme'],\n",
    "                                                    train_size=0.7,\n",
    "                                                    random_state=5)"
   ]
  },
  {
   "cell_type": "code",
   "execution_count": 13,
   "metadata": {},
   "outputs": [],
   "source": [
    "stemmer = SnowballStemmer('french')\n",
    "tokenizer = TweetTokenizer(strip_handles=True, reduce_len=True) # tokenizer for tweet\n",
    "nlp = spacy.load('fr_core_news_sm')\n",
    "\n",
    "sw = nltk.corpus.stopwords.words('french')\n",
    "sw += ['être', 'avoir']\n",
    "sw.sort()\n",
    "\n",
    "def lemmatise_text(text):\n",
    "    lst_lematised = [token.lemma_ for token in nlp(text)] \n",
    "    return ' '.join(lst_lematised).lower()\n",
    "\n",
    "\n",
    "def stem_text(text):\n",
    "    lst_stemmerised = [stemmer.stem(token) for token in tokenizer.tokenize(text)]    \n",
    "    return ' '.join(lst_stemmerised)\n",
    "\n",
    "\n",
    "def replace_words_with_pos_tag(text):\n",
    "    lst_tags = [token.pos_ for token in nlp(text)]    \n",
    "    return ' '.join(lst_tags)\n",
    "\n",
    "\n",
    "def ner(text): #entites nommees\n",
    "    dico_remplacement = {entite_nommee.text : entite_nommee.label_ for entite_nommee in nlp(text).ents}\n",
    "    for entite_nommee, remplacement in dico_remplacement.items():\n",
    "        text = text.replace(entite_nommee, remplacement)\n",
    "    return text\n",
    "\n",
    "\n",
    "def substitute_punctuation(text):\n",
    "    return ' '.join(text.replace(\"'\", ' ').translate(str.maketrans('', '', string.punctuation)).split())\n",
    "\n",
    "\n",
    "def substitute_number(text, url_replacement=''):\n",
    "    return re.sub(r\"\\d\", url_replacement, text)\n",
    "\n",
    "\n",
    "def supp(text):\n",
    "    return text.replace(\"«\", \"\").replace(\"’\", \"\").replace(\"•\", \"\").replace(\"®\", \"\")\n",
    "\n",
    "\n",
    "def supprime_accent(txt):\n",
    "    return unidecode.unidecode(txt)"
   ]
  },
  {
   "cell_type": "markdown",
   "metadata": {},
   "source": [
    "# B. Nettoyage du texte"
   ]
  },
  {
   "cell_type": "markdown",
   "metadata": {},
   "source": [
    "### 1. Nettoyage "
   ]
  },
  {
   "cell_type": "markdown",
   "metadata": {},
   "source": [
    "On combine quelques fonctions définies en partie A."
   ]
  },
  {
   "cell_type": "code",
   "execution_count": 14,
   "metadata": {},
   "outputs": [],
   "source": [
    "X_train_clean = (X_train.apply(lemmatise_text)\n",
    "                        .apply(stem_text)\n",
    "                        .apply(substitute_punctuation)\n",
    "#                         .apply(supprime_accent)\n",
    "#                         .apply(substitute_number)\n",
    "                         .apply(supp)\n",
    "                )\n",
    "X_test_clean = (X_test.apply(lemmatise_text)\n",
    "                       .apply(stem_text)\n",
    "                       .apply(substitute_punctuation)\n",
    "#                        .apply(supprime_accent)\n",
    "#                        .apply(substitute_number)\n",
    "                        .apply(supp)\n",
    "                )\n"
   ]
  },
  {
   "cell_type": "markdown",
   "metadata": {},
   "source": [
    "### 2. Test de différents modèles"
   ]
  },
  {
   "cell_type": "markdown",
   "metadata": {},
   "source": [
    "Nous allons tester différents modèles sur le texte des tweets qui ont été nettoyés dans la partie 1."
   ]
  },
  {
   "cell_type": "markdown",
   "metadata": {},
   "source": [
    "#### a. Les différents vectoriseurs"
   ]
  },
  {
   "cell_type": "code",
   "execution_count": 15,
   "metadata": {},
   "outputs": [],
   "source": [
    "#vectoriseur numérique discret\n",
    "\n",
    "vect_count = CountVectorizer(binary=False)\n",
    "vect_count.fit(X_train_clean)\n",
    "X_train_clean_vectorized_count = vect_count.transform(X_train_clean)\n",
    "X_test_clean_vectorized_count = vect_count.transform(X_test_clean)"
   ]
  },
  {
   "cell_type": "code",
   "execution_count": 16,
   "metadata": {},
   "outputs": [],
   "source": [
    "#vectoriseur binaire\n",
    "\n",
    "bin_count = CountVectorizer(binary=True)\n",
    "bin_count.fit(X_train_clean)\n",
    "X_train_clean_vectorized_bin = vect_count.transform(X_train_clean)\n",
    "X_test_clean_vectorized_bin = vect_count.transform(X_test_clean)"
   ]
  },
  {
   "cell_type": "code",
   "execution_count": 17,
   "metadata": {
    "scrolled": true
   },
   "outputs": [],
   "source": [
    "#vectoriseur numérique continu : TF-IDF\n",
    "\n",
    "vect_tfidf = TfidfVectorizer(stop_words=sw)\n",
    "vect_tfidf.fit(X_train_clean)\n",
    "X_train_clean_vectorized_tfidf = vect_tfidf.transform(X_train_clean)\n",
    "X_test_clean_vectorized_tfidf = vect_tfidf.transform(X_test_clean) "
   ]
  },
  {
   "cell_type": "markdown",
   "metadata": {},
   "source": [
    "#### b. Les différents modèles\n",
    "\n",
    "Nous entraînerons des modèles de classification appartenant à quelques familles d'algorithmes d'apprentissage automatique classique. L'objectif est de comparer non seulement les performances des différentes méthodes entre elles, mais aussi la performance d'une même méthode sur des représentations différentes du texte."
   ]
  },
  {
   "cell_type": "markdown",
   "metadata": {},
   "source": [
    "##### b.1 DummyClassifier"
   ]
  },
  {
   "cell_type": "code",
   "execution_count": 18,
   "metadata": {},
   "outputs": [],
   "source": [
    "from sklearn.dummy import DummyClassifier"
   ]
  },
  {
   "cell_type": "code",
   "execution_count": 19,
   "metadata": {},
   "outputs": [
    {
     "data": {
      "text/plain": [
       "0.15151515151515152"
      ]
     },
     "execution_count": 19,
     "metadata": {},
     "output_type": "execute_result"
    }
   ],
   "source": [
    "random_uniform = DummyClassifier(strategy='uniform').fit(X_train_clean_vectorized_count, y_train)\n",
    "predictions_valid = random_uniform.predict(X_test_clean_vectorized_count)\n",
    "accuracy_score(y_test, predictions_valid)"
   ]
  },
  {
   "cell_type": "code",
   "execution_count": 20,
   "metadata": {},
   "outputs": [
    {
     "data": {
      "text/plain": [
       "0.24242424242424243"
      ]
     },
     "execution_count": 20,
     "metadata": {},
     "output_type": "execute_result"
    }
   ],
   "source": [
    "random_uniform = DummyClassifier(strategy='most_frequent').fit(X_train_clean_vectorized_bin, y_train)\n",
    "predictions_valid = random_uniform.predict(X_test_clean_vectorized_bin)\n",
    "accuracy_score(y_test, predictions_valid)"
   ]
  },
  {
   "cell_type": "code",
   "execution_count": 21,
   "metadata": {},
   "outputs": [
    {
     "data": {
      "text/plain": [
       "0.24242424242424243"
      ]
     },
     "execution_count": 21,
     "metadata": {},
     "output_type": "execute_result"
    }
   ],
   "source": [
    "random_prop_class = DummyClassifier(strategy='most_frequent').fit(X_train_clean_vectorized_tfidf, y_train)\n",
    "pred = random_prop_class.predict(X_test_clean_vectorized_tfidf)\n",
    "accuracy_score(y_test, pred)"
   ]
  },
  {
   "cell_type": "markdown",
   "metadata": {},
   "source": [
    "##### b.2 Classifieur naïf bayesien"
   ]
  },
  {
   "cell_type": "code",
   "execution_count": 22,
   "metadata": {},
   "outputs": [],
   "source": [
    "from sklearn.naive_bayes import MultinomialNB"
   ]
  },
  {
   "cell_type": "code",
   "execution_count": 23,
   "metadata": {},
   "outputs": [
    {
     "data": {
      "text/plain": [
       "0.6363636363636364"
      ]
     },
     "execution_count": 23,
     "metadata": {},
     "output_type": "execute_result"
    }
   ],
   "source": [
    "model_nb = MultinomialNB().fit(X_train_clean_vectorized_count, y_train)\n",
    "predictions_valid = model_nb.predict(X_test_clean_vectorized_count)\n",
    "accuracy_score(y_test, predictions_valid)"
   ]
  },
  {
   "cell_type": "code",
   "execution_count": 24,
   "metadata": {},
   "outputs": [
    {
     "data": {
      "text/plain": [
       "0.6363636363636364"
      ]
     },
     "execution_count": 24,
     "metadata": {},
     "output_type": "execute_result"
    }
   ],
   "source": [
    "model_nb = MultinomialNB().fit(X_train_clean_vectorized_bin, y_train)\n",
    "predictions_valid = model_nb.predict(X_test_clean_vectorized_bin)\n",
    "accuracy_score(y_test, predictions_valid)"
   ]
  },
  {
   "cell_type": "code",
   "execution_count": 25,
   "metadata": {
    "scrolled": false
   },
   "outputs": [
    {
     "data": {
      "text/plain": [
       "0.5454545454545454"
      ]
     },
     "execution_count": 25,
     "metadata": {},
     "output_type": "execute_result"
    }
   ],
   "source": [
    "model_nb = MultinomialNB().fit(X_train_clean_vectorized_tfidf, y_train)\n",
    "predictions_valid = model_nb.predict(X_test_clean_vectorized_tfidf)\n",
    "accuracy_score(y_test, predictions_valid)"
   ]
  },
  {
   "cell_type": "markdown",
   "metadata": {},
   "source": [
    "#### b.3 Complement NB"
   ]
  },
  {
   "cell_type": "code",
   "execution_count": 26,
   "metadata": {},
   "outputs": [],
   "source": [
    "from sklearn.naive_bayes import ComplementNB"
   ]
  },
  {
   "cell_type": "code",
   "execution_count": 27,
   "metadata": {},
   "outputs": [
    {
     "data": {
      "text/plain": [
       "0.6060606060606061"
      ]
     },
     "execution_count": 27,
     "metadata": {},
     "output_type": "execute_result"
    }
   ],
   "source": [
    "model_comp = ComplementNB().fit(X_train_clean_vectorized_count, y_train)\n",
    "predictions_valid = model_comp.predict(X_test_clean_vectorized_count)\n",
    "accuracy_score(y_test, predictions_valid)"
   ]
  },
  {
   "cell_type": "code",
   "execution_count": 28,
   "metadata": {},
   "outputs": [
    {
     "data": {
      "text/plain": [
       "0.6060606060606061"
      ]
     },
     "execution_count": 28,
     "metadata": {},
     "output_type": "execute_result"
    }
   ],
   "source": [
    "model_comp = ComplementNB().fit(X_train_clean_vectorized_bin, y_train)\n",
    "predictions_valid = model_comp.predict(X_test_clean_vectorized_bin)\n",
    "accuracy_score(y_test, predictions_valid)"
   ]
  },
  {
   "cell_type": "code",
   "execution_count": 29,
   "metadata": {},
   "outputs": [
    {
     "data": {
      "text/plain": [
       "0.6666666666666666"
      ]
     },
     "execution_count": 29,
     "metadata": {},
     "output_type": "execute_result"
    }
   ],
   "source": [
    "model_comp = ComplementNB().fit(X_train_clean_vectorized_tfidf, y_train)\n",
    "predictions_valid = model_comp.predict(X_test_clean_vectorized_tfidf)\n",
    "accuracy_score(y_test, predictions_valid)"
   ]
  },
  {
   "cell_type": "markdown",
   "metadata": {},
   "source": [
    "#### b.4 BernoulliNB"
   ]
  },
  {
   "cell_type": "code",
   "execution_count": 30,
   "metadata": {},
   "outputs": [],
   "source": [
    "from sklearn.naive_bayes import BernoulliNB"
   ]
  },
  {
   "cell_type": "code",
   "execution_count": 31,
   "metadata": {},
   "outputs": [
    {
     "data": {
      "text/plain": [
       "0.36363636363636365"
      ]
     },
     "execution_count": 31,
     "metadata": {},
     "output_type": "execute_result"
    }
   ],
   "source": [
    "model_bern = BernoulliNB().fit(X_train_clean_vectorized_count, y_train)\n",
    "predictions_valid = model_bern.predict(X_test_clean_vectorized_count)\n",
    "accuracy_score(y_test, predictions_valid)"
   ]
  },
  {
   "cell_type": "code",
   "execution_count": 32,
   "metadata": {},
   "outputs": [
    {
     "data": {
      "text/plain": [
       "0.36363636363636365"
      ]
     },
     "execution_count": 32,
     "metadata": {},
     "output_type": "execute_result"
    }
   ],
   "source": [
    "model_bern = BernoulliNB().fit(X_train_clean_vectorized_bin, y_train)\n",
    "predictions_valid = model_bern.predict(X_test_clean_vectorized_bin)\n",
    "accuracy_score(y_test, predictions_valid)"
   ]
  },
  {
   "cell_type": "code",
   "execution_count": 33,
   "metadata": {},
   "outputs": [
    {
     "data": {
      "text/plain": [
       "0.3333333333333333"
      ]
     },
     "execution_count": 33,
     "metadata": {},
     "output_type": "execute_result"
    }
   ],
   "source": [
    "model_bern = BernoulliNB().fit(X_train_clean_vectorized_tfidf, y_train)\n",
    "predictions_valid = model_bern.predict(X_test_clean_vectorized_tfidf)\n",
    "accuracy_score(y_test, predictions_valid)"
   ]
  },
  {
   "cell_type": "markdown",
   "metadata": {},
   "source": [
    "#### b.5 RandomForestClassifier/LinearSVC"
   ]
  },
  {
   "cell_type": "code",
   "execution_count": 34,
   "metadata": {},
   "outputs": [
    {
     "name": "stderr",
     "output_type": "stream",
     "text": [
      "C:\\Users\\enora\\Anaconda3\\lib\\site-packages\\sklearn\\svm\\base.py:929: ConvergenceWarning: Liblinear failed to converge, increase the number of iterations.\n",
      "  \"the number of iterations.\", ConvergenceWarning)\n"
     ]
    },
    {
     "name": "stdout",
     "output_type": "stream",
     "text": [
      "{'RandomForestClassifier': 0.45454545454545453, 'LinearSVC': 0.36363636363636365}\n"
     ]
    }
   ],
   "source": [
    "from sklearn.ensemble import RandomForestClassifier\n",
    "from sklearn.svm import LinearSVC\n",
    "models = [\n",
    "    RandomForestClassifier(n_estimators=500, max_depth=100, random_state=0),\n",
    "    LinearSVC()\n",
    "]\n",
    "\n",
    "dic_acc = {}\n",
    "\n",
    "for model in models:\n",
    "    model_name = model.__class__.__name__\n",
    "    predictions_valid = model.fit(X_train_clean_vectorized_count, y_train).predict(X_test_clean_vectorized_count)\n",
    "    dic_acc[model_name] = accuracy_score(y_test, predictions_valid)\n",
    "\n",
    "print(dic_acc)"
   ]
  },
  {
   "cell_type": "markdown",
   "metadata": {},
   "source": [
    "#### b.6 KNeighborsClassifier"
   ]
  },
  {
   "cell_type": "code",
   "execution_count": 35,
   "metadata": {},
   "outputs": [],
   "source": [
    "from sklearn.neighbors import KNeighborsClassifier"
   ]
  },
  {
   "cell_type": "code",
   "execution_count": 36,
   "metadata": {},
   "outputs": [
    {
     "data": {
      "text/plain": [
       "0.2727272727272727"
      ]
     },
     "execution_count": 36,
     "metadata": {},
     "output_type": "execute_result"
    }
   ],
   "source": [
    "model_knn = KNeighborsClassifier(4).fit(X_train_clean_vectorized_count, y_train)\n",
    "predictions_valid = model_knn.predict(X_test_clean_vectorized_count)\n",
    "accuracy_score(y_test, predictions_valid)"
   ]
  },
  {
   "cell_type": "code",
   "execution_count": 37,
   "metadata": {},
   "outputs": [
    {
     "data": {
      "text/plain": [
       "0.2727272727272727"
      ]
     },
     "execution_count": 37,
     "metadata": {},
     "output_type": "execute_result"
    }
   ],
   "source": [
    "model_knn = KNeighborsClassifier(4).fit(X_train_clean_vectorized_bin, y_train)\n",
    "predictions_valid = model_knn.predict(X_test_clean_vectorized_bin)\n",
    "accuracy_score(y_test, predictions_valid)"
   ]
  },
  {
   "cell_type": "code",
   "execution_count": 38,
   "metadata": {},
   "outputs": [
    {
     "data": {
      "text/plain": [
       "0.5757575757575758"
      ]
     },
     "execution_count": 38,
     "metadata": {},
     "output_type": "execute_result"
    }
   ],
   "source": [
    "model_knn = KNeighborsClassifier(5).fit(X_train_clean_vectorized_tfidf, y_train)\n",
    "predictions_valid = model_knn.predict(X_test_clean_vectorized_tfidf)\n",
    "accuracy_score(y_test, predictions_valid)"
   ]
  },
  {
   "cell_type": "markdown",
   "metadata": {},
   "source": [
    "#### b.7. SVM"
   ]
  },
  {
   "cell_type": "code",
   "execution_count": 39,
   "metadata": {},
   "outputs": [],
   "source": [
    "from sklearn.svm import SVC"
   ]
  },
  {
   "cell_type": "code",
   "execution_count": 40,
   "metadata": {},
   "outputs": [
    {
     "data": {
      "text/plain": [
       "0.3939393939393939"
      ]
     },
     "execution_count": 40,
     "metadata": {},
     "output_type": "execute_result"
    }
   ],
   "source": [
    "model_svm = SVC(kernel='linear', C=0.9).fit(X_train_clean_vectorized_count, y_train)\n",
    "predictions_valid = model_svm.predict(X_test_clean_vectorized_count)\n",
    "accuracy_score(y_test, predictions_valid)"
   ]
  },
  {
   "cell_type": "code",
   "execution_count": 41,
   "metadata": {},
   "outputs": [
    {
     "data": {
      "text/plain": [
       "0.48484848484848486"
      ]
     },
     "execution_count": 41,
     "metadata": {},
     "output_type": "execute_result"
    }
   ],
   "source": [
    "model_svm = SVC(kernel='linear', C=0.1).fit(X_train_clean_vectorized_bin, y_train)\n",
    "predictions_valid = model_svm.predict(X_test_clean_vectorized_bin)\n",
    "accuracy_score(y_test, predictions_valid)"
   ]
  },
  {
   "cell_type": "code",
   "execution_count": 42,
   "metadata": {
    "scrolled": true
   },
   "outputs": [
    {
     "data": {
      "text/plain": [
       "0.24242424242424243"
      ]
     },
     "execution_count": 42,
     "metadata": {},
     "output_type": "execute_result"
    }
   ],
   "source": [
    "model_svm = SVC(kernel='linear', C=0.1).fit(X_train_clean_vectorized_tfidf, y_train)\n",
    "predictions_valid = model_svm.predict(X_test_clean_vectorized_tfidf)\n",
    "accuracy_score(y_test, predictions_valid)"
   ]
  },
  {
   "cell_type": "markdown",
   "metadata": {},
   "source": [
    "#### b.8 Réseaux de neurones de convolution"
   ]
  },
  {
   "cell_type": "code",
   "execution_count": 43,
   "metadata": {},
   "outputs": [
    {
     "name": "stderr",
     "output_type": "stream",
     "text": [
      "Using TensorFlow backend.\n"
     ]
    }
   ],
   "source": [
    "from keras.models import Sequential\n",
    "from keras.layers import LSTM, Embedding, Dense, SpatialDropout1D, MaxPooling1D, Conv1D, Flatten, MaxPooling2D, Conv2D\n",
    "from keras.callbacks import EarlyStopping\n",
    "from keras import optimizers\n",
    "from keras.regularizers import l2"
   ]
  },
  {
   "cell_type": "code",
   "execution_count": 44,
   "metadata": {},
   "outputs": [],
   "source": [
    "X = X_train_clean_vectorized_tfidf.toarray().reshape(X_train_clean_vectorized_tfidf.shape[0],1,\n",
    "                                                X_train_clean_vectorized_tfidf.shape[1])"
   ]
  },
  {
   "cell_type": "code",
   "execution_count": 54,
   "metadata": {},
   "outputs": [
    {
     "name": "stdout",
     "output_type": "stream",
     "text": [
      "Train on 52 samples, validate on 23 samples\n",
      "Epoch 1/100\n",
      "52/52 [==============================] - 0s 6ms/step - loss: 10.0729 - accuracy: 0.0000e+00 - val_loss: 8.7475 - val_accuracy: 0.0000e+00\n",
      "Epoch 2/100\n",
      "52/52 [==============================] - 0s 300us/step - loss: 7.8567 - accuracy: 0.0192 - val_loss: 7.3248 - val_accuracy: 0.0435\n",
      "Epoch 3/100\n",
      "52/52 [==============================] - 0s 301us/step - loss: 6.4576 - accuracy: 0.0769 - val_loss: 6.0253 - val_accuracy: 0.0435\n",
      "Epoch 4/100\n",
      "52/52 [==============================] - 0s 301us/step - loss: 4.1347 - accuracy: 0.2115 - val_loss: 4.8005 - val_accuracy: 0.0870\n",
      "Epoch 5/100\n",
      "52/52 [==============================] - 0s 300us/step - loss: 3.3724 - accuracy: 0.2692 - val_loss: 4.1174 - val_accuracy: 0.0870\n",
      "Epoch 6/100\n",
      "52/52 [==============================] - 0s 300us/step - loss: 3.0569 - accuracy: 0.3269 - val_loss: 3.8305 - val_accuracy: 0.1739\n",
      "Epoch 7/100\n",
      "52/52 [==============================] - 0s 301us/step - loss: 2.5750 - accuracy: 0.3269 - val_loss: 3.2257 - val_accuracy: 0.2174\n",
      "Epoch 8/100\n",
      "52/52 [==============================] - 0s 300us/step - loss: 2.1723 - accuracy: 0.3269 - val_loss: 3.0384 - val_accuracy: 0.2174\n",
      "Epoch 9/100\n",
      "52/52 [==============================] - 0s 301us/step - loss: 2.0242 - accuracy: 0.3462 - val_loss: 2.9022 - val_accuracy: 0.2174\n",
      "Epoch 10/100\n",
      "52/52 [==============================] - 0s 0us/step - loss: 1.9191 - accuracy: 0.4423 - val_loss: 2.4063 - val_accuracy: 0.1739\n",
      "Epoch 11/100\n",
      "52/52 [==============================] - 0s 0us/step - loss: 1.8320 - accuracy: 0.4423 - val_loss: 1.9693 - val_accuracy: 0.1739\n",
      "Epoch 12/100\n",
      "52/52 [==============================] - 0s 300us/step - loss: 1.7642 - accuracy: 0.4423 - val_loss: 1.8282 - val_accuracy: 0.2609\n",
      "Epoch 13/100\n",
      "52/52 [==============================] - 0s 300us/step - loss: 1.7137 - accuracy: 0.4423 - val_loss: 1.7468 - val_accuracy: 0.2174\n",
      "Epoch 14/100\n",
      "52/52 [==============================] - 0s 0us/step - loss: 1.5050 - accuracy: 0.4423 - val_loss: 1.6877 - val_accuracy: 0.2609\n",
      "Epoch 15/100\n",
      "52/52 [==============================] - 0s 0us/step - loss: 1.4542 - accuracy: 0.4231 - val_loss: 1.6422 - val_accuracy: 0.2609\n",
      "Epoch 16/100\n",
      "52/52 [==============================] - 0s 301us/step - loss: 1.4168 - accuracy: 0.4231 - val_loss: 1.6088 - val_accuracy: 0.2609\n",
      "Epoch 17/100\n",
      "52/52 [==============================] - 0s 300us/step - loss: 1.3868 - accuracy: 0.4038 - val_loss: 1.5827 - val_accuracy: 0.3043\n",
      "Epoch 18/100\n",
      "52/52 [==============================] - 0s 300us/step - loss: 1.3607 - accuracy: 0.4038 - val_loss: 1.5619 - val_accuracy: 0.3043\n",
      "Epoch 19/100\n",
      "52/52 [==============================] - 0s 301us/step - loss: 1.3375 - accuracy: 0.4231 - val_loss: 1.5455 - val_accuracy: 0.3043\n",
      "Epoch 20/100\n",
      "52/52 [==============================] - 0s 300us/step - loss: 1.3167 - accuracy: 0.4423 - val_loss: 1.5297 - val_accuracy: 0.3043\n",
      "Epoch 21/100\n",
      "52/52 [==============================] - 0s 601us/step - loss: 1.2978 - accuracy: 0.4615 - val_loss: 1.5141 - val_accuracy: 0.3043\n",
      "Epoch 22/100\n",
      "52/52 [==============================] - 0s 300us/step - loss: 1.2801 - accuracy: 0.4808 - val_loss: 1.5001 - val_accuracy: 0.2609\n",
      "Epoch 23/100\n",
      "52/52 [==============================] - 0s 301us/step - loss: 1.2642 - accuracy: 0.4808 - val_loss: 1.4867 - val_accuracy: 0.2609\n",
      "Epoch 24/100\n",
      "52/52 [==============================] - 0s 0us/step - loss: 1.2493 - accuracy: 0.5385 - val_loss: 1.4746 - val_accuracy: 0.2174\n",
      "Epoch 25/100\n",
      "52/52 [==============================] - 0s 0us/step - loss: 1.2346 - accuracy: 0.5385 - val_loss: 1.4633 - val_accuracy: 0.2174\n",
      "Epoch 26/100\n",
      "52/52 [==============================] - 0s 0us/step - loss: 1.2198 - accuracy: 0.5577 - val_loss: 1.4529 - val_accuracy: 0.2174\n",
      "Epoch 27/100\n",
      "52/52 [==============================] - 0s 301us/step - loss: 1.2046 - accuracy: 0.5385 - val_loss: 1.4433 - val_accuracy: 0.2609\n",
      "Epoch 28/100\n",
      "52/52 [==============================] - 0s 300us/step - loss: 1.1899 - accuracy: 0.5577 - val_loss: 1.4346 - val_accuracy: 0.2609\n",
      "Epoch 29/100\n",
      "52/52 [==============================] - 0s 301us/step - loss: 1.1747 - accuracy: 0.5577 - val_loss: 1.4261 - val_accuracy: 0.3043\n",
      "Epoch 30/100\n",
      "52/52 [==============================] - 0s 300us/step - loss: 1.1586 - accuracy: 0.5769 - val_loss: 1.4180 - val_accuracy: 0.3043\n",
      "Epoch 31/100\n",
      "52/52 [==============================] - 0s 300us/step - loss: 1.1421 - accuracy: 0.5962 - val_loss: 1.4104 - val_accuracy: 0.3043\n",
      "Epoch 32/100\n",
      "52/52 [==============================] - 0s 300us/step - loss: 1.1244 - accuracy: 0.6154 - val_loss: 1.4029 - val_accuracy: 0.3043\n",
      "Epoch 33/100\n",
      "52/52 [==============================] - 0s 300us/step - loss: 1.1074 - accuracy: 0.6154 - val_loss: 1.3953 - val_accuracy: 0.3043\n",
      "Epoch 34/100\n",
      "52/52 [==============================] - 0s 0us/step - loss: 1.0899 - accuracy: 0.6538 - val_loss: 1.3878 - val_accuracy: 0.3043\n",
      "Epoch 35/100\n",
      "52/52 [==============================] - 0s 300us/step - loss: 1.0727 - accuracy: 0.6731 - val_loss: 1.3816 - val_accuracy: 0.3478\n",
      "Epoch 36/100\n",
      "52/52 [==============================] - 0s 0us/step - loss: 1.0562 - accuracy: 0.6731 - val_loss: 1.3757 - val_accuracy: 0.3478\n",
      "Epoch 37/100\n",
      "52/52 [==============================] - 0s 300us/step - loss: 1.0391 - accuracy: 0.6538 - val_loss: 1.3707 - val_accuracy: 0.3478\n",
      "Epoch 38/100\n",
      "52/52 [==============================] - 0s 301us/step - loss: 1.0217 - accuracy: 0.6731 - val_loss: 1.3665 - val_accuracy: 0.3043\n",
      "Epoch 39/100\n",
      "52/52 [==============================] - 0s 300us/step - loss: 1.0052 - accuracy: 0.6923 - val_loss: 1.3633 - val_accuracy: 0.3043\n",
      "Epoch 40/100\n",
      "52/52 [==============================] - 0s 300us/step - loss: 0.9894 - accuracy: 0.6923 - val_loss: 1.3604 - val_accuracy: 0.3043\n",
      "Epoch 41/100\n",
      "52/52 [==============================] - 0s 301us/step - loss: 0.9732 - accuracy: 0.7115 - val_loss: 1.3574 - val_accuracy: 0.3043\n",
      "Epoch 42/100\n",
      "52/52 [==============================] - 0s 300us/step - loss: 0.9565 - accuracy: 0.7115 - val_loss: 1.3553 - val_accuracy: 0.3043\n",
      "Epoch 43/100\n",
      "52/52 [==============================] - 0s 301us/step - loss: 0.9401 - accuracy: 0.7115 - val_loss: 1.3534 - val_accuracy: 0.3043\n",
      "Epoch 44/100\n",
      "52/52 [==============================] - 0s 300us/step - loss: 0.9243 - accuracy: 0.6923 - val_loss: 1.3519 - val_accuracy: 0.3043\n",
      "Epoch 45/100\n",
      "52/52 [==============================] - 0s 300us/step - loss: 0.9087 - accuracy: 0.6923 - val_loss: 1.3520 - val_accuracy: 0.3043\n",
      "Epoch 46/100\n",
      "52/52 [==============================] - 0s 301us/step - loss: 0.8940 - accuracy: 0.6538 - val_loss: 1.3532 - val_accuracy: 0.3043\n",
      "Epoch 47/100\n",
      "52/52 [==============================] - 0s 0us/step - loss: 0.8789 - accuracy: 0.6538 - val_loss: 1.3548 - val_accuracy: 0.3043\n",
      "Epoch 48/100\n",
      "52/52 [==============================] - 0s 300us/step - loss: 0.8646 - accuracy: 0.6346 - val_loss: 1.3561 - val_accuracy: 0.3043\n",
      "Epoch 49/100\n",
      "52/52 [==============================] - 0s 301us/step - loss: 0.8511 - accuracy: 0.6538 - val_loss: 1.3569 - val_accuracy: 0.3043\n",
      "Epoch 50/100\n",
      "52/52 [==============================] - 0s 300us/step - loss: 0.8378 - accuracy: 0.6731 - val_loss: 1.3572 - val_accuracy: 0.3043\n",
      "Epoch 51/100\n",
      "52/52 [==============================] - 0s 300us/step - loss: 0.8245 - accuracy: 0.6731 - val_loss: 1.3571 - val_accuracy: 0.3043\n",
      "Epoch 52/100\n",
      "52/52 [==============================] - 0s 0us/step - loss: 0.8116 - accuracy: 0.6731 - val_loss: 1.3568 - val_accuracy: 0.2609\n",
      "Epoch 53/100\n",
      "52/52 [==============================] - 0s 300us/step - loss: 0.7984 - accuracy: 0.6923 - val_loss: 1.3561 - val_accuracy: 0.2609\n",
      "Epoch 54/100\n",
      "52/52 [==============================] - 0s 301us/step - loss: 0.7849 - accuracy: 0.6731 - val_loss: 1.3556 - val_accuracy: 0.2609\n",
      "Epoch 55/100\n",
      "52/52 [==============================] - 0s 300us/step - loss: 0.7716 - accuracy: 0.6731 - val_loss: 1.3554 - val_accuracy: 0.2609\n",
      "Epoch 56/100\n",
      "52/52 [==============================] - 0s 300us/step - loss: 0.7591 - accuracy: 0.6731 - val_loss: 1.3548 - val_accuracy: 0.2609\n",
      "Epoch 57/100\n",
      "52/52 [==============================] - 0s 301us/step - loss: 0.7466 - accuracy: 0.6923 - val_loss: 1.3543 - val_accuracy: 0.2609\n"
     ]
    },
    {
     "name": "stdout",
     "output_type": "stream",
     "text": [
      "Epoch 58/100\n",
      "52/52 [==============================] - 0s 300us/step - loss: 0.7341 - accuracy: 0.6923 - val_loss: 1.3540 - val_accuracy: 0.2609\n",
      "Epoch 59/100\n",
      "52/52 [==============================] - 0s 300us/step - loss: 0.7223 - accuracy: 0.7115 - val_loss: 1.3542 - val_accuracy: 0.2609\n",
      "Epoch 60/100\n",
      "52/52 [==============================] - 0s 0us/step - loss: 0.7113 - accuracy: 0.7115 - val_loss: 1.3562 - val_accuracy: 0.2609\n",
      "Epoch 61/100\n",
      "52/52 [==============================] - 0s 301us/step - loss: 0.7003 - accuracy: 0.7308 - val_loss: 1.3594 - val_accuracy: 0.2609\n",
      "Epoch 62/100\n",
      "52/52 [==============================] - 0s 301us/step - loss: 0.6912 - accuracy: 0.7308 - val_loss: 1.3634 - val_accuracy: 0.2609\n",
      "Epoch 63/100\n",
      "52/52 [==============================] - 0s 300us/step - loss: 0.6815 - accuracy: 0.7308 - val_loss: 1.3673 - val_accuracy: 0.2609\n",
      "Epoch 64/100\n",
      "52/52 [==============================] - 0s 300us/step - loss: 0.6711 - accuracy: 0.7308 - val_loss: 1.3718 - val_accuracy: 0.2609\n",
      "Epoch 65/100\n",
      "52/52 [==============================] - 0s 301us/step - loss: 0.6605 - accuracy: 0.7308 - val_loss: 1.3778 - val_accuracy: 0.2609\n",
      "Epoch 66/100\n",
      "52/52 [==============================] - 0s 301us/step - loss: 0.6509 - accuracy: 0.7308 - val_loss: 1.3865 - val_accuracy: 0.2609\n",
      "Epoch 67/100\n",
      "52/52 [==============================] - 0s 300us/step - loss: 0.6417 - accuracy: 0.7500 - val_loss: 1.3974 - val_accuracy: 0.2609\n",
      "Epoch 68/100\n",
      "52/52 [==============================] - 0s 300us/step - loss: 0.6324 - accuracy: 0.7500 - val_loss: 1.4105 - val_accuracy: 0.2609\n",
      "Epoch 69/100\n",
      "52/52 [==============================] - 0s 300us/step - loss: 0.6232 - accuracy: 0.7692 - val_loss: 1.4272 - val_accuracy: 0.2609\n",
      "Epoch 70/100\n",
      "52/52 [==============================] - 0s 0us/step - loss: 0.6139 - accuracy: 0.7692 - val_loss: 1.4540 - val_accuracy: 0.2609\n",
      "Epoch 71/100\n",
      "52/52 [==============================] - 0s 300us/step - loss: 0.6047 - accuracy: 0.8077 - val_loss: 1.5220 - val_accuracy: 0.2609\n",
      "Epoch 72/100\n",
      "52/52 [==============================] - 0s 300us/step - loss: 0.5954 - accuracy: 0.8077 - val_loss: 1.8199 - val_accuracy: 0.2609\n",
      "Epoch 73/100\n",
      "52/52 [==============================] - 0s 301us/step - loss: 0.5867 - accuracy: 0.7885 - val_loss: 1.8336 - val_accuracy: 0.2609\n",
      "Epoch 74/100\n",
      "52/52 [==============================] - 0s 300us/step - loss: 0.5778 - accuracy: 0.7885 - val_loss: 1.8517 - val_accuracy: 0.2609\n",
      "Epoch 75/100\n",
      "52/52 [==============================] - 0s 300us/step - loss: 0.5692 - accuracy: 0.7885 - val_loss: 1.8764 - val_accuracy: 0.2609\n",
      "Epoch 76/100\n",
      "52/52 [==============================] - 0s 0us/step - loss: 0.5602 - accuracy: 0.7885 - val_loss: 1.9176 - val_accuracy: 0.2609\n",
      "Epoch 77/100\n",
      "52/52 [==============================] - 0s 301us/step - loss: 0.5508 - accuracy: 0.7885 - val_loss: 2.2549 - val_accuracy: 0.2609\n",
      "Epoch 78/100\n",
      "52/52 [==============================] - 0s 300us/step - loss: 0.5414 - accuracy: 0.7885 - val_loss: 2.2674 - val_accuracy: 0.2609\n",
      "Epoch 79/100\n",
      "52/52 [==============================] - 0s 300us/step - loss: 0.5329 - accuracy: 0.7885 - val_loss: 2.2797 - val_accuracy: 0.2609\n",
      "Epoch 80/100\n",
      "52/52 [==============================] - 0s 300us/step - loss: 0.5240 - accuracy: 0.7885 - val_loss: 2.2914 - val_accuracy: 0.2609\n",
      "Epoch 81/100\n",
      "52/52 [==============================] - 0s 0us/step - loss: 0.5159 - accuracy: 0.7885 - val_loss: 2.3039 - val_accuracy: 0.2609\n",
      "Epoch 82/100\n",
      "52/52 [==============================] - 0s 300us/step - loss: 0.5078 - accuracy: 0.7885 - val_loss: 2.3173 - val_accuracy: 0.2609\n",
      "Epoch 83/100\n",
      "52/52 [==============================] - 0s 0us/step - loss: 0.4999 - accuracy: 0.7885 - val_loss: 2.3291 - val_accuracy: 0.2609\n",
      "Epoch 84/100\n",
      "52/52 [==============================] - 0s 300us/step - loss: 0.4913 - accuracy: 0.7885 - val_loss: 2.3443 - val_accuracy: 0.2609\n",
      "Epoch 85/100\n",
      "52/52 [==============================] - 0s 300us/step - loss: 0.4830 - accuracy: 0.7885 - val_loss: 2.3661 - val_accuracy: 0.2609\n",
      "Epoch 86/100\n",
      "52/52 [==============================] - 0s 300us/step - loss: 0.4746 - accuracy: 0.7885 - val_loss: 2.4070 - val_accuracy: 0.2609\n",
      "Epoch 87/100\n",
      "52/52 [==============================] - 0s 0us/step - loss: 0.4659 - accuracy: 0.7885 - val_loss: 2.7252 - val_accuracy: 0.2609\n",
      "Epoch 88/100\n",
      "52/52 [==============================] - 0s 0us/step - loss: 0.4570 - accuracy: 0.8077 - val_loss: 2.7392 - val_accuracy: 0.2609\n",
      "Epoch 89/100\n",
      "52/52 [==============================] - 0s 300us/step - loss: 0.4477 - accuracy: 0.8077 - val_loss: 2.7568 - val_accuracy: 0.2609\n",
      "Epoch 90/100\n",
      "52/52 [==============================] - 0s 300us/step - loss: 0.4384 - accuracy: 0.8077 - val_loss: 2.7889 - val_accuracy: 0.2609\n",
      "Epoch 91/100\n",
      "52/52 [==============================] - 0s 300us/step - loss: 0.4291 - accuracy: 0.8077 - val_loss: 2.8356 - val_accuracy: 0.2609\n",
      "Epoch 92/100\n",
      "52/52 [==============================] - 0s 300us/step - loss: 0.4197 - accuracy: 0.8077 - val_loss: 3.1224 - val_accuracy: 0.2609\n",
      "Epoch 93/100\n",
      "52/52 [==============================] - 0s 301us/step - loss: 0.4101 - accuracy: 0.8077 - val_loss: 3.1284 - val_accuracy: 0.2609\n",
      "Epoch 94/100\n",
      "52/52 [==============================] - 0s 300us/step - loss: 0.4003 - accuracy: 0.8077 - val_loss: 3.1346 - val_accuracy: 0.2609\n",
      "Epoch 95/100\n",
      "52/52 [==============================] - 0s 300us/step - loss: 0.3905 - accuracy: 0.8077 - val_loss: 3.1439 - val_accuracy: 0.2609\n",
      "Epoch 96/100\n",
      "52/52 [==============================] - 0s 300us/step - loss: 0.3798 - accuracy: 0.8077 - val_loss: 3.1544 - val_accuracy: 0.2609\n",
      "Epoch 97/100\n",
      "52/52 [==============================] - 0s 300us/step - loss: 0.3689 - accuracy: 0.8077 - val_loss: 3.1652 - val_accuracy: 0.2609\n",
      "Epoch 98/100\n",
      "52/52 [==============================] - 0s 301us/step - loss: 0.3594 - accuracy: 0.8269 - val_loss: 3.1788 - val_accuracy: 0.3043\n",
      "Epoch 99/100\n",
      "52/52 [==============================] - 0s 300us/step - loss: 0.3524 - accuracy: 0.8462 - val_loss: 3.1947 - val_accuracy: 0.3043\n",
      "Epoch 100/100\n",
      "52/52 [==============================] - 0s 300us/step - loss: 0.3444 - accuracy: 0.8462 - val_loss: 3.2280 - val_accuracy: 0.3043\n"
     ]
    }
   ],
   "source": [
    "n_timesteps = 1\n",
    "n_features = X.shape[2]\n",
    "\n",
    "model = Sequential()\n",
    "model.add(Conv1D(filters=16, kernel_size=1, activation='relu', input_shape=(n_timesteps, n_features)))\n",
    "model.add(MaxPooling1D(pool_size=1))\n",
    "model.add(Conv1D(filters=16, kernel_size=1, activation='relu'))\n",
    "model.add(MaxPooling1D(pool_size=1))\n",
    "model.add(Flatten())\n",
    "model.add(Dense(20, activation='relu'))\n",
    "model.add(Dense(y_train.shape[0], activation='relu'))\n",
    "model.compile(loss='sparse_categorical_crossentropy', optimizer=\"adam\", metrics=['accuracy'])\n",
    "\n",
    "epochs = 100\n",
    "batch_size = 64\n",
    "history = model.fit(X, y_train, epochs=epochs, batch_size=batch_size, validation_split=0.3)"
   ]
  },
  {
   "cell_type": "code",
   "execution_count": 46,
   "metadata": {},
   "outputs": [],
   "source": [
    "X_bin = X_train_clean_vectorized_bin.toarray().reshape(X_train_clean_vectorized_bin.shape[0],1,\n",
    "                                                X_train_clean_vectorized_bin.shape[1])"
   ]
  },
  {
   "cell_type": "code",
   "execution_count": 52,
   "metadata": {
    "scrolled": true
   },
   "outputs": [
    {
     "name": "stdout",
     "output_type": "stream",
     "text": [
      "Train on 52 samples, validate on 23 samples\n",
      "Epoch 1/100\n",
      "52/52 [==============================] - 0s 5ms/step - loss: 4.3556 - accuracy: 0.0000e+00 - val_loss: 4.3320 - val_accuracy: 0.0000e+00\n",
      "Epoch 2/100\n",
      "52/52 [==============================] - 0s 300us/step - loss: 4.3388 - accuracy: 0.0000e+00 - val_loss: 4.3257 - val_accuracy: 0.0000e+00\n",
      "Epoch 3/100\n",
      "52/52 [==============================] - 0s 300us/step - loss: 4.3258 - accuracy: 0.0000e+00 - val_loss: 4.3191 - val_accuracy: 0.0435\n",
      "Epoch 4/100\n",
      "52/52 [==============================] - 0s 0us/step - loss: 4.3133 - accuracy: 0.0385 - val_loss: 4.3128 - val_accuracy: 0.0435\n",
      "Epoch 5/100\n",
      "52/52 [==============================] - 0s 301us/step - loss: 4.3013 - accuracy: 0.0577 - val_loss: 4.3068 - val_accuracy: 0.0435\n",
      "Epoch 6/100\n",
      "52/52 [==============================] - 0s 0us/step - loss: 4.2901 - accuracy: 0.0577 - val_loss: 4.3011 - val_accuracy: 0.0870\n",
      "Epoch 7/100\n",
      "52/52 [==============================] - 0s 301us/step - loss: 4.2800 - accuracy: 0.0769 - val_loss: 4.2955 - val_accuracy: 0.0870\n",
      "Epoch 8/100\n",
      "52/52 [==============================] - 0s 301us/step - loss: 4.2699 - accuracy: 0.0962 - val_loss: 4.2903 - val_accuracy: 0.1304\n",
      "Epoch 9/100\n",
      "52/52 [==============================] - 0s 301us/step - loss: 4.2596 - accuracy: 0.1346 - val_loss: 4.2851 - val_accuracy: 0.1304\n",
      "Epoch 10/100\n",
      "52/52 [==============================] - 0s 300us/step - loss: 4.2492 - accuracy: 0.2115 - val_loss: 4.2799 - val_accuracy: 0.1739\n",
      "Epoch 11/100\n",
      "52/52 [==============================] - 0s 301us/step - loss: 4.2391 - accuracy: 0.2115 - val_loss: 4.2744 - val_accuracy: 0.2174\n",
      "Epoch 12/100\n",
      "52/52 [==============================] - 0s 0us/step - loss: 4.2290 - accuracy: 0.2115 - val_loss: 4.2687 - val_accuracy: 0.2174\n",
      "Epoch 13/100\n",
      "52/52 [==============================] - 0s 300us/step - loss: 4.2184 - accuracy: 0.2308 - val_loss: 4.2631 - val_accuracy: 0.1739\n",
      "Epoch 14/100\n",
      "52/52 [==============================] - 0s 301us/step - loss: 4.2073 - accuracy: 0.2308 - val_loss: 4.2573 - val_accuracy: 0.2174\n",
      "Epoch 15/100\n",
      "52/52 [==============================] - 0s 300us/step - loss: 4.1958 - accuracy: 0.2500 - val_loss: 4.2512 - val_accuracy: 0.2174\n",
      "Epoch 16/100\n",
      "52/52 [==============================] - 0s 301us/step - loss: 4.1836 - accuracy: 0.2500 - val_loss: 4.2450 - val_accuracy: 0.2174\n",
      "Epoch 17/100\n",
      "52/52 [==============================] - 0s 300us/step - loss: 4.1709 - accuracy: 0.2500 - val_loss: 4.2384 - val_accuracy: 0.2174\n",
      "Epoch 18/100\n",
      "52/52 [==============================] - 0s 300us/step - loss: 4.1576 - accuracy: 0.2692 - val_loss: 4.2314 - val_accuracy: 0.2174\n",
      "Epoch 19/100\n",
      "52/52 [==============================] - 0s 300us/step - loss: 4.1435 - accuracy: 0.2692 - val_loss: 4.2240 - val_accuracy: 0.2174\n",
      "Epoch 20/100\n",
      "52/52 [==============================] - 0s 301us/step - loss: 4.1284 - accuracy: 0.2692 - val_loss: 4.2162 - val_accuracy: 0.2174\n",
      "Epoch 21/100\n",
      "52/52 [==============================] - 0s 300us/step - loss: 4.1125 - accuracy: 0.2885 - val_loss: 4.2076 - val_accuracy: 0.2174\n",
      "Epoch 22/100\n",
      "52/52 [==============================] - 0s 301us/step - loss: 4.0958 - accuracy: 0.2885 - val_loss: 4.1985 - val_accuracy: 0.2174\n",
      "Epoch 23/100\n",
      "52/52 [==============================] - 0s 300us/step - loss: 4.0781 - accuracy: 0.2692 - val_loss: 4.1886 - val_accuracy: 0.2174\n",
      "Epoch 24/100\n",
      "52/52 [==============================] - 0s 300us/step - loss: 4.0590 - accuracy: 0.2692 - val_loss: 4.1778 - val_accuracy: 0.2174\n",
      "Epoch 25/100\n",
      "52/52 [==============================] - 0s 300us/step - loss: 4.0389 - accuracy: 0.2500 - val_loss: 4.1664 - val_accuracy: 0.2174\n",
      "Epoch 26/100\n",
      "52/52 [==============================] - 0s 300us/step - loss: 4.0176 - accuracy: 0.2500 - val_loss: 4.1542 - val_accuracy: 0.2609\n",
      "Epoch 27/100\n",
      "52/52 [==============================] - 0s 300us/step - loss: 3.9945 - accuracy: 0.2500 - val_loss: 4.1408 - val_accuracy: 0.2609\n",
      "Epoch 28/100\n",
      "52/52 [==============================] - 0s 0us/step - loss: 3.9698 - accuracy: 0.2500 - val_loss: 4.1261 - val_accuracy: 0.2609\n",
      "Epoch 29/100\n",
      "52/52 [==============================] - 0s 300us/step - loss: 3.9432 - accuracy: 0.2692 - val_loss: 4.1099 - val_accuracy: 0.2609\n",
      "Epoch 30/100\n",
      "52/52 [==============================] - 0s 300us/step - loss: 3.9144 - accuracy: 0.2692 - val_loss: 4.0926 - val_accuracy: 0.2609\n",
      "Epoch 31/100\n",
      "52/52 [==============================] - 0s 0us/step - loss: 3.8844 - accuracy: 0.2692 - val_loss: 4.0740 - val_accuracy: 0.2609\n",
      "Epoch 32/100\n",
      "52/52 [==============================] - 0s 301us/step - loss: 3.8528 - accuracy: 0.2692 - val_loss: 4.0543 - val_accuracy: 0.2609\n",
      "Epoch 33/100\n",
      "52/52 [==============================] - 0s 0us/step - loss: 3.8191 - accuracy: 0.2692 - val_loss: 4.0331 - val_accuracy: 0.2609\n",
      "Epoch 34/100\n",
      "52/52 [==============================] - 0s 300us/step - loss: 3.7841 - accuracy: 0.2692 - val_loss: 4.0096 - val_accuracy: 0.2609\n",
      "Epoch 35/100\n",
      "52/52 [==============================] - 0s 300us/step - loss: 3.7471 - accuracy: 0.3077 - val_loss: 3.9850 - val_accuracy: 0.2609\n",
      "Epoch 36/100\n",
      "52/52 [==============================] - 0s 300us/step - loss: 3.7089 - accuracy: 0.3077 - val_loss: 3.9599 - val_accuracy: 0.2609\n",
      "Epoch 37/100\n",
      "52/52 [==============================] - 0s 0us/step - loss: 3.6690 - accuracy: 0.3077 - val_loss: 3.9329 - val_accuracy: 0.2609\n",
      "Epoch 38/100\n",
      "52/52 [==============================] - 0s 301us/step - loss: 3.6266 - accuracy: 0.3077 - val_loss: 3.9041 - val_accuracy: 0.2609\n",
      "Epoch 39/100\n",
      "52/52 [==============================] - 0s 0us/step - loss: 3.5829 - accuracy: 0.3077 - val_loss: 3.8726 - val_accuracy: 0.2609\n",
      "Epoch 40/100\n",
      "52/52 [==============================] - 0s 301us/step - loss: 3.5377 - accuracy: 0.3077 - val_loss: 3.8392 - val_accuracy: 0.2609\n",
      "Epoch 41/100\n",
      "52/52 [==============================] - 0s 300us/step - loss: 3.4915 - accuracy: 0.3077 - val_loss: 3.8048 - val_accuracy: 0.2609\n",
      "Epoch 42/100\n",
      "52/52 [==============================] - 0s 300us/step - loss: 3.4436 - accuracy: 0.3077 - val_loss: 3.7677 - val_accuracy: 0.2609\n",
      "Epoch 43/100\n",
      "52/52 [==============================] - 0s 300us/step - loss: 3.3947 - accuracy: 0.3077 - val_loss: 3.7294 - val_accuracy: 0.2609\n",
      "Epoch 44/100\n",
      "52/52 [==============================] - 0s 300us/step - loss: 3.3455 - accuracy: 0.3077 - val_loss: 3.6900 - val_accuracy: 0.2609\n",
      "Epoch 45/100\n",
      "52/52 [==============================] - 0s 0us/step - loss: 3.2954 - accuracy: 0.3077 - val_loss: 3.6491 - val_accuracy: 0.2609\n",
      "Epoch 46/100\n",
      "52/52 [==============================] - 0s 300us/step - loss: 3.2452 - accuracy: 0.3077 - val_loss: 3.6051 - val_accuracy: 0.2609\n",
      "Epoch 47/100\n",
      "52/52 [==============================] - 0s 0us/step - loss: 3.1943 - accuracy: 0.3077 - val_loss: 3.5570 - val_accuracy: 0.2609\n",
      "Epoch 48/100\n",
      "52/52 [==============================] - 0s 301us/step - loss: 3.1432 - accuracy: 0.3077 - val_loss: 3.5066 - val_accuracy: 0.2609\n",
      "Epoch 49/100\n",
      "52/52 [==============================] - 0s 300us/step - loss: 3.0914 - accuracy: 0.3077 - val_loss: 3.4558 - val_accuracy: 0.3043\n",
      "Epoch 50/100\n",
      "52/52 [==============================] - 0s 300us/step - loss: 3.0400 - accuracy: 0.3077 - val_loss: 3.4045 - val_accuracy: 0.3043\n",
      "Epoch 51/100\n",
      "52/52 [==============================] - 0s 300us/step - loss: 2.9870 - accuracy: 0.3077 - val_loss: 3.3514 - val_accuracy: 0.3043\n",
      "Epoch 52/100\n",
      "52/52 [==============================] - 0s 300us/step - loss: 2.9318 - accuracy: 0.3077 - val_loss: 3.2968 - val_accuracy: 0.3043\n",
      "Epoch 53/100\n",
      "52/52 [==============================] - 0s 0us/step - loss: 2.8767 - accuracy: 0.3077 - val_loss: 3.2392 - val_accuracy: 0.3043\n",
      "Epoch 54/100\n",
      "52/52 [==============================] - 0s 300us/step - loss: 2.8201 - accuracy: 0.2885 - val_loss: 3.1798 - val_accuracy: 0.3043\n",
      "Epoch 55/100\n",
      "52/52 [==============================] - 0s 0us/step - loss: 2.7617 - accuracy: 0.2885 - val_loss: 3.1210 - val_accuracy: 0.3043\n",
      "Epoch 56/100\n",
      "52/52 [==============================] - 0s 300us/step - loss: 2.7037 - accuracy: 0.2885 - val_loss: 3.0611 - val_accuracy: 0.3043\n",
      "Epoch 57/100\n",
      "52/52 [==============================] - 0s 300us/step - loss: 2.6455 - accuracy: 0.2885 - val_loss: 3.0017 - val_accuracy: 0.3043\n"
     ]
    },
    {
     "name": "stdout",
     "output_type": "stream",
     "text": [
      "Epoch 58/100\n",
      "52/52 [==============================] - 0s 300us/step - loss: 2.5879 - accuracy: 0.2885 - val_loss: 2.9417 - val_accuracy: 0.3043\n",
      "Epoch 59/100\n",
      "52/52 [==============================] - 0s 300us/step - loss: 2.5303 - accuracy: 0.2885 - val_loss: 2.8816 - val_accuracy: 0.3043\n",
      "Epoch 60/100\n",
      "52/52 [==============================] - 0s 0us/step - loss: 2.4729 - accuracy: 0.3269 - val_loss: 2.8202 - val_accuracy: 0.3043\n",
      "Epoch 61/100\n",
      "52/52 [==============================] - 0s 0us/step - loss: 2.4148 - accuracy: 0.3654 - val_loss: 2.7575 - val_accuracy: 0.3043\n",
      "Epoch 62/100\n",
      "52/52 [==============================] - 0s 300us/step - loss: 2.3564 - accuracy: 0.3846 - val_loss: 2.6927 - val_accuracy: 0.3043\n",
      "Epoch 63/100\n",
      "52/52 [==============================] - 0s 300us/step - loss: 2.2980 - accuracy: 0.4423 - val_loss: 2.6238 - val_accuracy: 0.3043\n",
      "Epoch 64/100\n",
      "52/52 [==============================] - 0s 300us/step - loss: 2.2386 - accuracy: 0.4615 - val_loss: 2.5551 - val_accuracy: 0.3043\n",
      "Epoch 65/100\n",
      "52/52 [==============================] - 0s 300us/step - loss: 2.1798 - accuracy: 0.4808 - val_loss: 2.4854 - val_accuracy: 0.3043\n",
      "Epoch 66/100\n",
      "52/52 [==============================] - 0s 300us/step - loss: 2.1195 - accuracy: 0.5769 - val_loss: 2.4151 - val_accuracy: 0.3043\n",
      "Epoch 67/100\n",
      "52/52 [==============================] - 0s 0us/step - loss: 2.0597 - accuracy: 0.6346 - val_loss: 2.3427 - val_accuracy: 0.3043\n",
      "Epoch 68/100\n",
      "52/52 [==============================] - 0s 301us/step - loss: 2.0001 - accuracy: 0.5962 - val_loss: 2.2682 - val_accuracy: 0.3913\n",
      "Epoch 69/100\n",
      "52/52 [==============================] - 0s 0us/step - loss: 1.9407 - accuracy: 0.6154 - val_loss: 2.1936 - val_accuracy: 0.4348\n",
      "Epoch 70/100\n",
      "52/52 [==============================] - 0s 300us/step - loss: 1.8828 - accuracy: 0.6154 - val_loss: 2.1207 - val_accuracy: 0.4783\n",
      "Epoch 71/100\n",
      "52/52 [==============================] - 0s 300us/step - loss: 1.8264 - accuracy: 0.6154 - val_loss: 2.0516 - val_accuracy: 0.4783\n",
      "Epoch 72/100\n",
      "52/52 [==============================] - 0s 300us/step - loss: 1.7723 - accuracy: 0.6346 - val_loss: 1.9868 - val_accuracy: 0.4783\n",
      "Epoch 73/100\n",
      "52/52 [==============================] - 0s 0us/step - loss: 1.7199 - accuracy: 0.6346 - val_loss: 1.9276 - val_accuracy: 0.5217\n",
      "Epoch 74/100\n",
      "52/52 [==============================] - 0s 300us/step - loss: 1.6700 - accuracy: 0.6346 - val_loss: 1.8729 - val_accuracy: 0.6087\n",
      "Epoch 75/100\n",
      "52/52 [==============================] - 0s 300us/step - loss: 1.6224 - accuracy: 0.6538 - val_loss: 1.8221 - val_accuracy: 0.6522\n",
      "Epoch 76/100\n",
      "52/52 [==============================] - 0s 300us/step - loss: 1.5761 - accuracy: 0.6731 - val_loss: 1.7743 - val_accuracy: 0.6522\n",
      "Epoch 77/100\n",
      "52/52 [==============================] - 0s 300us/step - loss: 1.5303 - accuracy: 0.6731 - val_loss: 1.7302 - val_accuracy: 0.6522\n",
      "Epoch 78/100\n",
      "52/52 [==============================] - 0s 0us/step - loss: 1.4846 - accuracy: 0.7115 - val_loss: 1.6895 - val_accuracy: 0.6957\n",
      "Epoch 79/100\n",
      "52/52 [==============================] - 0s 300us/step - loss: 1.4390 - accuracy: 0.7115 - val_loss: 1.6510 - val_accuracy: 0.6957\n",
      "Epoch 80/100\n",
      "52/52 [==============================] - 0s 0us/step - loss: 1.3931 - accuracy: 0.6923 - val_loss: 1.6147 - val_accuracy: 0.6957\n",
      "Epoch 81/100\n",
      "52/52 [==============================] - 0s 300us/step - loss: 1.3480 - accuracy: 0.6923 - val_loss: 1.5802 - val_accuracy: 0.6957\n",
      "Epoch 82/100\n",
      "52/52 [==============================] - 0s 0us/step - loss: 1.3038 - accuracy: 0.6923 - val_loss: 1.5471 - val_accuracy: 0.6957\n",
      "Epoch 83/100\n",
      "52/52 [==============================] - 0s 0us/step - loss: 1.2611 - accuracy: 0.6923 - val_loss: 1.5155 - val_accuracy: 0.6957\n",
      "Epoch 84/100\n",
      "52/52 [==============================] - 0s 300us/step - loss: 1.2193 - accuracy: 0.6923 - val_loss: 1.4854 - val_accuracy: 0.6957\n",
      "Epoch 85/100\n",
      "52/52 [==============================] - 0s 0us/step - loss: 1.1788 - accuracy: 0.7115 - val_loss: 1.4563 - val_accuracy: 0.6957\n",
      "Epoch 86/100\n",
      "52/52 [==============================] - 0s 300us/step - loss: 1.1401 - accuracy: 0.7115 - val_loss: 1.4277 - val_accuracy: 0.6957\n",
      "Epoch 87/100\n",
      "52/52 [==============================] - 0s 301us/step - loss: 1.1026 - accuracy: 0.7115 - val_loss: 1.4000 - val_accuracy: 0.6957\n",
      "Epoch 88/100\n",
      "52/52 [==============================] - 0s 300us/step - loss: 1.0662 - accuracy: 0.7115 - val_loss: 1.3734 - val_accuracy: 0.6957\n",
      "Epoch 89/100\n",
      "52/52 [==============================] - 0s 300us/step - loss: 1.0314 - accuracy: 0.7115 - val_loss: 1.3483 - val_accuracy: 0.6957\n",
      "Epoch 90/100\n",
      "52/52 [==============================] - 0s 300us/step - loss: 0.9985 - accuracy: 0.7115 - val_loss: 1.3246 - val_accuracy: 0.6957\n",
      "Epoch 91/100\n",
      "52/52 [==============================] - 0s 300us/step - loss: 0.9672 - accuracy: 0.7115 - val_loss: 1.3020 - val_accuracy: 0.6957\n",
      "Epoch 92/100\n",
      "52/52 [==============================] - 0s 0us/step - loss: 0.9375 - accuracy: 0.7115 - val_loss: 1.2805 - val_accuracy: 0.6957\n",
      "Epoch 93/100\n",
      "52/52 [==============================] - 0s 300us/step - loss: 0.9097 - accuracy: 0.7115 - val_loss: 1.2602 - val_accuracy: 0.6957\n",
      "Epoch 94/100\n",
      "52/52 [==============================] - 0s 0us/step - loss: 0.8832 - accuracy: 0.7115 - val_loss: 1.2412 - val_accuracy: 0.6957\n",
      "Epoch 95/100\n",
      "52/52 [==============================] - 0s 300us/step - loss: 0.8581 - accuracy: 0.7308 - val_loss: 1.2230 - val_accuracy: 0.6957\n",
      "Epoch 96/100\n",
      "52/52 [==============================] - 0s 300us/step - loss: 0.8341 - accuracy: 0.7308 - val_loss: 1.2058 - val_accuracy: 0.6957\n",
      "Epoch 97/100\n",
      "52/52 [==============================] - 0s 300us/step - loss: 0.8114 - accuracy: 0.7308 - val_loss: 1.1893 - val_accuracy: 0.6957\n",
      "Epoch 98/100\n",
      "52/52 [==============================] - 0s 300us/step - loss: 0.7897 - accuracy: 0.7308 - val_loss: 1.1737 - val_accuracy: 0.6957\n",
      "Epoch 99/100\n",
      "52/52 [==============================] - 0s 0us/step - loss: 0.7692 - accuracy: 0.7308 - val_loss: 1.1588 - val_accuracy: 0.6957\n",
      "Epoch 100/100\n",
      "52/52 [==============================] - 0s 300us/step - loss: 0.7499 - accuracy: 0.7308 - val_loss: 1.1446 - val_accuracy: 0.6957\n"
     ]
    }
   ],
   "source": [
    "n_timesteps = 1\n",
    "n_features = X_bin.shape[2]\n",
    "\n",
    "model = Sequential()\n",
    "model.add(Conv1D(filters=16, kernel_size=1, activation='relu', input_shape=(n_timesteps, n_features)))\n",
    "model.add(MaxPooling1D(pool_size=1))\n",
    "model.add(Conv1D(filters=16, kernel_size=1, activation='relu'))\n",
    "model.add(MaxPooling1D(pool_size=1))\n",
    "model.add(Flatten())\n",
    "model.add(Dense(20, activation='relu'))\n",
    "model.add(Dense(y_train.shape[0], activation='softmax'))\n",
    "model.compile(loss='sparse_categorical_crossentropy', optimizer=\"adam\", metrics=['accuracy'])\n",
    "\n",
    "epochs = 100\n",
    "batch_size = 64\n",
    "history = model.fit(X_bin, y_train, epochs=epochs, batch_size=batch_size, validation_split=0.3)"
   ]
  },
  {
   "cell_type": "code",
   "execution_count": 50,
   "metadata": {},
   "outputs": [],
   "source": [
    "X_count = X_train_clean_vectorized_count.toarray().reshape(X_train_clean_vectorized_count.shape[0],1,\n",
    "                                                X_train_clean_vectorized_count.shape[1])"
   ]
  },
  {
   "cell_type": "code",
   "execution_count": 51,
   "metadata": {},
   "outputs": [
    {
     "name": "stdout",
     "output_type": "stream",
     "text": [
      "Train on 52 samples, validate on 23 samples\n",
      "Epoch 1/100\n",
      "52/52 [==============================] - 0s 6ms/step - loss: 9.4842 - accuracy: 0.0192 - val_loss: 6.1615 - val_accuracy: 0.1739\n",
      "Epoch 2/100\n",
      "52/52 [==============================] - 0s 300us/step - loss: 9.0102 - accuracy: 0.0385 - val_loss: 5.9583 - val_accuracy: 0.2174\n",
      "Epoch 3/100\n",
      "52/52 [==============================] - 0s 300us/step - loss: 8.2320 - accuracy: 0.0962 - val_loss: 5.7982 - val_accuracy: 0.2174\n",
      "Epoch 4/100\n",
      "52/52 [==============================] - 0s 300us/step - loss: 7.9853 - accuracy: 0.0962 - val_loss: 5.6746 - val_accuracy: 0.2174\n",
      "Epoch 5/100\n",
      "52/52 [==============================] - 0s 300us/step - loss: 7.4419 - accuracy: 0.1154 - val_loss: 5.5708 - val_accuracy: 0.2174\n",
      "Epoch 6/100\n",
      "52/52 [==============================] - 0s 301us/step - loss: 6.9909 - accuracy: 0.1538 - val_loss: 5.4730 - val_accuracy: 0.2609\n",
      "Epoch 7/100\n",
      "52/52 [==============================] - 0s 0us/step - loss: 6.8008 - accuracy: 0.1923 - val_loss: 5.3810 - val_accuracy: 0.2609\n",
      "Epoch 8/100\n",
      "52/52 [==============================] - 0s 300us/step - loss: 6.4491 - accuracy: 0.1923 - val_loss: 4.8957 - val_accuracy: 0.2609\n",
      "Epoch 9/100\n",
      "52/52 [==============================] - 0s 300us/step - loss: 6.1737 - accuracy: 0.1923 - val_loss: 4.3642 - val_accuracy: 0.2609\n",
      "Epoch 10/100\n",
      "52/52 [==============================] - 0s 300us/step - loss: 5.9583 - accuracy: 0.2500 - val_loss: 3.8073 - val_accuracy: 0.2609\n",
      "Epoch 11/100\n",
      "52/52 [==============================] - 0s 0us/step - loss: 5.8341 - accuracy: 0.2692 - val_loss: 3.6597 - val_accuracy: 0.2609\n",
      "Epoch 12/100\n",
      "52/52 [==============================] - 0s 300us/step - loss: 5.2960 - accuracy: 0.2885 - val_loss: 3.5495 - val_accuracy: 0.2609\n",
      "Epoch 13/100\n",
      "52/52 [==============================] - 0s 300us/step - loss: 4.9576 - accuracy: 0.2885 - val_loss: 3.4619 - val_accuracy: 0.2609\n",
      "Epoch 14/100\n",
      "52/52 [==============================] - 0s 300us/step - loss: 4.8274 - accuracy: 0.2885 - val_loss: 3.3852 - val_accuracy: 0.2609\n",
      "Epoch 15/100\n",
      "52/52 [==============================] - 0s 301us/step - loss: 4.7272 - accuracy: 0.2885 - val_loss: 3.3115 - val_accuracy: 0.2609\n",
      "Epoch 16/100\n",
      "52/52 [==============================] - 0s 300us/step - loss: 4.4556 - accuracy: 0.3077 - val_loss: 3.2390 - val_accuracy: 0.2609\n",
      "Epoch 17/100\n",
      "52/52 [==============================] - 0s 300us/step - loss: 4.3292 - accuracy: 0.3077 - val_loss: 2.7231 - val_accuracy: 0.3043\n",
      "Epoch 18/100\n",
      "52/52 [==============================] - 0s 300us/step - loss: 4.0697 - accuracy: 0.3269 - val_loss: 2.6102 - val_accuracy: 0.3043\n",
      "Epoch 19/100\n",
      "52/52 [==============================] - 0s 300us/step - loss: 3.9683 - accuracy: 0.3269 - val_loss: 2.5309 - val_accuracy: 0.3043\n",
      "Epoch 20/100\n",
      "52/52 [==============================] - 0s 301us/step - loss: 3.6553 - accuracy: 0.3269 - val_loss: 2.4615 - val_accuracy: 0.3043\n",
      "Epoch 21/100\n",
      "52/52 [==============================] - 0s 300us/step - loss: 3.5815 - accuracy: 0.3462 - val_loss: 2.4030 - val_accuracy: 0.3043\n",
      "Epoch 22/100\n",
      "52/52 [==============================] - 0s 300us/step - loss: 3.5271 - accuracy: 0.3462 - val_loss: 2.3510 - val_accuracy: 0.3043\n",
      "Epoch 23/100\n",
      "52/52 [==============================] - 0s 300us/step - loss: 3.4799 - accuracy: 0.3462 - val_loss: 2.3033 - val_accuracy: 0.3043\n",
      "Epoch 24/100\n",
      "52/52 [==============================] - 0s 300us/step - loss: 3.4354 - accuracy: 0.3654 - val_loss: 2.2613 - val_accuracy: 0.3043\n",
      "Epoch 25/100\n",
      "52/52 [==============================] - 0s 300us/step - loss: 3.3946 - accuracy: 0.4038 - val_loss: 2.2218 - val_accuracy: 0.3478\n",
      "Epoch 26/100\n",
      "52/52 [==============================] - 0s 301us/step - loss: 3.3585 - accuracy: 0.4231 - val_loss: 2.1857 - val_accuracy: 0.3913\n",
      "Epoch 27/100\n",
      "52/52 [==============================] - 0s 300us/step - loss: 3.3239 - accuracy: 0.4231 - val_loss: 2.1523 - val_accuracy: 0.3913\n",
      "Epoch 28/100\n",
      "52/52 [==============================] - 0s 300us/step - loss: 3.2931 - accuracy: 0.4038 - val_loss: 2.1244 - val_accuracy: 0.3913\n",
      "Epoch 29/100\n",
      "52/52 [==============================] - 0s 301us/step - loss: 3.2627 - accuracy: 0.4231 - val_loss: 2.0995 - val_accuracy: 0.3913\n",
      "Epoch 30/100\n",
      "52/52 [==============================] - 0s 301us/step - loss: 3.2320 - accuracy: 0.4423 - val_loss: 2.0765 - val_accuracy: 0.3913\n",
      "Epoch 31/100\n",
      "52/52 [==============================] - 0s 301us/step - loss: 3.2026 - accuracy: 0.4615 - val_loss: 2.0547 - val_accuracy: 0.4348\n",
      "Epoch 32/100\n",
      "52/52 [==============================] - 0s 0us/step - loss: 3.1665 - accuracy: 0.4808 - val_loss: 2.0339 - val_accuracy: 0.4348\n",
      "Epoch 33/100\n",
      "52/52 [==============================] - 0s 300us/step - loss: 3.1417 - accuracy: 0.5000 - val_loss: 2.0180 - val_accuracy: 0.3913\n",
      "Epoch 34/100\n",
      "52/52 [==============================] - 0s 300us/step - loss: 3.1124 - accuracy: 0.5385 - val_loss: 2.0033 - val_accuracy: 0.3913\n",
      "Epoch 35/100\n",
      "52/52 [==============================] - 0s 300us/step - loss: 3.0840 - accuracy: 0.5385 - val_loss: 1.9900 - val_accuracy: 0.3913\n",
      "Epoch 36/100\n",
      "52/52 [==============================] - 0s 0us/step - loss: 3.0510 - accuracy: 0.5385 - val_loss: 1.9787 - val_accuracy: 0.3913\n",
      "Epoch 37/100\n",
      "52/52 [==============================] - 0s 300us/step - loss: 3.0195 - accuracy: 0.5577 - val_loss: 1.9677 - val_accuracy: 0.3913\n",
      "Epoch 38/100\n",
      "52/52 [==============================] - 0s 300us/step - loss: 2.9892 - accuracy: 0.5385 - val_loss: 1.9587 - val_accuracy: 0.3913\n",
      "Epoch 39/100\n",
      "52/52 [==============================] - 0s 300us/step - loss: 2.9578 - accuracy: 0.5385 - val_loss: 1.9493 - val_accuracy: 0.3913\n",
      "Epoch 40/100\n",
      "52/52 [==============================] - 0s 300us/step - loss: 2.9312 - accuracy: 0.5577 - val_loss: 1.9392 - val_accuracy: 0.4348\n",
      "Epoch 41/100\n",
      "52/52 [==============================] - 0s 300us/step - loss: 2.9082 - accuracy: 0.5577 - val_loss: 1.9285 - val_accuracy: 0.4348\n",
      "Epoch 42/100\n",
      "52/52 [==============================] - 0s 301us/step - loss: 2.8742 - accuracy: 0.5769 - val_loss: 1.9150 - val_accuracy: 0.4348\n",
      "Epoch 43/100\n",
      "52/52 [==============================] - 0s 300us/step - loss: 2.8498 - accuracy: 0.5769 - val_loss: 1.9020 - val_accuracy: 0.4348\n",
      "Epoch 44/100\n",
      "52/52 [==============================] - 0s 300us/step - loss: 2.8278 - accuracy: 0.5769 - val_loss: 1.8938 - val_accuracy: 0.4348\n",
      "Epoch 45/100\n",
      "52/52 [==============================] - 0s 300us/step - loss: 2.7808 - accuracy: 0.5769 - val_loss: 1.8905 - val_accuracy: 0.4348\n",
      "Epoch 46/100\n",
      "52/52 [==============================] - 0s 300us/step - loss: 2.7661 - accuracy: 0.5962 - val_loss: 1.8863 - val_accuracy: 0.3913\n",
      "Epoch 47/100\n",
      "52/52 [==============================] - 0s 300us/step - loss: 2.7396 - accuracy: 0.6346 - val_loss: 1.8854 - val_accuracy: 0.3913\n",
      "Epoch 48/100\n",
      "52/52 [==============================] - 0s 300us/step - loss: 2.7018 - accuracy: 0.6346 - val_loss: 1.8870 - val_accuracy: 0.3913\n",
      "Epoch 49/100\n",
      "52/52 [==============================] - 0s 300us/step - loss: 2.6655 - accuracy: 0.6346 - val_loss: 1.8953 - val_accuracy: 0.3913\n",
      "Epoch 50/100\n",
      "52/52 [==============================] - 0s 300us/step - loss: 2.5930 - accuracy: 0.6154 - val_loss: 1.9188 - val_accuracy: 0.3913\n",
      "Epoch 51/100\n",
      "52/52 [==============================] - 0s 301us/step - loss: 2.5829 - accuracy: 0.6154 - val_loss: 2.0039 - val_accuracy: 0.3913\n",
      "Epoch 52/100\n",
      "52/52 [==============================] - 0s 300us/step - loss: 2.5709 - accuracy: 0.6346 - val_loss: 2.3814 - val_accuracy: 0.3913\n",
      "Epoch 53/100\n",
      "52/52 [==============================] - 0s 601us/step - loss: 2.5358 - accuracy: 0.6346 - val_loss: 2.7238 - val_accuracy: 0.3913\n",
      "Epoch 54/100\n",
      "52/52 [==============================] - 0s 601us/step - loss: 2.5057 - accuracy: 0.6346 - val_loss: 2.7134 - val_accuracy: 0.4348\n",
      "Epoch 55/100\n",
      "52/52 [==============================] - 0s 0us/step - loss: 2.6853 - accuracy: 0.6346 - val_loss: 2.7061 - val_accuracy: 0.4348\n",
      "Epoch 56/100\n",
      "52/52 [==============================] - 0s 301us/step - loss: 2.6594 - accuracy: 0.6154 - val_loss: 2.7029 - val_accuracy: 0.4348\n",
      "Epoch 57/100\n",
      "52/52 [==============================] - 0s 300us/step - loss: 2.3245 - accuracy: 0.6154 - val_loss: 2.7046 - val_accuracy: 0.4783\n"
     ]
    },
    {
     "name": "stdout",
     "output_type": "stream",
     "text": [
      "Epoch 58/100\n",
      "52/52 [==============================] - 0s 301us/step - loss: 2.2989 - accuracy: 0.6538 - val_loss: 2.7108 - val_accuracy: 0.4783\n",
      "Epoch 59/100\n",
      "52/52 [==============================] - 0s 300us/step - loss: 2.2086 - accuracy: 0.6538 - val_loss: 2.7283 - val_accuracy: 0.4783\n",
      "Epoch 60/100\n",
      "52/52 [==============================] - 0s 301us/step - loss: 2.1758 - accuracy: 0.6538 - val_loss: 2.7709 - val_accuracy: 0.4783\n",
      "Epoch 61/100\n",
      "52/52 [==============================] - 0s 0us/step - loss: 2.1434 - accuracy: 0.6538 - val_loss: 3.2348 - val_accuracy: 0.4783\n",
      "Epoch 62/100\n",
      "52/52 [==============================] - 0s 300us/step - loss: 2.2250 - accuracy: 0.6538 - val_loss: 3.6095 - val_accuracy: 0.4783\n",
      "Epoch 63/100\n",
      "52/52 [==============================] - 0s 300us/step - loss: 2.0921 - accuracy: 0.6731 - val_loss: 3.5942 - val_accuracy: 0.4783\n",
      "Epoch 64/100\n",
      "52/52 [==============================] - 0s 300us/step - loss: 2.0560 - accuracy: 0.6731 - val_loss: 3.5864 - val_accuracy: 0.4783\n",
      "Epoch 65/100\n",
      "52/52 [==============================] - 0s 300us/step - loss: 1.9769 - accuracy: 0.6923 - val_loss: 3.5775 - val_accuracy: 0.4783\n",
      "Epoch 66/100\n",
      "52/52 [==============================] - 0s 0us/step - loss: 2.1939 - accuracy: 0.6923 - val_loss: 3.5695 - val_accuracy: 0.4783\n",
      "Epoch 67/100\n",
      "52/52 [==============================] - 0s 300us/step - loss: 2.1717 - accuracy: 0.6731 - val_loss: 3.5597 - val_accuracy: 0.4783\n",
      "Epoch 68/100\n",
      "52/52 [==============================] - 0s 300us/step - loss: 2.1259 - accuracy: 0.6923 - val_loss: 3.5509 - val_accuracy: 0.4783\n",
      "Epoch 69/100\n",
      "52/52 [==============================] - 0s 0us/step - loss: 1.8938 - accuracy: 0.6923 - val_loss: 3.5402 - val_accuracy: 0.4783\n",
      "Epoch 70/100\n",
      "52/52 [==============================] - 0s 300us/step - loss: 1.8193 - accuracy: 0.7115 - val_loss: 3.5339 - val_accuracy: 0.4783\n",
      "Epoch 71/100\n",
      "52/52 [==============================] - 0s 0us/step - loss: 2.0367 - accuracy: 0.7308 - val_loss: 3.5362 - val_accuracy: 0.4783\n",
      "Epoch 72/100\n",
      "52/52 [==============================] - 0s 300us/step - loss: 1.8256 - accuracy: 0.7308 - val_loss: 3.5398 - val_accuracy: 0.4783\n",
      "Epoch 73/100\n",
      "52/52 [==============================] - 0s 301us/step - loss: 1.7518 - accuracy: 0.7500 - val_loss: 3.5415 - val_accuracy: 0.4783\n",
      "Epoch 74/100\n",
      "52/52 [==============================] - 0s 300us/step - loss: 1.6823 - accuracy: 0.7500 - val_loss: 3.5561 - val_accuracy: 0.4783\n",
      "Epoch 75/100\n",
      "52/52 [==============================] - 0s 301us/step - loss: 1.5536 - accuracy: 0.7500 - val_loss: 3.6662 - val_accuracy: 0.4783\n",
      "Epoch 76/100\n",
      "52/52 [==============================] - 0s 300us/step - loss: 1.6057 - accuracy: 0.7308 - val_loss: 3.9818 - val_accuracy: 0.4783\n",
      "Epoch 77/100\n",
      "52/52 [==============================] - 0s 0us/step - loss: 1.7397 - accuracy: 0.7115 - val_loss: 4.1861 - val_accuracy: 0.3913\n",
      "Epoch 78/100\n",
      "52/52 [==============================] - 0s 300us/step - loss: 1.6502 - accuracy: 0.7115 - val_loss: 4.2237 - val_accuracy: 0.3913\n",
      "Epoch 79/100\n",
      "52/52 [==============================] - 0s 300us/step - loss: 1.6918 - accuracy: 0.6923 - val_loss: 4.9591 - val_accuracy: 0.3913\n",
      "Epoch 80/100\n",
      "52/52 [==============================] - 0s 300us/step - loss: 1.6869 - accuracy: 0.6731 - val_loss: 4.7997 - val_accuracy: 0.3913\n",
      "Epoch 81/100\n",
      "52/52 [==============================] - 0s 301us/step - loss: 1.7162 - accuracy: 0.6731 - val_loss: 4.7902 - val_accuracy: 0.3913\n",
      "Epoch 82/100\n",
      "52/52 [==============================] - 0s 0us/step - loss: 1.6554 - accuracy: 0.6538 - val_loss: 5.0233 - val_accuracy: 0.3913\n",
      "Epoch 83/100\n",
      "52/52 [==============================] - 0s 0us/step - loss: 1.6396 - accuracy: 0.6538 - val_loss: 5.0460 - val_accuracy: 0.3913\n",
      "Epoch 84/100\n",
      "52/52 [==============================] - 0s 300us/step - loss: 1.6257 - accuracy: 0.6538 - val_loss: 5.0870 - val_accuracy: 0.3913\n",
      "Epoch 85/100\n",
      "52/52 [==============================] - 0s 0us/step - loss: 1.6905 - accuracy: 0.6346 - val_loss: 5.1371 - val_accuracy: 0.3913\n",
      "Epoch 86/100\n",
      "52/52 [==============================] - 0s 301us/step - loss: 1.6753 - accuracy: 0.6346 - val_loss: 5.3248 - val_accuracy: 0.3913\n",
      "Epoch 87/100\n",
      "52/52 [==============================] - 0s 300us/step - loss: 1.6560 - accuracy: 0.6346 - val_loss: 5.3735 - val_accuracy: 0.3913\n",
      "Epoch 88/100\n",
      "52/52 [==============================] - 0s 300us/step - loss: 1.7884 - accuracy: 0.5962 - val_loss: 5.3296 - val_accuracy: 0.4348\n",
      "Epoch 89/100\n",
      "52/52 [==============================] - 0s 300us/step - loss: 2.0754 - accuracy: 0.5577 - val_loss: 5.2608 - val_accuracy: 0.4348\n",
      "Epoch 90/100\n",
      "52/52 [==============================] - 0s 0us/step - loss: 1.8677 - accuracy: 0.5577 - val_loss: 5.1996 - val_accuracy: 0.4348\n",
      "Epoch 91/100\n",
      "52/52 [==============================] - 0s 300us/step - loss: 1.9461 - accuracy: 0.5385 - val_loss: 5.1308 - val_accuracy: 0.4348\n",
      "Epoch 92/100\n",
      "52/52 [==============================] - 0s 300us/step - loss: 2.1029 - accuracy: 0.5192 - val_loss: 5.0509 - val_accuracy: 0.4348\n",
      "Epoch 93/100\n",
      "52/52 [==============================] - 0s 0us/step - loss: 2.0921 - accuracy: 0.5192 - val_loss: 4.9367 - val_accuracy: 0.4348\n",
      "Epoch 94/100\n",
      "52/52 [==============================] - 0s 300us/step - loss: 2.0788 - accuracy: 0.5192 - val_loss: 4.6910 - val_accuracy: 0.4348\n",
      "Epoch 95/100\n",
      "52/52 [==============================] - 0s 300us/step - loss: 2.0543 - accuracy: 0.5192 - val_loss: 4.6742 - val_accuracy: 0.4348\n",
      "Epoch 96/100\n",
      "52/52 [==============================] - 0s 0us/step - loss: 1.9280 - accuracy: 0.5192 - val_loss: 4.6701 - val_accuracy: 0.4348\n",
      "Epoch 97/100\n",
      "52/52 [==============================] - 0s 300us/step - loss: 2.2162 - accuracy: 0.5000 - val_loss: 4.5489 - val_accuracy: 0.4348\n",
      "Epoch 98/100\n",
      "52/52 [==============================] - 0s 300us/step - loss: 2.1997 - accuracy: 0.4808 - val_loss: 4.3363 - val_accuracy: 0.4348\n",
      "Epoch 99/100\n",
      "52/52 [==============================] - 0s 0us/step - loss: 2.2037 - accuracy: 0.4808 - val_loss: 4.2904 - val_accuracy: 0.4348\n",
      "Epoch 100/100\n",
      "52/52 [==============================] - 0s 300us/step - loss: 2.2037 - accuracy: 0.4808 - val_loss: 4.2405 - val_accuracy: 0.4348\n"
     ]
    }
   ],
   "source": [
    "n_timesteps = 1\n",
    "n_features = X_count.shape[2]\n",
    "\n",
    "model = Sequential()\n",
    "model.add(Conv1D(filters=16, kernel_size=1, activation='relu', input_shape=(n_timesteps, n_features)))\n",
    "model.add(MaxPooling1D(pool_size=1))\n",
    "model.add(Conv1D(filters=16, kernel_size=1, activation='relu'))\n",
    "model.add(MaxPooling1D(pool_size=1))\n",
    "model.add(Flatten())\n",
    "model.add(Dense(20, activation='relu'))\n",
    "model.add(Dense(y_train.shape[0], activation='relu'))\n",
    "model.compile(loss='sparse_categorical_crossentropy', optimizer=\"adam\", metrics=['accuracy'])\n",
    "\n",
    "epochs = 100\n",
    "batch_size = 64\n",
    "history = model.fit(X_count, y_train, epochs=epochs, batch_size=batch_size, validation_split=0.3)"
   ]
  },
  {
   "cell_type": "markdown",
   "metadata": {},
   "source": [
    "## Modèle vectoriel"
   ]
  },
  {
   "cell_type": "markdown",
   "metadata": {},
   "source": [
    "### Création du vectoriseur"
   ]
  },
  {
   "cell_type": "markdown",
   "metadata": {},
   "source": [
    "On passe au vectoriseur use_idf=False pour qu'il soit binaire (0 = absence du terme, 1 = présence du terme)."
   ]
  },
  {
   "cell_type": "code",
   "execution_count": 56,
   "metadata": {},
   "outputs": [],
   "source": [
    "vectorizer = TfidfVectorizer(lowercase=True, stop_words=None,\n",
    "                            ngram_range=(1, 1),\n",
    "                            use_idf=False, smooth_idf=True, # idf lissé\n",
    "                            sublinear_tf=False, norm='l2')"
   ]
  },
  {
   "cell_type": "markdown",
   "metadata": {},
   "source": [
    "### Création de la matrice termes-documents"
   ]
  },
  {
   "cell_type": "code",
   "execution_count": 105,
   "metadata": {},
   "outputs": [],
   "source": [
    "dtm = vectorizer.fit_transform(df['question'])"
   ]
  },
  {
   "cell_type": "markdown",
   "metadata": {},
   "source": [
    "# Interrogation du corpus"
   ]
  },
  {
   "cell_type": "markdown",
   "metadata": {},
   "source": [
    "Nous souhaitons trouver le document du corpus qui est le plus similaire à cette requête:"
   ]
  },
  {
   "cell_type": "code",
   "execution_count": 108,
   "metadata": {},
   "outputs": [],
   "source": [
    "sw = stopwords.words('french')\n",
    "sw.append('les') # manque dans la liste, par exemple\n",
    "vect = vectorizer = TfidfVectorizer(lowercase=True, stop_words=None,\n",
    "                            ngram_range=(1, 1),\n",
    "                            use_idf=False, smooth_idf=True, # idf lissé\n",
    "                            sublinear_tf=False, norm='l2')\n",
    "dtm = vect.fit_transform(df)\n",
    "\n",
    "def vectorize_query(query_text):\n",
    "    query_file = 'query.txt'\n",
    "    with open(query_file, 'w', encoding=\"utf-8\") as out_f:\n",
    "        out_f.write(query_text)\n",
    "    query_vector = vect.transform([query_file])\n",
    "    os.unlink(query_file)\n",
    "    return query_vector"
   ]
  },
  {
   "cell_type": "markdown",
   "metadata": {},
   "source": [
    "# Les salutations"
   ]
  },
  {
   "cell_type": "markdown",
   "metadata": {},
   "source": [
    "Cette fonction sera utilisé pour le message d'acceuil entré par l'utilisateur et la génération de la réponse correspondante."
   ]
  },
  {
   "cell_type": "code",
   "execution_count": 123,
   "metadata": {},
   "outputs": [],
   "source": [
    "#Fonction pour les salutations de départ\n",
    "\n",
    "salutations_inputs = (\"salut\", \"hey\", \"coucou\", \"bonjour\")\n",
    "salutations_responses = [\"bonjour et bienvenu.e\", \"bonjour\", \"bienvenu.e\"]\n",
    "\n",
    "def generate_greeting_response(greeting):\n",
    "    for token in greeting.split():\n",
    "        if token.lower() in greeting_inputs:\n",
    "            return random.choice(greeting_responses)"
   ]
  },
  {
   "cell_type": "markdown",
   "metadata": {},
   "source": [
    "Nous allons créer une fonction qui prend en entrée l'utilisateur, trouve la similitude en cosinus de \n",
    "l'entrée utilisateur et la compare avec les phrases du corpus.\n",
    "\n",
    "Source : https://stackabuse.com/python-for-nlp-creating-a-rule-based-chatbot/"
   ]
  },
  {
   "cell_type": "code",
   "execution_count": null,
   "metadata": {},
   "outputs": [],
   "source": [
    "from sklearn.feature_extraction.text import TfidfVectorizer\n",
    "from sklearn.metrics.pairwise import cosine_similarity\n",
    "import numpy as np\n",
    "\n",
    "sw = stopwords.words('french')\n",
    "sw.append('les') # manque dans la liste, par exemple\n",
    "vect = vectorizer = TfidfVectorizer(lowercase=True, stop_words=sw,\n",
    "                            ngram_range=(1, 1),\n",
    "                            use_idf=False, smooth_idf=True, # idf lissé\n",
    "                            sublinear_tf=False, norm='l2')\n",
    "dtm = vect.fit_transform(df)\n",
    "\n",
    "#Vectorisation de l'input utilisateur\n",
    "def vectorize_query(query_text):\n",
    "    query_file = 'query.txt'\n",
    "    with open(query_file, 'w', encoding=\"utf-8\") as out_f:\n",
    "        out_f.write(query_text) #ecrire l'input utilisateur dans un fichier texte\n",
    "    query_vector = vect.transform([query_file])\n",
    "    os.unlink(query_file)\n",
    "    return query_vector\n",
    "\n",
    "query = [\"test.txt\"]\n",
    "query_vector = vect.transform(query)\n",
    "#query_vector = vectorize_query(query)\n",
    "query_corpus_sim = np.squeeze(cosine_similarity(dtm, query_vector))\n",
    "idx_most_sim = np.argmax(query_corpus_sim)\n",
    "df[idx_most_sim]\n",
    "print(df[idx_most_sim])\n",
    "\n",
    "def get_best_doc(query_text):\n",
    "    query_vector = vectorize_query(query_text)\n",
    "    query_corpus_sim = np.squeeze(cosine_similarity(dtm, query_vector))\n",
    "    doc_id = np.argmax(query_corpus_sim)\n",
    "    doc_path = df[doc_id] # contient le répertoire parent\n",
    "    return doc_path\n",
    "\n",
    "def print_result(query_text):\n",
    "    doc_path = get_best_doc(query_text)\n",
    "    doc_filename = os.path.split(doc_path)[-1] # sans le répertoire parent\n",
    "    print(doc_filename) # affiche le nom du fichier\n",
    "    print('-' * 20)     # affiche une ligne de '-'\n",
    "    with open(doc_path, 'r') as in_f:\n",
    "        print(in_f.read(500) + '...') # affiche les premiers 500 caractères du doc\n",
    "\n",
    "query = 'politique'\n",
    "print_result(query)"
   ]
  }
 ],
 "metadata": {
  "kernelspec": {
   "display_name": "Python 3",
   "language": "python",
   "name": "python3"
  },
  "language_info": {
   "codemirror_mode": {
    "name": "ipython",
    "version": 3
   },
   "file_extension": ".py",
   "mimetype": "text/x-python",
   "name": "python",
   "nbconvert_exporter": "python",
   "pygments_lexer": "ipython3",
   "version": "3.7.3"
  }
 },
 "nbformat": 4,
 "nbformat_minor": 2
}
