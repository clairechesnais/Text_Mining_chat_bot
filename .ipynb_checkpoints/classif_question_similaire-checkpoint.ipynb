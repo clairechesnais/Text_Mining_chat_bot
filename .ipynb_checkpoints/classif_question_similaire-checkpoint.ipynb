{
 "cells": [
  {
   "cell_type": "markdown",
   "metadata": {},
   "source": [
    "# Objectif : trouver la question du thème la plus similaire"
   ]
  },
  {
   "cell_type": "markdown",
   "metadata": {},
   "source": [
    "Le but de ce code est de déterminer, pour une entrée utilisateur et un thème donné, la question du thème la plus similaire, afin de renvoyer la réponse associée."
   ]
  },
  {
   "cell_type": "code",
   "execution_count": 1,
   "metadata": {},
   "outputs": [],
   "source": [
    "import pandas as pd\n",
    "import spacy\n",
    "import numpy as np\n",
    "\n",
    "nlp = spacy.load(\"fr_core_news_sm\")"
   ]
  },
  {
   "cell_type": "code",
   "execution_count": 2,
   "metadata": {},
   "outputs": [],
   "source": [
    "faq = pd.read_pickle('faq_centerPark.pkl')"
   ]
  },
  {
   "cell_type": "markdown",
   "metadata": {},
   "source": [
    "## 1. Nettoyage du corpus"
   ]
  },
  {
   "cell_type": "markdown",
   "metadata": {},
   "source": [
    "Nous allons procéder à un nettoyage du tableau de données. Nous définissons un certain nombre de fonctions qui nous permettrons de nettoyer les questions."
   ]
  },
  {
   "cell_type": "code",
   "execution_count": 3,
   "metadata": {},
   "outputs": [],
   "source": [
    "import string\n",
    "import nltk\n",
    "from nltk.tokenize import word_tokenize\n",
    "from nltk.stem import SnowballStemmer\n",
    "\n",
    "stemmer = SnowballStemmer('french')\n",
    "\n",
    "sw = nltk.corpus.stopwords.words('french')\n",
    "sw += ['être', 'avoir']\n",
    "sw.sort()\n",
    "\n",
    "def lemmatise_text(text):\n",
    "    lst_lematised = [token.lemma_ for token in nlp(text)] \n",
    "    return ' '.join(lst_lematised).lower()\n",
    "\n",
    "\n",
    "def stem_text(text):\n",
    "    lst_stemmerised = [stemmer.stem(token) for token in word_tokenize(text)]    \n",
    "    return ' '.join(lst_stemmerised)\n",
    "\n",
    "\n",
    "def substitute_punctuation(text):\n",
    "    return ' '.join(text.replace(\"'\", ' ').translate(str.maketrans('', '', string.punctuation)).split())\n",
    "\n",
    "\n",
    "def supp(text):\n",
    "    return text.replace(\"«\", \"\").replace(\"’\", \"\").replace(\"•\", \"\").replace(\"®\", \"\")\n",
    "\n",
    "\n",
    "def supp_sw(text):\n",
    "    return ' '.join([token.text for token in nlp(text) if not token.text in sw])"
   ]
  },
  {
   "cell_type": "code",
   "execution_count": 4,
   "metadata": {},
   "outputs": [],
   "source": [
    "faq['question_clean'] = (faq.question.apply(lemmatise_text)\n",
    "                                     .apply(stem_text)\n",
    "                                     .apply(substitute_punctuation)\n",
    "                                     .apply(supp)\n",
    "                                     .apply(supp_sw)\n",
    "                        )"
   ]
  },
  {
   "cell_type": "markdown",
   "metadata": {},
   "source": [
    "Nous sauvegardons ce tableau nettoyé puisque nous nous en servirons directement dans le chatbot."
   ]
  },
  {
   "cell_type": "code",
   "execution_count": 5,
   "metadata": {},
   "outputs": [],
   "source": [
    "faq.to_pickle('df_classif_similarity.pkl')"
   ]
  },
  {
   "cell_type": "markdown",
   "metadata": {},
   "source": [
    "Nous tokenisons les questions grâce au module `spacy`."
   ]
  },
  {
   "cell_type": "code",
   "execution_count": 6,
   "metadata": {},
   "outputs": [],
   "source": [
    "faq['tokens'] = faq['question_clean'].apply(nlp)"
   ]
  },
  {
   "cell_type": "markdown",
   "metadata": {},
   "source": [
    "## 2. Sélection des questions du thème"
   ]
  },
  {
   "cell_type": "markdown",
   "metadata": {},
   "source": [
    "Afin de comprendre le fonctionnement de la réponse par similarité, nous fixons un thème et une question utilisateur. En effet, nous supposons que l'utilisateur a saisi sa question, que cette dernière a été classifiée dans le domaine Center Parcs, puis dans un thème. "
   ]
  },
  {
   "cell_type": "code",
   "execution_count": 7,
   "metadata": {},
   "outputs": [],
   "source": [
    "theme_quest_user = \"Préparer mon séjour\""
   ]
  },
  {
   "cell_type": "code",
   "execution_count": 8,
   "metadata": {},
   "outputs": [],
   "source": [
    "quest_user = \"Puis-je évaluer le confort de mon domaine ?\"\n",
    "#quest_user = \"Les annimaux domestiques sont-ils acceptés ?\"\n",
    "#quest_user = \"ai-je besoin d'un visa ou d'un passeport ?\""
   ]
  },
  {
   "cell_type": "code",
   "execution_count": 9,
   "metadata": {},
   "outputs": [],
   "source": [
    "faq_theme = faq[faq.theme == theme_quest_user]"
   ]
  },
  {
   "cell_type": "markdown",
   "metadata": {},
   "source": [
    "## 3. Nettoyage de la question"
   ]
  },
  {
   "cell_type": "markdown",
   "metadata": {},
   "source": [
    "Nous appliquons le même traitement à la question de l'utilisateur."
   ]
  },
  {
   "cell_type": "code",
   "execution_count": 10,
   "metadata": {},
   "outputs": [],
   "source": [
    "quest_user_clean = supp_sw(supp(substitute_punctuation(stem_text(lemmatise_text(quest_user)))))"
   ]
  },
  {
   "cell_type": "markdown",
   "metadata": {},
   "source": [
    "## 4. Recherche de la question de la FAQ la plus similaire"
   ]
  },
  {
   "cell_type": "code",
   "execution_count": 11,
   "metadata": {},
   "outputs": [],
   "source": [
    "quest_user_clean_tokens = nlp(quest_user_clean)"
   ]
  },
  {
   "cell_type": "code",
   "execution_count": 12,
   "metadata": {},
   "outputs": [],
   "source": [
    "lst_similarity = [quest_user_clean_tokens.similarity(token) for token in faq_theme.tokens]"
   ]
  },
  {
   "cell_type": "code",
   "execution_count": 13,
   "metadata": {},
   "outputs": [],
   "source": [
    "rep_quest_user = faq_theme.reponse[np.asarray(lst_similarity).argmax()]"
   ]
  },
  {
   "cell_type": "code",
   "execution_count": 14,
   "metadata": {},
   "outputs": [
    {
     "data": {
      "text/plain": [
       "\"Le classement par « birdies » évalue l’offre Center Parcs dans son ensemble : l’environnement nature, l’Aqua Mundo, le Dôme, les Activités et animations pour les enfants, le spa, etc. Les parcs sont classés de 3 à 5 birdies. En France, tous les domaines sont « 5 birdies » (note maximale).La classification officielle Résidences de Tourisme Arrêté de 2010  - les fameuses étoiles – évalue le niveau de confort et de prestation uniquement sur l’hébergement, donc sur les cottages de Center Parcs. - Le Bois aux Daims : 4 étoiles- Les Trois Forêts : 4 étoiles- Le Lac d'Ailette : 3 étoiles- Les Bois-Francs : 3 étoiles- Les Hauts de Bruyères : 3 étoiles\""
      ]
     },
     "execution_count": 14,
     "metadata": {},
     "output_type": "execute_result"
    }
   ],
   "source": [
    "rep_quest_user"
   ]
  },
  {
   "cell_type": "markdown",
   "metadata": {},
   "source": [
    "## 5. Evaluation de la performance"
   ]
  },
  {
   "cell_type": "markdown",
   "metadata": {},
   "source": [
    "Afin d'évaluer de manière quantitative le modèle sélectionné, nous avons créé un jeu de questions - réponses dont les réponses sont mot pour mot celles de la FAQ mais dont les questions ont été imaginées par nos soins. L'objectif étant de comparer la réponse retournée à celle attendue.\n",
    "\n",
    "Nous allons procéder thème par thème."
   ]
  },
  {
   "cell_type": "code",
   "execution_count": 15,
   "metadata": {},
   "outputs": [],
   "source": [
    "from sklearn.metrics import accuracy_score, precision_score, recall_score, f1_score, classification_report, confusion_matrix"
   ]
  },
  {
   "cell_type": "code",
   "execution_count": 16,
   "metadata": {},
   "outputs": [
    {
     "data": {
      "text/html": [
       "<div>\n",
       "<style scoped>\n",
       "    .dataframe tbody tr th:only-of-type {\n",
       "        vertical-align: middle;\n",
       "    }\n",
       "\n",
       "    .dataframe tbody tr th {\n",
       "        vertical-align: top;\n",
       "    }\n",
       "\n",
       "    .dataframe thead th {\n",
       "        text-align: right;\n",
       "    }\n",
       "</style>\n",
       "<table border=\"1\" class=\"dataframe\">\n",
       "  <thead>\n",
       "    <tr style=\"text-align: right;\">\n",
       "      <th></th>\n",
       "      <th>question</th>\n",
       "      <th>reponse</th>\n",
       "      <th>theme</th>\n",
       "    </tr>\n",
       "  </thead>\n",
       "  <tbody>\n",
       "    <tr>\n",
       "      <th>0</th>\n",
       "      <td>Quels sont les jours d’arrivée ?</td>\n",
       "      <td>Il est possible d’arriver n’importe quel jour ...</td>\n",
       "      <td>Préparer mon séjour</td>\n",
       "    </tr>\n",
       "    <tr>\n",
       "      <th>1</th>\n",
       "      <td>Comment évaluer le confort de mon domaine et d...</td>\n",
       "      <td>Le classement par « birdies » évalue l’offre C...</td>\n",
       "      <td>Préparer mon séjour</td>\n",
       "    </tr>\n",
       "    <tr>\n",
       "      <th>2</th>\n",
       "      <td>Quels sont les services et activités compris d...</td>\n",
       "      <td>En réservant votre hébergement, vous bénéficie...</td>\n",
       "      <td>Préparer mon séjour</td>\n",
       "    </tr>\n",
       "    <tr>\n",
       "      <th>3</th>\n",
       "      <td>Comment réserver mes activités ?</td>\n",
       "      <td>Lors de la réservation de votre hébergement, v...</td>\n",
       "      <td>Préparer mon séjour</td>\n",
       "    </tr>\n",
       "    <tr>\n",
       "      <th>4</th>\n",
       "      <td>Où trouver le plan du domaine ?</td>\n",
       "      <td>Sur la page d'accueil de notre site, cliquez s...</td>\n",
       "      <td>Préparer mon séjour</td>\n",
       "    </tr>\n",
       "  </tbody>\n",
       "</table>\n",
       "</div>"
      ],
      "text/plain": [
       "                                            question  \\\n",
       "0                   Quels sont les jours d’arrivée ?   \n",
       "1  Comment évaluer le confort de mon domaine et d...   \n",
       "2  Quels sont les services et activités compris d...   \n",
       "3                   Comment réserver mes activités ?   \n",
       "4                    Où trouver le plan du domaine ?   \n",
       "\n",
       "                                             reponse                theme  \n",
       "0  Il est possible d’arriver n’importe quel jour ...  Préparer mon séjour  \n",
       "1  Le classement par « birdies » évalue l’offre C...  Préparer mon séjour  \n",
       "2  En réservant votre hébergement, vous bénéficie...  Préparer mon séjour  \n",
       "3  Lors de la réservation de votre hébergement, v...  Préparer mon séjour  \n",
       "4  Sur la page d'accueil de notre site, cliquez s...  Préparer mon séjour  "
      ]
     },
     "execution_count": 16,
     "metadata": {},
     "output_type": "execute_result"
    }
   ],
   "source": [
    "df_test_quanti = pd.read_csv('jeu_test_similarite.csv', \";\")\n",
    "df_test_quanti.head()"
   ]
  },
  {
   "cell_type": "code",
   "execution_count": 17,
   "metadata": {},
   "outputs": [],
   "source": [
    "lst_themes = df_test_quanti.theme.unique()"
   ]
  },
  {
   "cell_type": "code",
   "execution_count": 18,
   "metadata": {},
   "outputs": [],
   "source": [
    "df_test_quanti['question_clean'] = (df_test_quanti.question.apply(lemmatise_text)\n",
    "                                                  .apply(stem_text)\n",
    "                                                  .apply(substitute_punctuation)\n",
    "                                                  .apply(supp)\n",
    "                                                  .apply(supp_sw)\n",
    "                        )\n",
    "df_test_quanti['tokens'] = df_test_quanti['question_clean'].apply(nlp)\n",
    "series_rep = pd.Series()\n",
    "\n",
    "for theme in lst_themes:\n",
    "    faq_theme = faq[faq.theme == theme].copy()\n",
    "    trouve_similarity = lambda t: faq_theme.iloc[np.asarray([t.similarity(token) for token in faq_theme.tokens]).argmax()].reponse\n",
    "    series_rep = pd.concat([series_rep, df_test_quanti[df_test_quanti.theme == theme].tokens.apply(trouve_similarity)])"
   ]
  },
  {
   "cell_type": "code",
   "execution_count": 19,
   "metadata": {},
   "outputs": [],
   "source": [
    "colonnes = df_test_quanti.columns\n",
    "df_test_quanti = pd.concat([df_test_quanti, series_rep], axis=1)\n",
    "df_test_quanti.columns = list(colonnes) + ['reponse_pred']"
   ]
  },
  {
   "cell_type": "code",
   "execution_count": 20,
   "metadata": {},
   "outputs": [
    {
     "data": {
      "text/html": [
       "<div>\n",
       "<style scoped>\n",
       "    .dataframe tbody tr th:only-of-type {\n",
       "        vertical-align: middle;\n",
       "    }\n",
       "\n",
       "    .dataframe tbody tr th {\n",
       "        vertical-align: top;\n",
       "    }\n",
       "\n",
       "    .dataframe thead th {\n",
       "        text-align: right;\n",
       "    }\n",
       "</style>\n",
       "<table border=\"1\" class=\"dataframe\">\n",
       "  <thead>\n",
       "    <tr style=\"text-align: right;\">\n",
       "      <th></th>\n",
       "      <th>question</th>\n",
       "      <th>reponse</th>\n",
       "      <th>theme</th>\n",
       "      <th>question_clean</th>\n",
       "      <th>tokens</th>\n",
       "      <th>reponse_pred</th>\n",
       "    </tr>\n",
       "  </thead>\n",
       "  <tbody>\n",
       "    <tr>\n",
       "      <th>0</th>\n",
       "      <td>Quels sont les jours d’arrivée ?</td>\n",
       "      <td>Il est possible d’arriver n’importe quel jour ...</td>\n",
       "      <td>Préparer mon séjour</td>\n",
       "      <td>quel jour   arriv</td>\n",
       "      <td>(quel, jour,   , arriv)</td>\n",
       "      <td>Il est possible d’arriver n’importe quel jour ...</td>\n",
       "    </tr>\n",
       "    <tr>\n",
       "      <th>1</th>\n",
       "      <td>Comment évaluer le confort de mon domaine et d...</td>\n",
       "      <td>Le classement par « birdies » évalue l’offre C...</td>\n",
       "      <td>Préparer mon séjour</td>\n",
       "      <td>comment évalu confort domain cottag</td>\n",
       "      <td>(comment, évalu, confort, domain, cottag)</td>\n",
       "      <td>Le classement par « birdies » évalue l’offre C...</td>\n",
       "    </tr>\n",
       "    <tr>\n",
       "      <th>2</th>\n",
       "      <td>Quels sont les services et activités compris d...</td>\n",
       "      <td>En réservant votre hébergement, vous bénéficie...</td>\n",
       "      <td>Préparer mon séjour</td>\n",
       "      <td>quel servic activ comprendr dan prix cottag</td>\n",
       "      <td>(quel, servic, activ, comprendr, dan, prix, co...</td>\n",
       "      <td>En réservant votre hébergement, vous bénéficie...</td>\n",
       "    </tr>\n",
       "    <tr>\n",
       "      <th>3</th>\n",
       "      <td>Comment réserver mes activités ?</td>\n",
       "      <td>Lors de la réservation de votre hébergement, v...</td>\n",
       "      <td>Préparer mon séjour</td>\n",
       "      <td>comment réserv activ</td>\n",
       "      <td>(comment, réserv, activ)</td>\n",
       "      <td>Lors de la réservation de votre hébergement, v...</td>\n",
       "    </tr>\n",
       "    <tr>\n",
       "      <th>4</th>\n",
       "      <td>Où trouver le plan du domaine ?</td>\n",
       "      <td>Sur la page d'accueil de notre site, cliquez s...</td>\n",
       "      <td>Préparer mon séjour</td>\n",
       "      <td>où trouv plan domain</td>\n",
       "      <td>(où, trouv, plan, domain)</td>\n",
       "      <td>Sur la page d'accueil de notre site, cliquez s...</td>\n",
       "    </tr>\n",
       "  </tbody>\n",
       "</table>\n",
       "</div>"
      ],
      "text/plain": [
       "                                            question  \\\n",
       "0                   Quels sont les jours d’arrivée ?   \n",
       "1  Comment évaluer le confort de mon domaine et d...   \n",
       "2  Quels sont les services et activités compris d...   \n",
       "3                   Comment réserver mes activités ?   \n",
       "4                    Où trouver le plan du domaine ?   \n",
       "\n",
       "                                             reponse                theme  \\\n",
       "0  Il est possible d’arriver n’importe quel jour ...  Préparer mon séjour   \n",
       "1  Le classement par « birdies » évalue l’offre C...  Préparer mon séjour   \n",
       "2  En réservant votre hébergement, vous bénéficie...  Préparer mon séjour   \n",
       "3  Lors de la réservation de votre hébergement, v...  Préparer mon séjour   \n",
       "4  Sur la page d'accueil de notre site, cliquez s...  Préparer mon séjour   \n",
       "\n",
       "                                question_clean  \\\n",
       "0                            quel jour   arriv   \n",
       "1          comment évalu confort domain cottag   \n",
       "2  quel servic activ comprendr dan prix cottag   \n",
       "3                         comment réserv activ   \n",
       "4                         où trouv plan domain   \n",
       "\n",
       "                                              tokens  \\\n",
       "0                            (quel, jour,   , arriv)   \n",
       "1          (comment, évalu, confort, domain, cottag)   \n",
       "2  (quel, servic, activ, comprendr, dan, prix, co...   \n",
       "3                           (comment, réserv, activ)   \n",
       "4                          (où, trouv, plan, domain)   \n",
       "\n",
       "                                        reponse_pred  \n",
       "0  Il est possible d’arriver n’importe quel jour ...  \n",
       "1  Le classement par « birdies » évalue l’offre C...  \n",
       "2  En réservant votre hébergement, vous bénéficie...  \n",
       "3  Lors de la réservation de votre hébergement, v...  \n",
       "4  Sur la page d'accueil de notre site, cliquez s...  "
      ]
     },
     "execution_count": 20,
     "metadata": {},
     "output_type": "execute_result"
    }
   ],
   "source": [
    "df_test_quanti.head()"
   ]
  },
  {
   "cell_type": "code",
   "execution_count": 21,
   "metadata": {},
   "outputs": [
    {
     "data": {
      "text/plain": [
       "0.8133704735376045"
      ]
     },
     "execution_count": 21,
     "metadata": {},
     "output_type": "execute_result"
    }
   ],
   "source": [
    "accuracy_score(df_test_quanti.reponse, df_test_quanti.reponse_pred)"
   ]
  },
  {
   "cell_type": "code",
   "execution_count": 22,
   "metadata": {},
   "outputs": [
    {
     "data": {
      "text/plain": [
       "0.8275530412020662"
      ]
     },
     "execution_count": 22,
     "metadata": {},
     "output_type": "execute_result"
    }
   ],
   "source": [
    "precision_score(df_test_quanti.reponse, df_test_quanti.reponse_pred, average='weighted')"
   ]
  },
  {
   "cell_type": "code",
   "execution_count": 23,
   "metadata": {},
   "outputs": [
    {
     "data": {
      "text/plain": [
       "0.8133704735376045"
      ]
     },
     "execution_count": 23,
     "metadata": {},
     "output_type": "execute_result"
    }
   ],
   "source": [
    "recall_score(df_test_quanti.reponse, df_test_quanti.reponse_pred, average='weighted')"
   ]
  },
  {
   "cell_type": "code",
   "execution_count": 24,
   "metadata": {
    "scrolled": true
   },
   "outputs": [
    {
     "data": {
      "text/plain": [
       "0.8008045341598147"
      ]
     },
     "execution_count": 24,
     "metadata": {},
     "output_type": "execute_result"
    }
   ],
   "source": [
    "f1_score(df_test_quanti.reponse, df_test_quanti.reponse_pred, average='weighted')"
   ]
  },
  {
   "cell_type": "code",
   "execution_count": 25,
   "metadata": {},
   "outputs": [],
   "source": [
    "lst_accuracy, lst_precision, lst_recall, lst_f1_score = [], [], [], []\n",
    "\n",
    "for theme in lst_themes:\n",
    "    y = df_test_quanti[df_test_quanti.theme == theme].reponse\n",
    "    y_pred = df_test_quanti[df_test_quanti.theme == theme].reponse_pred\n",
    "    lst_accuracy.append(accuracy_score(y, y_pred))\n",
    "    lst_precision.append(precision_score(y, y_pred, average='weighted'))\n",
    "    lst_recall.append(recall_score(y, y_pred, average='weighted'))\n",
    "    lst_f1_score.append(f1_score(y, y_pred, average='weighted'))"
   ]
  },
  {
   "cell_type": "code",
   "execution_count": 26,
   "metadata": {},
   "outputs": [
    {
     "data": {
      "text/html": [
       "<div>\n",
       "<style scoped>\n",
       "    .dataframe tbody tr th:only-of-type {\n",
       "        vertical-align: middle;\n",
       "    }\n",
       "\n",
       "    .dataframe tbody tr th {\n",
       "        vertical-align: top;\n",
       "    }\n",
       "\n",
       "    .dataframe thead th {\n",
       "        text-align: right;\n",
       "    }\n",
       "</style>\n",
       "<table border=\"1\" class=\"dataframe\">\n",
       "  <thead>\n",
       "    <tr style=\"text-align: right;\">\n",
       "      <th></th>\n",
       "      <th>Theme</th>\n",
       "      <th>Accuracy</th>\n",
       "      <th>Precision</th>\n",
       "      <th>Recall</th>\n",
       "      <th>F1-score</th>\n",
       "    </tr>\n",
       "  </thead>\n",
       "  <tbody>\n",
       "    <tr>\n",
       "      <th>0</th>\n",
       "      <td>Préparer mon séjour</td>\n",
       "      <td>0.796992</td>\n",
       "      <td>0.810421</td>\n",
       "      <td>0.796992</td>\n",
       "      <td>0.784024</td>\n",
       "    </tr>\n",
       "    <tr>\n",
       "      <th>1</th>\n",
       "      <td>Réserver et payer</td>\n",
       "      <td>0.831325</td>\n",
       "      <td>0.845095</td>\n",
       "      <td>0.831325</td>\n",
       "      <td>0.822211</td>\n",
       "    </tr>\n",
       "    <tr>\n",
       "      <th>2</th>\n",
       "      <td>Gérer ma réservation</td>\n",
       "      <td>0.857143</td>\n",
       "      <td>0.871429</td>\n",
       "      <td>0.857143</td>\n",
       "      <td>0.842672</td>\n",
       "    </tr>\n",
       "    <tr>\n",
       "      <th>3</th>\n",
       "      <td>Mon séjour</td>\n",
       "      <td>0.757143</td>\n",
       "      <td>0.780584</td>\n",
       "      <td>0.757143</td>\n",
       "      <td>0.737933</td>\n",
       "    </tr>\n",
       "    <tr>\n",
       "      <th>4</th>\n",
       "      <td>Assurances</td>\n",
       "      <td>0.894737</td>\n",
       "      <td>0.903409</td>\n",
       "      <td>0.894737</td>\n",
       "      <td>0.892749</td>\n",
       "    </tr>\n",
       "  </tbody>\n",
       "</table>\n",
       "</div>"
      ],
      "text/plain": [
       "                  Theme  Accuracy  Precision    Recall  F1-score\n",
       "0   Préparer mon séjour  0.796992   0.810421  0.796992  0.784024\n",
       "1     Réserver et payer  0.831325   0.845095  0.831325  0.822211\n",
       "2  Gérer ma réservation  0.857143   0.871429  0.857143  0.842672\n",
       "3            Mon séjour  0.757143   0.780584  0.757143  0.737933\n",
       "4            Assurances  0.894737   0.903409  0.894737  0.892749"
      ]
     },
     "execution_count": 26,
     "metadata": {},
     "output_type": "execute_result"
    }
   ],
   "source": [
    "pd.DataFrame({'Theme' : lst_themes,\n",
    "              'Accuracy' : lst_accuracy,\n",
    "              'Precision' : lst_precision,\n",
    "              'Recall' : lst_recall,\n",
    "              'F1-score' : lst_f1_score})"
   ]
  }
 ],
 "metadata": {
  "kernelspec": {
   "display_name": "Python 3",
   "language": "python",
   "name": "python3"
  },
  "language_info": {
   "codemirror_mode": {
    "name": "ipython",
    "version": 3
   },
   "file_extension": ".py",
   "mimetype": "text/x-python",
   "name": "python",
   "nbconvert_exporter": "python",
   "pygments_lexer": "ipython3",
   "version": "3.7.1"
  }
 },
 "nbformat": 4,
 "nbformat_minor": 2
}
