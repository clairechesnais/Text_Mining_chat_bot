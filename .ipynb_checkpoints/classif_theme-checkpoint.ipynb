{
 "cells": [
  {
   "cell_type": "markdown",
   "metadata": {},
   "source": [
    "# Classification de la question"
   ]
  },
  {
   "cell_type": "markdown",
   "metadata": {},
   "source": [
    "## 1. Prétraitement textuel de la base de données"
   ]
  },
  {
   "cell_type": "markdown",
   "metadata": {},
   "source": [
    "### A. Préparation du fichier"
   ]
  },
  {
   "cell_type": "code",
   "execution_count": 1,
   "metadata": {},
   "outputs": [],
   "source": [
    "import pandas as pd"
   ]
  },
  {
   "cell_type": "code",
   "execution_count": 23,
   "metadata": {},
   "outputs": [
    {
     "data": {
      "text/html": [
       "<div>\n",
       "<style scoped>\n",
       "    .dataframe tbody tr th:only-of-type {\n",
       "        vertical-align: middle;\n",
       "    }\n",
       "\n",
       "    .dataframe tbody tr th {\n",
       "        vertical-align: top;\n",
       "    }\n",
       "\n",
       "    .dataframe thead th {\n",
       "        text-align: right;\n",
       "    }\n",
       "</style>\n",
       "<table border=\"1\" class=\"dataframe\">\n",
       "  <thead>\n",
       "    <tr style=\"text-align: right;\">\n",
       "      <th></th>\n",
       "      <th>question</th>\n",
       "      <th>reponse</th>\n",
       "      <th>theme</th>\n",
       "    </tr>\n",
       "  </thead>\n",
       "  <tbody>\n",
       "    <tr>\n",
       "      <th>0</th>\n",
       "      <td>Quels sont les jours d’arrivée ?</td>\n",
       "      <td>Il est possible d’arriver n’importe quel jour ...</td>\n",
       "      <td>Préparer mon séjour</td>\n",
       "    </tr>\n",
       "    <tr>\n",
       "      <th>1</th>\n",
       "      <td>Comment évaluer le confort de mon domaine et d...</td>\n",
       "      <td>Le classement par « birdies » évalue l’offre C...</td>\n",
       "      <td>Préparer mon séjour</td>\n",
       "    </tr>\n",
       "    <tr>\n",
       "      <th>2</th>\n",
       "      <td>Quels sont les services et activités compris d...</td>\n",
       "      <td>En réservant votre hébergement, vous bénéficie...</td>\n",
       "      <td>Préparer mon séjour</td>\n",
       "    </tr>\n",
       "    <tr>\n",
       "      <th>3</th>\n",
       "      <td>Comment réserver mes activités ?</td>\n",
       "      <td>Lors de la réservation de votre hébergement, v...</td>\n",
       "      <td>Préparer mon séjour</td>\n",
       "    </tr>\n",
       "    <tr>\n",
       "      <th>4</th>\n",
       "      <td>Où trouver le plan du domaine ?</td>\n",
       "      <td>Sur la page d'accueil de notre site, cliquez s...</td>\n",
       "      <td>Préparer mon séjour</td>\n",
       "    </tr>\n",
       "  </tbody>\n",
       "</table>\n",
       "</div>"
      ],
      "text/plain": [
       "                                            question  \\\n",
       "0                   Quels sont les jours d’arrivée ?   \n",
       "1  Comment évaluer le confort de mon domaine et d...   \n",
       "2  Quels sont les services et activités compris d...   \n",
       "3                   Comment réserver mes activités ?   \n",
       "4                    Où trouver le plan du domaine ?   \n",
       "\n",
       "                                             reponse                theme  \n",
       "0  Il est possible d’arriver n’importe quel jour ...  Préparer mon séjour  \n",
       "1  Le classement par « birdies » évalue l’offre C...  Préparer mon séjour  \n",
       "2  En réservant votre hébergement, vous bénéficie...  Préparer mon séjour  \n",
       "3  Lors de la réservation de votre hébergement, v...  Préparer mon séjour  \n",
       "4  Sur la page d'accueil de notre site, cliquez s...  Préparer mon séjour  "
      ]
     },
     "execution_count": 23,
     "metadata": {},
     "output_type": "execute_result"
    }
   ],
   "source": [
    "df_faq = pd.read_pickle('faq_centerPark.pkl')\n",
    "df_faq.head()"
   ]
  },
  {
   "cell_type": "markdown",
   "metadata": {},
   "source": [
    "Notre jeu de données est composé de :\n",
    "    - 54 lignes\n",
    "    - 3 colonnes\n",
    "    - 5 thèmes différents\n",
    "On pose :\n",
    "    - 1 = Préparer mon séjour\n",
    "    - 2 = Réserver et payer\n",
    "    - 3 = Gérer ma réservation\n",
    "    - 4 = Mon séjour\n",
    "    - 5 = Assurances"
   ]
  },
  {
   "cell_type": "code",
   "execution_count": 24,
   "metadata": {},
   "outputs": [],
   "source": [
    "df_faq.to_csv('jeu_test_similarite.csv', sep=\";\")"
   ]
  },
  {
   "cell_type": "code",
   "execution_count": 3,
   "metadata": {},
   "outputs": [],
   "source": [
    "dic_code_theme = {\"Préparer mon séjour\": 1,\n",
    "                  \"Réserver et payer\": 2,\n",
    "                  \"Gérer ma réservation\": 3,\n",
    "                  \"Mon séjour\": 4,\n",
    "                  \"Assurances\": 5}\n",
    "dic_decode_theme = {val: key for key, val in dic_code_theme.items()}"
   ]
  },
  {
   "cell_type": "code",
   "execution_count": 4,
   "metadata": {},
   "outputs": [],
   "source": [
    "df_faq[\"theme\"].replace(dic_code_theme, inplace=True)"
   ]
  },
  {
   "cell_type": "code",
   "execution_count": 5,
   "metadata": {},
   "outputs": [
    {
     "name": "stderr",
     "output_type": "stream",
     "text": [
      "C:\\Users\\enora\\Anaconda3\\lib\\site-packages\\pandas\\core\\frame.py:4025: SettingWithCopyWarning: \n",
      "A value is trying to be set on a copy of a slice from a DataFrame\n",
      "\n",
      "See the caveats in the documentation: http://pandas.pydata.org/pandas-docs/stable/indexing.html#indexing-view-versus-copy\n",
      "  return super(DataFrame, self).rename(**kwargs)\n"
     ]
    }
   ],
   "source": [
    "df_question = df_faq[['question', 'theme']]\n",
    "df_question.rename(columns={'question': 'texte', 'theme': 'theme'}, inplace=True)\n",
    "df_reponse = df_faq[['reponse', 'theme']]\n",
    "df_reponse.rename(columns={'reponse': 'texte', 'theme': 'theme'}, inplace=True)"
   ]
  },
  {
   "cell_type": "code",
   "execution_count": 6,
   "metadata": {},
   "outputs": [],
   "source": [
    "df_concat = pd.concat([df_question, df_reponse])"
   ]
  },
  {
   "cell_type": "code",
   "execution_count": 7,
   "metadata": {},
   "outputs": [],
   "source": [
    "# Sauvegarde\n",
    "df_concat.to_pickle('df_concat.pkl')"
   ]
  },
  {
   "cell_type": "markdown",
   "metadata": {},
   "source": [
    "### B. Nettoyage du texte"
   ]
  },
  {
   "cell_type": "code",
   "execution_count": 8,
   "metadata": {},
   "outputs": [],
   "source": [
    "import os\n",
    "import numpy as np\n",
    "import re\n",
    "from collections import Counter\n",
    "\n",
    "# pour le nettoyage du texte\n",
    "import nltk\n",
    "import string\n",
    "import spacy\n",
    "from nltk.tokenize import word_tokenize\n",
    "from nltk.stem import SnowballStemmer\n",
    "from sklearn.feature_extraction.text import CountVectorizer, TfidfVectorizer\n",
    "\n",
    "#pour la classification\n",
    "from sklearn.linear_model import LogisticRegression\n",
    "from sklearn.naive_bayes import MultinomialNB\n",
    "from sklearn.metrics import accuracy_score, precision_score, recall_score, f1_score, classification_report, confusion_matrix\n",
    "from sklearn.svm import SVC\n",
    "\n",
    "import unidecode"
   ]
  },
  {
   "cell_type": "code",
   "execution_count": 9,
   "metadata": {},
   "outputs": [],
   "source": [
    "from sklearn.model_selection import train_test_split\n",
    "\n",
    "df_concat = pd.read_pickle('df_concat.pkl')\n",
    "X_train, X_test, y_train, y_test = train_test_split(df_concat['texte'], \n",
    "                                                    df_concat['theme'],\n",
    "                                                    train_size=0.7,\n",
    "                                                    random_state=5)"
   ]
  },
  {
   "cell_type": "code",
   "execution_count": 10,
   "metadata": {},
   "outputs": [],
   "source": [
    "stemmer = SnowballStemmer('french')\n",
    "#tokenizer = TweetTokenizer(strip_handles=True, reduce_len=True) # tokenizer for tweet\n",
    "nlp = spacy.load('fr_core_news_sm')\n",
    "\n",
    "sw = nltk.corpus.stopwords.words('french')\n",
    "sw += ['être', 'avoir']\n",
    "sw.sort()\n",
    "\n",
    "def lemmatise_text(text):\n",
    "    lst_lematised = [token.lemma_ for token in nlp(text)]\n",
    "    return ' '.join(lst_lematised).lower()\n",
    "\n",
    "\n",
    "def stem_text(text):\n",
    "    #lst_stemmerised = [stemmer.stem(token) for token in tokenizer.tokenize(text)] \n",
    "    lst_stemmerised = [stemmer.stem(token) for token in word_tokenize(text)]\n",
    "    return ' '.join(lst_stemmerised)\n",
    "\n",
    "\n",
    "def replace_words_with_pos_tag(text):\n",
    "    lst_tags = [token.pos_ for token in nlp(text)]\n",
    "    return ' '.join(lst_tags)\n",
    "\n",
    "\n",
    "def ner(text): #entites nommees\n",
    "    dico_remplacement = {entite_nommee.text : entite_nommee.label_ for entite_nommee in nlp(text).ents}\n",
    "    for entite_nommee, remplacement in dico_remplacement.items():\n",
    "        text = text.replace(entite_nommee, remplacement)\n",
    "    return text\n",
    "\n",
    "\n",
    "def substitute_punctuation(text):\n",
    "    return ' '.join(text.replace(\"'\", ' ').translate(str.maketrans('', '', string.punctuation)).split())\n",
    "\n",
    "\n",
    "def supp(text):\n",
    "    return text.replace(\"«\", \"\").replace(\"’\", \"\").replace(\"•\", \"\").replace(\"®\", \"\")\n",
    "\n",
    "\n",
    "def supprime_accent(txt):\n",
    "    return unidecode.unidecode(txt)"
   ]
  },
  {
   "cell_type": "code",
   "execution_count": 11,
   "metadata": {},
   "outputs": [],
   "source": [
    "X_train_clean = (X_train.apply(lemmatise_text)\n",
    "                        .apply(stem_text)\n",
    "                        .apply(substitute_punctuation)\n",
    "                        .apply(supp)\n",
    "                )\n",
    "\n",
    "X_test_clean = (X_test.apply(lemmatise_text)\n",
    "                      .apply(stem_text)\n",
    "                      .apply(substitute_punctuation)\n",
    "                      .apply(supp)\n",
    "               )"
   ]
  },
  {
   "cell_type": "markdown",
   "metadata": {},
   "source": [
    "## C. Test de différents modèles"
   ]
  },
  {
   "cell_type": "markdown",
   "metadata": {},
   "source": [
    "##### a. Les différents vectoriseurs"
   ]
  },
  {
   "cell_type": "code",
   "execution_count": 12,
   "metadata": {},
   "outputs": [],
   "source": [
    "#vectoriseur binaire\n",
    "\n",
    "bin_count = CountVectorizer(binary=True)\n",
    "bin_count.fit(X_train_clean)\n",
    "X_train_clean_vectorized_bin = bin_count.transform(X_train_clean)\n",
    "X_test_clean_vectorized_bin = bin_count.transform(X_test_clean)"
   ]
  },
  {
   "cell_type": "code",
   "execution_count": 13,
   "metadata": {},
   "outputs": [],
   "source": [
    "#vectoriseur numérique discret\n",
    "\n",
    "vect_count = CountVectorizer(binary=False)\n",
    "vect_count.fit(X_train_clean)\n",
    "X_train_clean_vectorized_count = vect_count.transform(X_train_clean)\n",
    "X_test_clean_vectorized_count = vect_count.transform(X_test_clean)"
   ]
  },
  {
   "cell_type": "code",
   "execution_count": 14,
   "metadata": {},
   "outputs": [
    {
     "data": {
      "text/plain": [
       "['vectorizer_classif_theme.joblib']"
      ]
     },
     "execution_count": 14,
     "metadata": {},
     "output_type": "execute_result"
    }
   ],
   "source": [
    "#vectoriseur numérique continu : TF-IDF\n",
    "\n",
    "vect_tfidf = TfidfVectorizer(stop_words=sw)\n",
    "vect_tfidf.fit(X_train_clean)\n",
    "X_train_clean_vectorized_tfidf = vect_tfidf.transform(X_train_clean)\n",
    "X_test_clean_vectorized_tfidf = vect_tfidf.transform(X_test_clean) \n",
    "\n",
    "## export vectorizer\n",
    "from joblib import dump\n",
    "dump(vect_tfidf, 'vectorizer_classif_theme.joblib')"
   ]
  },
  {
   "cell_type": "markdown",
   "metadata": {},
   "source": [
    "#### b. Les différents modèles"
   ]
  },
  {
   "cell_type": "markdown",
   "metadata": {},
   "source": [
    "Nous entraînerons des modèles de classification appartenant à quelques familles d'algorithmes d'apprentissage automatique classique. L'objectif est de comparer non seulement les performances des différentes méthodes entre elles, mais aussi la performance d'une même méthode sur des représentations différentes du texte."
   ]
  },
  {
   "cell_type": "markdown",
   "metadata": {},
   "source": [
    "##### b.1 DummyClassifier"
   ]
  },
  {
   "cell_type": "code",
   "execution_count": 15,
   "metadata": {},
   "outputs": [],
   "source": [
    "from sklearn.dummy import DummyClassifier"
   ]
  },
  {
   "cell_type": "code",
   "execution_count": 16,
   "metadata": {},
   "outputs": [
    {
     "data": {
      "text/plain": [
       "0.18181818181818182"
      ]
     },
     "execution_count": 16,
     "metadata": {},
     "output_type": "execute_result"
    }
   ],
   "source": [
    "random_uniform = DummyClassifier(strategy='uniform').fit(X_train_clean_vectorized_count, y_train)\n",
    "predictions_valid = random_uniform.predict(X_test_clean_vectorized_count)\n",
    "accuracy_score(y_test, predictions_valid)"
   ]
  },
  {
   "cell_type": "code",
   "execution_count": 17,
   "metadata": {},
   "outputs": [
    {
     "data": {
      "text/plain": [
       "0.21212121212121213"
      ]
     },
     "execution_count": 17,
     "metadata": {},
     "output_type": "execute_result"
    }
   ],
   "source": [
    "random_uniform = DummyClassifier(strategy='uniform').fit(X_train_clean_vectorized_bin, y_train)\n",
    "predictions_valid = random_uniform.predict(X_test_clean_vectorized_bin)\n",
    "accuracy_score(y_test, predictions_valid)"
   ]
  },
  {
   "cell_type": "code",
   "execution_count": 18,
   "metadata": {},
   "outputs": [
    {
     "data": {
      "text/plain": [
       "0.21212121212121213"
      ]
     },
     "execution_count": 18,
     "metadata": {},
     "output_type": "execute_result"
    }
   ],
   "source": [
    "random_uniform = DummyClassifier(strategy='uniform').fit(X_train_clean_vectorized_tfidf, y_train)\n",
    "predictions_valid = random_uniform.predict(X_test_clean_vectorized_tfidf)\n",
    "accuracy_score(y_test, predictions_valid)"
   ]
  },
  {
   "cell_type": "markdown",
   "metadata": {},
   "source": [
    "##### b.2 Classifieur naïf bayesien"
   ]
  },
  {
   "cell_type": "code",
   "execution_count": 19,
   "metadata": {},
   "outputs": [],
   "source": [
    "from sklearn.naive_bayes import MultinomialNB"
   ]
  },
  {
   "cell_type": "code",
   "execution_count": 20,
   "metadata": {},
   "outputs": [
    {
     "data": {
      "text/plain": [
       "0.5757575757575758"
      ]
     },
     "execution_count": 20,
     "metadata": {},
     "output_type": "execute_result"
    }
   ],
   "source": [
    "model_nb = MultinomialNB().fit(X_train_clean_vectorized_count, y_train)\n",
    "predictions_valid = model_nb.predict(X_test_clean_vectorized_count)\n",
    "accuracy_score(y_test, predictions_valid)"
   ]
  },
  {
   "cell_type": "code",
   "execution_count": 21,
   "metadata": {},
   "outputs": [
    {
     "data": {
      "text/plain": [
       "0.6060606060606061"
      ]
     },
     "execution_count": 21,
     "metadata": {},
     "output_type": "execute_result"
    }
   ],
   "source": [
    "model_nb = MultinomialNB().fit(X_train_clean_vectorized_bin, y_train)\n",
    "predictions_valid = model_nb.predict(X_test_clean_vectorized_bin)\n",
    "accuracy_score(y_test, predictions_valid)"
   ]
  },
  {
   "cell_type": "code",
   "execution_count": 22,
   "metadata": {},
   "outputs": [
    {
     "data": {
      "text/plain": [
       "0.5454545454545454"
      ]
     },
     "execution_count": 22,
     "metadata": {},
     "output_type": "execute_result"
    }
   ],
   "source": [
    "model_nb = MultinomialNB().fit(X_train_clean_vectorized_tfidf, y_train)\n",
    "predictions_valid = model_nb.predict(X_test_clean_vectorized_tfidf)\n",
    "accuracy_score(y_test, predictions_valid)"
   ]
  },
  {
   "cell_type": "markdown",
   "metadata": {},
   "source": [
    "#### b.3 Complement NB"
   ]
  },
  {
   "cell_type": "code",
   "execution_count": 24,
   "metadata": {},
   "outputs": [],
   "source": [
    "from sklearn.naive_bayes import ComplementNB"
   ]
  },
  {
   "cell_type": "code",
   "execution_count": 25,
   "metadata": {},
   "outputs": [
    {
     "data": {
      "text/plain": [
       "0.5454545454545454"
      ]
     },
     "execution_count": 25,
     "metadata": {},
     "output_type": "execute_result"
    }
   ],
   "source": [
    "model_comp = ComplementNB().fit(X_train_clean_vectorized_count, y_train)\n",
    "predictions_valid = model_comp.predict(X_test_clean_vectorized_count)\n",
    "accuracy_score(y_test, predictions_valid)"
   ]
  },
  {
   "cell_type": "code",
   "execution_count": 26,
   "metadata": {},
   "outputs": [
    {
     "data": {
      "text/plain": [
       "0.6060606060606061"
      ]
     },
     "execution_count": 26,
     "metadata": {},
     "output_type": "execute_result"
    }
   ],
   "source": [
    "model_comp = ComplementNB().fit(X_train_clean_vectorized_bin, y_train)\n",
    "predictions_valid = model_comp.predict(X_test_clean_vectorized_bin)\n",
    "accuracy_score(y_test, predictions_valid)"
   ]
  },
  {
   "cell_type": "code",
   "execution_count": 28,
   "metadata": {},
   "outputs": [
    {
     "data": {
      "text/plain": [
       "0.6666666666666666"
      ]
     },
     "execution_count": 28,
     "metadata": {},
     "output_type": "execute_result"
    }
   ],
   "source": [
    "model_comp = ComplementNB().fit(X_train_clean_vectorized_tfidf, y_train)\n",
    "predictions_valid = model_comp.predict(X_test_clean_vectorized_tfidf)\n",
    "accuracy_score(y_test, predictions_valid)"
   ]
  },
  {
   "cell_type": "markdown",
   "metadata": {},
   "source": [
    "#### b.4 BernoulliNB"
   ]
  },
  {
   "cell_type": "code",
   "execution_count": 29,
   "metadata": {},
   "outputs": [],
   "source": [
    "from sklearn.naive_bayes import BernoulliNB"
   ]
  },
  {
   "cell_type": "code",
   "execution_count": 30,
   "metadata": {},
   "outputs": [
    {
     "data": {
      "text/plain": [
       "0.36363636363636365"
      ]
     },
     "execution_count": 30,
     "metadata": {},
     "output_type": "execute_result"
    }
   ],
   "source": [
    "model_bern = BernoulliNB().fit(X_train_clean_vectorized_count, y_train)\n",
    "predictions_valid = model_bern.predict(X_test_clean_vectorized_count)\n",
    "accuracy_score(y_test, predictions_valid)"
   ]
  },
  {
   "cell_type": "code",
   "execution_count": 31,
   "metadata": {},
   "outputs": [
    {
     "data": {
      "text/plain": [
       "0.36363636363636365"
      ]
     },
     "execution_count": 31,
     "metadata": {},
     "output_type": "execute_result"
    }
   ],
   "source": [
    "model_bern = BernoulliNB().fit(X_train_clean_vectorized_bin, y_train)\n",
    "predictions_valid = model_bern.predict(X_test_clean_vectorized_bin)\n",
    "accuracy_score(y_test, predictions_valid)"
   ]
  },
  {
   "cell_type": "code",
   "execution_count": 32,
   "metadata": {},
   "outputs": [
    {
     "data": {
      "text/plain": [
       "0.36363636363636365"
      ]
     },
     "execution_count": 32,
     "metadata": {},
     "output_type": "execute_result"
    }
   ],
   "source": [
    "model_bern = BernoulliNB().fit(X_train_clean_vectorized_tfidf, y_train)\n",
    "predictions_valid = model_bern.predict(X_test_clean_vectorized_tfidf)\n",
    "accuracy_score(y_test, predictions_valid)"
   ]
  },
  {
   "cell_type": "markdown",
   "metadata": {},
   "source": [
    "#### b.6 KNeighborsClassifier"
   ]
  },
  {
   "cell_type": "code",
   "execution_count": 33,
   "metadata": {},
   "outputs": [],
   "source": [
    "from sklearn.neighbors import KNeighborsClassifier"
   ]
  },
  {
   "cell_type": "code",
   "execution_count": 34,
   "metadata": {},
   "outputs": [
    {
     "data": {
      "text/plain": [
       "0.2727272727272727"
      ]
     },
     "execution_count": 34,
     "metadata": {},
     "output_type": "execute_result"
    }
   ],
   "source": [
    "model_knn = KNeighborsClassifier(4).fit(X_train_clean_vectorized_count, y_train)\n",
    "predictions_valid = model_knn.predict(X_test_clean_vectorized_count)\n",
    "accuracy_score(y_test, predictions_valid)"
   ]
  },
  {
   "cell_type": "code",
   "execution_count": 35,
   "metadata": {},
   "outputs": [
    {
     "data": {
      "text/plain": [
       "0.30303030303030304"
      ]
     },
     "execution_count": 35,
     "metadata": {},
     "output_type": "execute_result"
    }
   ],
   "source": [
    "model_knn = KNeighborsClassifier(4).fit(X_train_clean_vectorized_bin, y_train)\n",
    "predictions_valid = model_knn.predict(X_test_clean_vectorized_bin)\n",
    "accuracy_score(y_test, predictions_valid)"
   ]
  },
  {
   "cell_type": "code",
   "execution_count": 36,
   "metadata": {},
   "outputs": [
    {
     "data": {
      "text/plain": [
       "0.6363636363636364"
      ]
     },
     "execution_count": 36,
     "metadata": {},
     "output_type": "execute_result"
    }
   ],
   "source": [
    "model_knn = KNeighborsClassifier(4).fit(X_train_clean_vectorized_tfidf, y_train)\n",
    "predictions_valid = model_knn.predict(X_test_clean_vectorized_tfidf)\n",
    "accuracy_score(y_test, predictions_valid)"
   ]
  },
  {
   "cell_type": "markdown",
   "metadata": {},
   "source": [
    "#### b.7. SVM"
   ]
  },
  {
   "cell_type": "code",
   "execution_count": 37,
   "metadata": {},
   "outputs": [],
   "source": [
    "from sklearn.svm import SVC"
   ]
  },
  {
   "cell_type": "code",
   "execution_count": 38,
   "metadata": {},
   "outputs": [
    {
     "data": {
      "text/plain": [
       "0.3939393939393939"
      ]
     },
     "execution_count": 38,
     "metadata": {},
     "output_type": "execute_result"
    }
   ],
   "source": [
    "model_svm = SVC(kernel='linear', C=0.9).fit(X_train_clean_vectorized_count, y_train)\n",
    "predictions_valid = model_svm.predict(X_test_clean_vectorized_count)\n",
    "accuracy_score(y_test, predictions_valid)"
   ]
  },
  {
   "cell_type": "code",
   "execution_count": 39,
   "metadata": {},
   "outputs": [
    {
     "data": {
      "text/plain": [
       "0.3939393939393939"
      ]
     },
     "execution_count": 39,
     "metadata": {},
     "output_type": "execute_result"
    }
   ],
   "source": [
    "model_svm = SVC(kernel='linear', C=0.9).fit(X_train_clean_vectorized_bin, y_train)\n",
    "predictions_valid = model_svm.predict(X_test_clean_vectorized_bin)\n",
    "accuracy_score(y_test, predictions_valid)"
   ]
  },
  {
   "cell_type": "code",
   "execution_count": 40,
   "metadata": {},
   "outputs": [
    {
     "data": {
      "text/plain": [
       "0.5757575757575758"
      ]
     },
     "execution_count": 40,
     "metadata": {},
     "output_type": "execute_result"
    }
   ],
   "source": [
    "model_svm = SVC(kernel='linear', C=0.9).fit(X_train_clean_vectorized_tfidf, y_train)\n",
    "predictions_valid = model_svm.predict(X_test_clean_vectorized_tfidf)\n",
    "accuracy_score(y_test, predictions_valid)"
   ]
  },
  {
   "cell_type": "markdown",
   "metadata": {},
   "source": [
    "#### b.8 Réseaux de neurones de convolution"
   ]
  },
  {
   "cell_type": "code",
   "execution_count": 18,
   "metadata": {},
   "outputs": [],
   "source": [
    "from keras.models import Sequential\n",
    "from keras.layers import LSTM, Embedding, Dense, SpatialDropout1D, MaxPooling1D, Conv1D, Flatten, MaxPooling2D, Conv2D"
   ]
  },
  {
   "cell_type": "code",
   "execution_count": 19,
   "metadata": {},
   "outputs": [],
   "source": [
    "XX_train = X_train_clean_vectorized_tfidf.toarray().reshape(X_train_clean_vectorized_tfidf.shape[0],1,\n",
    "                                                X_train_clean_vectorized_tfidf.shape[1])\n",
    "XX_test = X_test_clean_vectorized_tfidf.toarray().reshape(X_test_clean_vectorized_tfidf.shape[0],1,\n",
    "                                                X_test_clean_vectorized_tfidf.shape[1])\n",
    "YY_train = pd.get_dummies(y_train)\n",
    "YY_test = pd.get_dummies(y_test)"
   ]
  },
  {
   "cell_type": "code",
   "execution_count": 20,
   "metadata": {},
   "outputs": [
    {
     "name": "stdout",
     "output_type": "stream",
     "text": [
      "Train on 45 samples, validate on 30 samples\n",
      "Epoch 1/150\n",
      "45/45 [==============================] - ETA: 0s - loss: 1.6108 - accuracy: 0.15 - 0s 8ms/step - loss: 1.6107 - accuracy: 0.2000 - val_loss: 1.6073 - val_accuracy: 0.2000\n",
      "Epoch 2/150\n",
      "45/45 [==============================] - ETA: 0s - loss: 1.6012 - accuracy: 0.40 - 0s 694us/step - loss: 1.5998 - accuracy: 0.3778 - val_loss: 1.6054 - val_accuracy: 0.2667\n",
      "Epoch 3/150\n",
      "45/45 [==============================] - ETA: 0s - loss: 1.5931 - accuracy: 0.46 - 0s 695us/step - loss: 1.5919 - accuracy: 0.5111 - val_loss: 1.6031 - val_accuracy: 0.3333\n",
      "Epoch 4/150\n",
      "45/45 [==============================] - ETA: 0s - loss: 1.5854 - accuracy: 0.53 - 0s 348us/step - loss: 1.5842 - accuracy: 0.6000 - val_loss: 1.6005 - val_accuracy: 0.3667\n",
      "Epoch 5/150\n",
      "45/45 [==============================] - ETA: 0s - loss: 1.5788 - accuracy: 0.59 - 0s 694us/step - loss: 1.5766 - accuracy: 0.6444 - val_loss: 1.5979 - val_accuracy: 0.3667\n",
      "Epoch 6/150\n",
      "45/45 [==============================] - ETA: 0s - loss: 1.5680 - accuracy: 0.68 - 0s 694us/step - loss: 1.5693 - accuracy: 0.7111 - val_loss: 1.5951 - val_accuracy: 0.4333\n",
      "Epoch 7/150\n",
      "45/45 [==============================] - ETA: 0s - loss: 1.5650 - accuracy: 0.75 - 0s 347us/step - loss: 1.5616 - accuracy: 0.7778 - val_loss: 1.5922 - val_accuracy: 0.4333\n",
      "Epoch 8/150\n",
      "45/45 [==============================] - ETA: 0s - loss: 1.5527 - accuracy: 0.75 - 0s 347us/step - loss: 1.5541 - accuracy: 0.7778 - val_loss: 1.5892 - val_accuracy: 0.4667\n",
      "Epoch 9/150\n",
      "45/45 [==============================] - ETA: 0s - loss: 1.5462 - accuracy: 0.78 - 0s 694us/step - loss: 1.5459 - accuracy: 0.7778 - val_loss: 1.5862 - val_accuracy: 0.4667\n",
      "Epoch 10/150\n",
      "45/45 [==============================] - ETA: 0s - loss: 1.5290 - accuracy: 0.87 - 0s 347us/step - loss: 1.5374 - accuracy: 0.7778 - val_loss: 1.5830 - val_accuracy: 0.4333\n",
      "Epoch 11/150\n",
      "45/45 [==============================] - ETA: 0s - loss: 1.5365 - accuracy: 0.75 - 0s 694us/step - loss: 1.5277 - accuracy: 0.8000 - val_loss: 1.5798 - val_accuracy: 0.4333\n",
      "Epoch 12/150\n",
      "45/45 [==============================] - ETA: 0s - loss: 1.5199 - accuracy: 0.81 - 0s 347us/step - loss: 1.5179 - accuracy: 0.8222 - val_loss: 1.5764 - val_accuracy: 0.4333\n",
      "Epoch 13/150\n",
      "45/45 [==============================] - ETA: 0s - loss: 1.4989 - accuracy: 0.87 - 0s 694us/step - loss: 1.5080 - accuracy: 0.8000 - val_loss: 1.5729 - val_accuracy: 0.4667\n",
      "Epoch 14/150\n",
      "45/45 [==============================] - ETA: 0s - loss: 1.5010 - accuracy: 0.78 - 0s 347us/step - loss: 1.4970 - accuracy: 0.8222 - val_loss: 1.5692 - val_accuracy: 0.4667\n",
      "Epoch 15/150\n",
      "45/45 [==============================] - ETA: 0s - loss: 1.4954 - accuracy: 0.81 - 0s 347us/step - loss: 1.4855 - accuracy: 0.8222 - val_loss: 1.5650 - val_accuracy: 0.5000\n",
      "Epoch 16/150\n",
      "45/45 [==============================] - ETA: 0s - loss: 1.4665 - accuracy: 0.81 - 0s 695us/step - loss: 1.4742 - accuracy: 0.8444 - val_loss: 1.5603 - val_accuracy: 0.5000\n",
      "Epoch 17/150\n",
      "45/45 [==============================] - ETA: 0s - loss: 1.4523 - accuracy: 0.90 - 0s 347us/step - loss: 1.4619 - accuracy: 0.8667 - val_loss: 1.5552 - val_accuracy: 0.5333\n",
      "Epoch 18/150\n",
      "45/45 [==============================] - ETA: 0s - loss: 1.4358 - accuracy: 0.93 - 0s 694us/step - loss: 1.4492 - accuracy: 0.8667 - val_loss: 1.5502 - val_accuracy: 0.5333\n",
      "Epoch 19/150\n",
      "45/45 [==============================] - ETA: 0s - loss: 1.4417 - accuracy: 0.87 - 0s 694us/step - loss: 1.4348 - accuracy: 0.8889 - val_loss: 1.5454 - val_accuracy: 0.5333\n",
      "Epoch 20/150\n",
      "45/45 [==============================] - ETA: 0s - loss: 1.4264 - accuracy: 0.87 - 0s 347us/step - loss: 1.4200 - accuracy: 0.8889 - val_loss: 1.5404 - val_accuracy: 0.5000\n",
      "Epoch 21/150\n",
      "45/45 [==============================] - ETA: 0s - loss: 1.4148 - accuracy: 0.90 - 0s 695us/step - loss: 1.4044 - accuracy: 0.9111 - val_loss: 1.5350 - val_accuracy: 0.5000\n",
      "Epoch 22/150\n",
      "45/45 [==============================] - ETA: 0s - loss: 1.3980 - accuracy: 0.87 - 0s 347us/step - loss: 1.3879 - accuracy: 0.9111 - val_loss: 1.5285 - val_accuracy: 0.5333\n",
      "Epoch 23/150\n",
      "45/45 [==============================] - ETA: 0s - loss: 1.3667 - accuracy: 0.96 - 0s 694us/step - loss: 1.3709 - accuracy: 0.9111 - val_loss: 1.5216 - val_accuracy: 0.5333\n",
      "Epoch 24/150\n",
      "45/45 [==============================] - ETA: 0s - loss: 1.3621 - accuracy: 0.87 - 0s 694us/step - loss: 1.3522 - accuracy: 0.9111 - val_loss: 1.5137 - val_accuracy: 0.5333\n",
      "Epoch 25/150\n",
      "45/45 [==============================] - ETA: 0s - loss: 1.3381 - accuracy: 0.90 - 0s 347us/step - loss: 1.3327 - accuracy: 0.9111 - val_loss: 1.5053 - val_accuracy: 0.5333\n",
      "Epoch 26/150\n",
      "45/45 [==============================] - ETA: 0s - loss: 1.3302 - accuracy: 0.90 - 0s 694us/step - loss: 1.3120 - accuracy: 0.9111 - val_loss: 1.4964 - val_accuracy: 0.5333\n",
      "Epoch 27/150\n",
      "45/45 [==============================] - ETA: 0s - loss: 1.2822 - accuracy: 0.93 - 0s 347us/step - loss: 1.2912 - accuracy: 0.9111 - val_loss: 1.4872 - val_accuracy: 0.5000\n",
      "Epoch 28/150\n",
      "45/45 [==============================] - ETA: 0s - loss: 1.2836 - accuracy: 0.93 - 0s 347us/step - loss: 1.2681 - accuracy: 0.9111 - val_loss: 1.4780 - val_accuracy: 0.5333\n",
      "Epoch 29/150\n",
      "45/45 [==============================] - ETA: 0s - loss: 1.2548 - accuracy: 0.90 - 0s 348us/step - loss: 1.2449 - accuracy: 0.9111 - val_loss: 1.4674 - val_accuracy: 0.6000\n",
      "Epoch 30/150\n",
      "45/45 [==============================] - ETA: 0s - loss: 1.2422 - accuracy: 0.87 - 0s 694us/step - loss: 1.2205 - accuracy: 0.9111 - val_loss: 1.4557 - val_accuracy: 0.6000\n",
      "Epoch 31/150\n",
      "45/45 [==============================] - ETA: 0s - loss: 1.2117 - accuracy: 0.87 - 0s 347us/step - loss: 1.1958 - accuracy: 0.9111 - val_loss: 1.4434 - val_accuracy: 0.6000\n",
      "Epoch 32/150\n",
      "45/45 [==============================] - ETA: 0s - loss: 1.1711 - accuracy: 0.87 - 0s 694us/step - loss: 1.1704 - accuracy: 0.9111 - val_loss: 1.4315 - val_accuracy: 0.6000\n",
      "Epoch 33/150\n",
      "45/45 [==============================] - ETA: 0s - loss: 1.1397 - accuracy: 0.90 - 0s 347us/step - loss: 1.1440 - accuracy: 0.9111 - val_loss: 1.4194 - val_accuracy: 0.6000\n",
      "Epoch 34/150\n",
      "45/45 [==============================] - ETA: 0s - loss: 1.0781 - accuracy: 0.93 - 0s 694us/step - loss: 1.1177 - accuracy: 0.9111 - val_loss: 1.4068 - val_accuracy: 0.6000\n",
      "Epoch 35/150\n",
      "45/45 [==============================] - ETA: 0s - loss: 1.0651 - accuracy: 0.96 - 0s 347us/step - loss: 1.0902 - accuracy: 0.9111 - val_loss: 1.3954 - val_accuracy: 0.6000\n",
      "Epoch 36/150\n",
      "45/45 [==============================] - ETA: 0s - loss: 1.0930 - accuracy: 0.93 - 0s 694us/step - loss: 1.0617 - accuracy: 0.9111 - val_loss: 1.3837 - val_accuracy: 0.6000\n",
      "Epoch 37/150\n",
      "45/45 [==============================] - ETA: 0s - loss: 0.9993 - accuracy: 0.96 - 0s 694us/step - loss: 1.0342 - accuracy: 0.9111 - val_loss: 1.3715 - val_accuracy: 0.6000\n",
      "Epoch 38/150\n",
      "45/45 [==============================] - ETA: 0s - loss: 1.0264 - accuracy: 0.87 - 0s 347us/step - loss: 1.0051 - accuracy: 0.9111 - val_loss: 1.3596 - val_accuracy: 0.6000\n",
      "Epoch 39/150\n",
      "45/45 [==============================] - ETA: 0s - loss: 0.9716 - accuracy: 0.90 - 0s 694us/step - loss: 0.9773 - accuracy: 0.9111 - val_loss: 1.3478 - val_accuracy: 0.6000\n",
      "Epoch 40/150\n",
      "45/45 [==============================] - ETA: 0s - loss: 0.9543 - accuracy: 0.87 - 0s 694us/step - loss: 0.9475 - accuracy: 0.9111 - val_loss: 1.3358 - val_accuracy: 0.6000\n",
      "Epoch 41/150\n",
      "45/45 [==============================] - ETA: 0s - loss: 0.9308 - accuracy: 0.90 - 0s 347us/step - loss: 0.9189 - accuracy: 0.9111 - val_loss: 1.3231 - val_accuracy: 0.6000\n",
      "Epoch 42/150\n",
      "45/45 [==============================] - ETA: 0s - loss: 0.8976 - accuracy: 0.90 - 0s 347us/step - loss: 0.8894 - accuracy: 0.9111 - val_loss: 1.3097 - val_accuracy: 0.6000\n",
      "Epoch 43/150\n",
      "45/45 [==============================] - ETA: 0s - loss: 0.9242 - accuracy: 0.87 - 0s 347us/step - loss: 0.8598 - accuracy: 0.9111 - val_loss: 1.2966 - val_accuracy: 0.6000\n",
      "Epoch 44/150\n",
      "45/45 [==============================] - ETA: 0s - loss: 0.8104 - accuracy: 0.90 - 0s 694us/step - loss: 0.8318 - accuracy: 0.9111 - val_loss: 1.2836 - val_accuracy: 0.6000\n"
     ]
    },
    {
     "name": "stdout",
     "output_type": "stream",
     "text": [
      "Epoch 45/150\n",
      "45/45 [==============================] - ETA: 0s - loss: 0.8086 - accuracy: 0.90 - 0s 347us/step - loss: 0.8029 - accuracy: 0.9111 - val_loss: 1.2715 - val_accuracy: 0.6000\n",
      "Epoch 46/150\n",
      "45/45 [==============================] - ETA: 0s - loss: 0.7857 - accuracy: 0.90 - 0s 694us/step - loss: 0.7747 - accuracy: 0.9111 - val_loss: 1.2600 - val_accuracy: 0.6000\n",
      "Epoch 47/150\n",
      "45/45 [==============================] - ETA: 0s - loss: 0.7680 - accuracy: 0.87 - 0s 347us/step - loss: 0.7473 - accuracy: 0.9111 - val_loss: 1.2485 - val_accuracy: 0.6000\n",
      "Epoch 48/150\n",
      "45/45 [==============================] - ETA: 0s - loss: 0.7481 - accuracy: 0.90 - 0s 695us/step - loss: 0.7203 - accuracy: 0.9111 - val_loss: 1.2372 - val_accuracy: 0.6000\n",
      "Epoch 49/150\n",
      "45/45 [==============================] - ETA: 0s - loss: 0.7208 - accuracy: 0.93 - 0s 346us/step - loss: 0.6942 - accuracy: 0.9333 - val_loss: 1.2273 - val_accuracy: 0.6000\n",
      "Epoch 50/150\n",
      "45/45 [==============================] - ETA: 0s - loss: 0.6888 - accuracy: 0.96 - 0s 694us/step - loss: 0.6683 - accuracy: 0.9556 - val_loss: 1.2178 - val_accuracy: 0.6000\n",
      "Epoch 51/150\n",
      "45/45 [==============================] - ETA: 0s - loss: 0.6020 - accuracy: 1.00 - 0s 347us/step - loss: 0.6435 - accuracy: 0.9778 - val_loss: 1.2089 - val_accuracy: 0.6000\n",
      "Epoch 52/150\n",
      "45/45 [==============================] - ETA: 0s - loss: 0.6013 - accuracy: 1.00 - 0s 694us/step - loss: 0.6188 - accuracy: 0.9778 - val_loss: 1.2011 - val_accuracy: 0.6000\n",
      "Epoch 53/150\n",
      "45/45 [==============================] - ETA: 0s - loss: 0.5946 - accuracy: 1.00 - 0s 347us/step - loss: 0.5957 - accuracy: 0.9778 - val_loss: 1.1936 - val_accuracy: 0.6000\n",
      "Epoch 54/150\n",
      "45/45 [==============================] - ETA: 0s - loss: 0.6161 - accuracy: 0.96 - 0s 347us/step - loss: 0.5729 - accuracy: 0.9778 - val_loss: 1.1858 - val_accuracy: 0.6000\n",
      "Epoch 55/150\n",
      "45/45 [==============================] - ETA: 0s - loss: 0.6109 - accuracy: 0.96 - 0s 347us/step - loss: 0.5511 - accuracy: 0.9778 - val_loss: 1.1779 - val_accuracy: 0.6000\n",
      "Epoch 56/150\n",
      "45/45 [==============================] - ETA: 0s - loss: 0.5569 - accuracy: 1.00 - 0s 347us/step - loss: 0.5315 - accuracy: 0.9556 - val_loss: 1.1703 - val_accuracy: 0.6000\n",
      "Epoch 57/150\n",
      "45/45 [==============================] - ETA: 0s - loss: 0.5379 - accuracy: 0.93 - 0s 347us/step - loss: 0.5107 - accuracy: 0.9556 - val_loss: 1.1629 - val_accuracy: 0.6000\n",
      "Epoch 58/150\n",
      "45/45 [==============================] - ETA: 0s - loss: 0.4493 - accuracy: 0.93 - 0s 347us/step - loss: 0.4913 - accuracy: 0.9556 - val_loss: 1.1553 - val_accuracy: 0.6000\n",
      "Epoch 59/150\n",
      "45/45 [==============================] - ETA: 0s - loss: 0.4291 - accuracy: 0.93 - 0s 347us/step - loss: 0.4723 - accuracy: 0.9556 - val_loss: 1.1476 - val_accuracy: 0.6000\n",
      "Epoch 60/150\n",
      "45/45 [==============================] - ETA: 0s - loss: 0.4275 - accuracy: 0.96 - 0s 347us/step - loss: 0.4544 - accuracy: 0.9556 - val_loss: 1.1393 - val_accuracy: 0.6000\n",
      "Epoch 61/150\n",
      "45/45 [==============================] - ETA: 0s - loss: 0.4701 - accuracy: 0.96 - 0s 695us/step - loss: 0.4371 - accuracy: 0.9778 - val_loss: 1.1308 - val_accuracy: 0.6000\n",
      "Epoch 62/150\n",
      "45/45 [==============================] - ETA: 0s - loss: 0.4509 - accuracy: 0.96 - 0s 694us/step - loss: 0.4200 - accuracy: 0.9778 - val_loss: 1.1220 - val_accuracy: 0.6000\n",
      "Epoch 63/150\n",
      "45/45 [==============================] - ETA: 0s - loss: 0.3631 - accuracy: 1.00 - 0s 695us/step - loss: 0.4034 - accuracy: 0.9778 - val_loss: 1.1133 - val_accuracy: 0.6000\n",
      "Epoch 64/150\n",
      "45/45 [==============================] - ETA: 0s - loss: 0.3887 - accuracy: 1.00 - 0s 347us/step - loss: 0.3879 - accuracy: 0.9778 - val_loss: 1.1049 - val_accuracy: 0.6000\n",
      "Epoch 65/150\n",
      "45/45 [==============================] - ETA: 0s - loss: 0.3639 - accuracy: 0.96 - 0s 694us/step - loss: 0.3724 - accuracy: 0.9778 - val_loss: 1.0969 - val_accuracy: 0.6333\n",
      "Epoch 66/150\n",
      "45/45 [==============================] - ETA: 0s - loss: 0.3422 - accuracy: 0.96 - 0s 347us/step - loss: 0.3580 - accuracy: 0.9778 - val_loss: 1.0886 - val_accuracy: 0.6667\n",
      "Epoch 67/150\n",
      "45/45 [==============================] - ETA: 0s - loss: 0.3488 - accuracy: 0.96 - 0s 347us/step - loss: 0.3452 - accuracy: 0.9778 - val_loss: 1.0802 - val_accuracy: 0.6667\n",
      "Epoch 68/150\n",
      "45/45 [==============================] - ETA: 0s - loss: 0.3415 - accuracy: 0.96 - 0s 347us/step - loss: 0.3324 - accuracy: 0.9778 - val_loss: 1.0730 - val_accuracy: 0.6667\n",
      "Epoch 69/150\n",
      "45/45 [==============================] - ETA: 0s - loss: 0.3043 - accuracy: 0.96 - 0s 347us/step - loss: 0.3197 - accuracy: 0.9778 - val_loss: 1.0665 - val_accuracy: 0.6667\n",
      "Epoch 70/150\n",
      "45/45 [==============================] - ETA: 0s - loss: 0.3247 - accuracy: 0.96 - 0s 347us/step - loss: 0.3083 - accuracy: 0.9778 - val_loss: 1.0601 - val_accuracy: 0.6667\n",
      "Epoch 71/150\n",
      "45/45 [==============================] - ETA: 0s - loss: 0.3196 - accuracy: 0.96 - 0s 347us/step - loss: 0.2970 - accuracy: 0.9778 - val_loss: 1.0535 - val_accuracy: 0.6667\n",
      "Epoch 72/150\n",
      "45/45 [==============================] - ETA: 0s - loss: 0.2626 - accuracy: 0.96 - 0s 347us/step - loss: 0.2861 - accuracy: 0.9778 - val_loss: 1.0481 - val_accuracy: 0.6667\n",
      "Epoch 73/150\n",
      "45/45 [==============================] - ETA: 0s - loss: 0.2800 - accuracy: 0.96 - 0s 347us/step - loss: 0.2758 - accuracy: 0.9778 - val_loss: 1.0432 - val_accuracy: 0.6667\n",
      "Epoch 74/150\n",
      "45/45 [==============================] - ETA: 0s - loss: 0.3221 - accuracy: 0.96 - 0s 347us/step - loss: 0.2663 - accuracy: 0.9778 - val_loss: 1.0379 - val_accuracy: 0.6667\n",
      "Epoch 75/150\n",
      "45/45 [==============================] - ETA: 0s - loss: 0.2628 - accuracy: 0.96 - 0s 694us/step - loss: 0.2565 - accuracy: 0.9778 - val_loss: 1.0333 - val_accuracy: 0.6667\n",
      "Epoch 76/150\n",
      "45/45 [==============================] - ETA: 0s - loss: 0.2494 - accuracy: 0.96 - 0s 347us/step - loss: 0.2474 - accuracy: 0.9778 - val_loss: 1.0291 - val_accuracy: 0.6667\n",
      "Epoch 77/150\n",
      "45/45 [==============================] - ETA: 0s - loss: 0.2155 - accuracy: 1.00 - 0s 347us/step - loss: 0.2390 - accuracy: 0.9778 - val_loss: 1.0250 - val_accuracy: 0.6667\n",
      "Epoch 78/150\n",
      "45/45 [==============================] - ETA: 0s - loss: 0.2037 - accuracy: 0.96 - 0s 347us/step - loss: 0.2310 - accuracy: 0.9778 - val_loss: 1.0216 - val_accuracy: 0.6667\n",
      "Epoch 79/150\n",
      "45/45 [==============================] - ETA: 0s - loss: 0.1810 - accuracy: 0.96 - 0s 347us/step - loss: 0.2228 - accuracy: 0.9778 - val_loss: 1.0181 - val_accuracy: 0.6667\n",
      "Epoch 80/150\n",
      "45/45 [==============================] - ETA: 0s - loss: 0.2165 - accuracy: 1.00 - 0s 347us/step - loss: 0.2157 - accuracy: 0.9778 - val_loss: 1.0144 - val_accuracy: 0.6667\n",
      "Epoch 81/150\n",
      "45/45 [==============================] - ETA: 0s - loss: 0.2051 - accuracy: 0.96 - 0s 347us/step - loss: 0.2084 - accuracy: 0.9778 - val_loss: 1.0118 - val_accuracy: 0.6667\n",
      "Epoch 82/150\n",
      "45/45 [==============================] - ETA: 0s - loss: 0.2326 - accuracy: 0.96 - 0s 347us/step - loss: 0.2014 - accuracy: 0.9778 - val_loss: 1.0086 - val_accuracy: 0.6667\n",
      "Epoch 83/150\n",
      "45/45 [==============================] - ETA: 0s - loss: 0.2051 - accuracy: 0.96 - 0s 347us/step - loss: 0.1947 - accuracy: 0.9778 - val_loss: 1.0055 - val_accuracy: 0.6667\n",
      "Epoch 84/150\n",
      "45/45 [==============================] - ETA: 0s - loss: 0.1908 - accuracy: 0.96 - 0s 347us/step - loss: 0.1888 - accuracy: 0.9778 - val_loss: 1.0025 - val_accuracy: 0.6667\n",
      "Epoch 85/150\n",
      "45/45 [==============================] - ETA: 0s - loss: 0.1877 - accuracy: 0.96 - 0s 347us/step - loss: 0.1827 - accuracy: 0.9778 - val_loss: 1.0000 - val_accuracy: 0.6667\n",
      "Epoch 86/150\n",
      "45/45 [==============================] - ETA: 0s - loss: 0.1674 - accuracy: 0.96 - 0s 347us/step - loss: 0.1770 - accuracy: 0.9778 - val_loss: 0.9980 - val_accuracy: 0.6667\n",
      "Epoch 87/150\n",
      "45/45 [==============================] - ETA: 0s - loss: 0.1873 - accuracy: 0.96 - 0s 347us/step - loss: 0.1722 - accuracy: 0.9778 - val_loss: 0.9955 - val_accuracy: 0.6667\n",
      "Epoch 88/150\n",
      "45/45 [==============================] - ETA: 0s - loss: 0.1851 - accuracy: 0.96 - 0s 347us/step - loss: 0.1668 - accuracy: 0.9778 - val_loss: 0.9927 - val_accuracy: 0.6667\n"
     ]
    },
    {
     "name": "stdout",
     "output_type": "stream",
     "text": [
      "Epoch 89/150\n",
      "45/45 [==============================] - ETA: 0s - loss: 0.1660 - accuracy: 0.96 - 0s 347us/step - loss: 0.1621 - accuracy: 0.9778 - val_loss: 0.9903 - val_accuracy: 0.6667\n",
      "Epoch 90/150\n",
      "45/45 [==============================] - ETA: 0s - loss: 0.1861 - accuracy: 0.96 - 0s 694us/step - loss: 0.1580 - accuracy: 0.9778 - val_loss: 0.9881 - val_accuracy: 0.6667\n",
      "Epoch 91/150\n",
      "45/45 [==============================] - ETA: 0s - loss: 0.1670 - accuracy: 0.96 - 0s 347us/step - loss: 0.1535 - accuracy: 0.9778 - val_loss: 0.9859 - val_accuracy: 0.6667\n",
      "Epoch 92/150\n",
      "45/45 [==============================] - ETA: 0s - loss: 0.1198 - accuracy: 1.00 - 0s 347us/step - loss: 0.1495 - accuracy: 0.9778 - val_loss: 0.9837 - val_accuracy: 0.6667\n",
      "Epoch 93/150\n",
      "45/45 [==============================] - ETA: 0s - loss: 0.1481 - accuracy: 0.96 - 0s 347us/step - loss: 0.1460 - accuracy: 0.9778 - val_loss: 0.9817 - val_accuracy: 0.6667\n",
      "Epoch 94/150\n",
      "45/45 [==============================] - ETA: 0s - loss: 0.1136 - accuracy: 1.00 - 0s 347us/step - loss: 0.1412 - accuracy: 0.9778 - val_loss: 0.9795 - val_accuracy: 0.6667\n",
      "Epoch 95/150\n",
      "45/45 [==============================] - ETA: 0s - loss: 0.1370 - accuracy: 0.96 - 0s 347us/step - loss: 0.1373 - accuracy: 0.9778 - val_loss: 0.9782 - val_accuracy: 0.6667\n",
      "Epoch 96/150\n",
      "45/45 [==============================] - ETA: 0s - loss: 0.1494 - accuracy: 0.96 - 0s 347us/step - loss: 0.1338 - accuracy: 0.9778 - val_loss: 0.9771 - val_accuracy: 0.6667\n",
      "Epoch 97/150\n",
      "45/45 [==============================] - ETA: 0s - loss: 0.1269 - accuracy: 0.96 - 0s 347us/step - loss: 0.1302 - accuracy: 0.9778 - val_loss: 0.9757 - val_accuracy: 0.6667\n",
      "Epoch 98/150\n",
      "45/45 [==============================] - ETA: 0s - loss: 0.1421 - accuracy: 0.96 - 0s 347us/step - loss: 0.1271 - accuracy: 0.9778 - val_loss: 0.9740 - val_accuracy: 0.6667\n",
      "Epoch 99/150\n",
      "45/45 [==============================] - ETA: 0s - loss: 0.0863 - accuracy: 1.00 - 0s 347us/step - loss: 0.1239 - accuracy: 0.9778 - val_loss: 0.9724 - val_accuracy: 0.6667\n",
      "Epoch 100/150\n",
      "45/45 [==============================] - ETA: 0s - loss: 0.1349 - accuracy: 0.96 - 0s 347us/step - loss: 0.1209 - accuracy: 0.9778 - val_loss: 0.9708 - val_accuracy: 0.6667\n",
      "Epoch 101/150\n",
      "45/45 [==============================] - ETA: 0s - loss: 0.1161 - accuracy: 0.96 - 0s 347us/step - loss: 0.1184 - accuracy: 0.9778 - val_loss: 0.9694 - val_accuracy: 0.6667\n",
      "Epoch 102/150\n",
      "45/45 [==============================] - ETA: 0s - loss: 0.1053 - accuracy: 0.96 - 0s 347us/step - loss: 0.1153 - accuracy: 0.9778 - val_loss: 0.9674 - val_accuracy: 0.6667\n",
      "Epoch 103/150\n",
      "45/45 [==============================] - ETA: 0s - loss: 0.0962 - accuracy: 1.00 - 0s 347us/step - loss: 0.1139 - accuracy: 0.9778 - val_loss: 0.9654 - val_accuracy: 0.6667\n",
      "Epoch 104/150\n",
      "45/45 [==============================] - ETA: 0s - loss: 0.1270 - accuracy: 0.96 - 0s 347us/step - loss: 0.1105 - accuracy: 0.9778 - val_loss: 0.9650 - val_accuracy: 0.6667\n",
      "Epoch 105/150\n",
      "45/45 [==============================] - ETA: 0s - loss: 0.0825 - accuracy: 1.00 - 0s 347us/step - loss: 0.1080 - accuracy: 0.9778 - val_loss: 0.9644 - val_accuracy: 0.6667\n",
      "Epoch 106/150\n",
      "45/45 [==============================] - ETA: 0s - loss: 0.1131 - accuracy: 0.96 - 0s 347us/step - loss: 0.1057 - accuracy: 0.9778 - val_loss: 0.9636 - val_accuracy: 0.6667\n",
      "Epoch 107/150\n",
      "45/45 [==============================] - ETA: 0s - loss: 0.1035 - accuracy: 1.00 - 0s 347us/step - loss: 0.1038 - accuracy: 0.9778 - val_loss: 0.9631 - val_accuracy: 0.6667\n",
      "Epoch 108/150\n",
      "45/45 [==============================] - ETA: 0s - loss: 0.0957 - accuracy: 1.00 - 0s 347us/step - loss: 0.1010 - accuracy: 0.9778 - val_loss: 0.9637 - val_accuracy: 0.6667\n",
      "Epoch 109/150\n",
      "45/45 [==============================] - ETA: 0s - loss: 0.0743 - accuracy: 0.96 - 0s 347us/step - loss: 0.1008 - accuracy: 0.9556 - val_loss: 0.9644 - val_accuracy: 0.6667\n",
      "Epoch 110/150\n",
      "45/45 [==============================] - ETA: 0s - loss: 0.1108 - accuracy: 0.96 - 0s 347us/step - loss: 0.0977 - accuracy: 0.9778 - val_loss: 0.9629 - val_accuracy: 0.6667\n",
      "Epoch 111/150\n",
      "45/45 [==============================] - ETA: 0s - loss: 0.0755 - accuracy: 1.00 - 0s 347us/step - loss: 0.0962 - accuracy: 0.9778 - val_loss: 0.9614 - val_accuracy: 0.6667\n",
      "Epoch 112/150\n",
      "45/45 [==============================] - ETA: 0s - loss: 0.0944 - accuracy: 1.00 - 0s 347us/step - loss: 0.0939 - accuracy: 0.9778 - val_loss: 0.9583 - val_accuracy: 0.6667\n",
      "Epoch 113/150\n",
      "45/45 [==============================] - ETA: 0s - loss: 0.0882 - accuracy: 0.96 - 0s 347us/step - loss: 0.0920 - accuracy: 0.9778 - val_loss: 0.9549 - val_accuracy: 0.6667\n",
      "Epoch 114/150\n",
      "45/45 [==============================] - ETA: 0s - loss: 0.1060 - accuracy: 0.96 - 0s 347us/step - loss: 0.0907 - accuracy: 0.9778 - val_loss: 0.9522 - val_accuracy: 0.6667\n",
      "Epoch 115/150\n",
      "45/45 [==============================] - ETA: 0s - loss: 0.0847 - accuracy: 1.00 - 0s 347us/step - loss: 0.0903 - accuracy: 0.9778 - val_loss: 0.9499 - val_accuracy: 0.6667\n",
      "Epoch 116/150\n",
      "45/45 [==============================] - ETA: 0s - loss: 0.0694 - accuracy: 1.00 - 0s 695us/step - loss: 0.0880 - accuracy: 0.9778 - val_loss: 0.9489 - val_accuracy: 0.6667\n",
      "Epoch 117/150\n",
      "45/45 [==============================] - ETA: 0s - loss: 0.1000 - accuracy: 0.96 - 0s 347us/step - loss: 0.0864 - accuracy: 0.9778 - val_loss: 0.9484 - val_accuracy: 0.6667\n",
      "Epoch 118/150\n",
      "45/45 [==============================] - ETA: 0s - loss: 0.0750 - accuracy: 0.96 - 0s 347us/step - loss: 0.0853 - accuracy: 0.9778 - val_loss: 0.9481 - val_accuracy: 0.6667\n",
      "Epoch 119/150\n",
      "45/45 [==============================] - ETA: 0s - loss: 0.0466 - accuracy: 1.00 - 0s 347us/step - loss: 0.0834 - accuracy: 0.9778 - val_loss: 0.9473 - val_accuracy: 0.6667\n",
      "Epoch 120/150\n",
      "45/45 [==============================] - ETA: 0s - loss: 0.0981 - accuracy: 0.96 - 0s 347us/step - loss: 0.0822 - accuracy: 0.9778 - val_loss: 0.9468 - val_accuracy: 0.6667\n",
      "Epoch 121/150\n",
      "45/45 [==============================] - ETA: 0s - loss: 0.1010 - accuracy: 0.96 - 0s 347us/step - loss: 0.0809 - accuracy: 0.9778 - val_loss: 0.9467 - val_accuracy: 0.6667\n",
      "Epoch 122/150\n",
      "45/45 [==============================] - ETA: 0s - loss: 0.0748 - accuracy: 1.00 - 0s 347us/step - loss: 0.0800 - accuracy: 0.9778 - val_loss: 0.9472 - val_accuracy: 0.6667\n",
      "Epoch 123/150\n",
      "45/45 [==============================] - ETA: 0s - loss: 0.0898 - accuracy: 0.96 - 0s 347us/step - loss: 0.0785 - accuracy: 0.9778 - val_loss: 0.9490 - val_accuracy: 0.6667\n",
      "Epoch 124/150\n",
      "45/45 [==============================] - ETA: 0s - loss: 0.0873 - accuracy: 0.96 - 0s 347us/step - loss: 0.0774 - accuracy: 0.9778 - val_loss: 0.9503 - val_accuracy: 0.6667\n",
      "Epoch 125/150\n",
      "45/45 [==============================] - ETA: 0s - loss: 0.0694 - accuracy: 1.00 - 0s 347us/step - loss: 0.0771 - accuracy: 0.9778 - val_loss: 0.9509 - val_accuracy: 0.6667\n",
      "Epoch 126/150\n",
      "45/45 [==============================] - ETA: 0s - loss: 0.0819 - accuracy: 0.96 - 0s 347us/step - loss: 0.0754 - accuracy: 0.9778 - val_loss: 0.9496 - val_accuracy: 0.6667\n",
      "Epoch 127/150\n",
      "45/45 [==============================] - ETA: 0s - loss: 0.0896 - accuracy: 0.96 - 0s 347us/step - loss: 0.0743 - accuracy: 0.9778 - val_loss: 0.9483 - val_accuracy: 0.6667\n",
      "Epoch 128/150\n",
      "45/45 [==============================] - ETA: 0s - loss: 0.0644 - accuracy: 1.00 - 0s 347us/step - loss: 0.0740 - accuracy: 0.9778 - val_loss: 0.9474 - val_accuracy: 0.6667\n",
      "Epoch 129/150\n",
      "45/45 [==============================] - ETA: 0s - loss: 0.0818 - accuracy: 0.96 - 0s 694us/step - loss: 0.0723 - accuracy: 0.9778 - val_loss: 0.9480 - val_accuracy: 0.6667\n",
      "Epoch 130/150\n",
      "45/45 [==============================] - ETA: 0s - loss: 0.0628 - accuracy: 0.96 - 0s 347us/step - loss: 0.0719 - accuracy: 0.9556 - val_loss: 0.9484 - val_accuracy: 0.6667\n",
      "Epoch 131/150\n",
      "45/45 [==============================] - ETA: 0s - loss: 0.0571 - accuracy: 0.96 - 0s 347us/step - loss: 0.0713 - accuracy: 0.9556 - val_loss: 0.9479 - val_accuracy: 0.6667\n",
      "Epoch 132/150\n",
      "45/45 [==============================] - ETA: 0s - loss: 0.0629 - accuracy: 0.96 - 0s 347us/step - loss: 0.0703 - accuracy: 0.9556 - val_loss: 0.9481 - val_accuracy: 0.6667\n"
     ]
    },
    {
     "name": "stdout",
     "output_type": "stream",
     "text": [
      "Epoch 133/150\n",
      "45/45 [==============================] - ETA: 0s - loss: 0.0814 - accuracy: 0.96 - 0s 347us/step - loss: 0.0689 - accuracy: 0.9778 - val_loss: 0.9470 - val_accuracy: 0.6667\n",
      "Epoch 134/150\n",
      "45/45 [==============================] - ETA: 0s - loss: 0.0747 - accuracy: 0.96 - 0s 347us/step - loss: 0.0680 - accuracy: 0.9778 - val_loss: 0.9460 - val_accuracy: 0.6667\n",
      "Epoch 135/150\n",
      "45/45 [==============================] - ETA: 0s - loss: 0.0560 - accuracy: 0.96 - 0s 347us/step - loss: 0.0674 - accuracy: 0.9778 - val_loss: 0.9448 - val_accuracy: 0.6667\n",
      "Epoch 136/150\n",
      "45/45 [==============================] - ETA: 0s - loss: 0.0582 - accuracy: 0.96 - 0s 347us/step - loss: 0.0664 - accuracy: 0.9778 - val_loss: 0.9427 - val_accuracy: 0.6667\n",
      "Epoch 137/150\n",
      "45/45 [==============================] - ETA: 0s - loss: 0.0658 - accuracy: 0.96 - 0s 694us/step - loss: 0.0657 - accuracy: 0.9778 - val_loss: 0.9400 - val_accuracy: 0.6667\n",
      "Epoch 138/150\n",
      "45/45 [==============================] - ETA: 0s - loss: 0.0445 - accuracy: 1.00 - 0s 347us/step - loss: 0.0673 - accuracy: 0.9778 - val_loss: 0.9381 - val_accuracy: 0.6667\n",
      "Epoch 139/150\n",
      "45/45 [==============================] - ETA: 0s - loss: 0.0839 - accuracy: 0.96 - 0s 347us/step - loss: 0.0657 - accuracy: 0.9778 - val_loss: 0.9383 - val_accuracy: 0.6667\n",
      "Epoch 140/150\n",
      "45/45 [==============================] - ETA: 0s - loss: 0.0732 - accuracy: 0.96 - 0s 695us/step - loss: 0.0648 - accuracy: 0.9778 - val_loss: 0.9390 - val_accuracy: 0.6667\n",
      "Epoch 141/150\n",
      "45/45 [==============================] - ETA: 0s - loss: 0.0472 - accuracy: 1.00 - 0s 694us/step - loss: 0.0641 - accuracy: 0.9778 - val_loss: 0.9404 - val_accuracy: 0.6667\n",
      "Epoch 142/150\n",
      "45/45 [==============================] - ETA: 0s - loss: 0.0617 - accuracy: 0.96 - 0s 347us/step - loss: 0.0640 - accuracy: 0.9778 - val_loss: 0.9426 - val_accuracy: 0.6667\n",
      "Epoch 143/150\n",
      "45/45 [==============================] - ETA: 0s - loss: 0.0769 - accuracy: 0.96 - 0s 347us/step - loss: 0.0621 - accuracy: 0.9778 - val_loss: 0.9437 - val_accuracy: 0.6667\n",
      "Epoch 144/150\n",
      "45/45 [==============================] - ETA: 0s - loss: 0.0531 - accuracy: 1.00 - 0s 694us/step - loss: 0.0614 - accuracy: 0.9778 - val_loss: 0.9448 - val_accuracy: 0.6667\n",
      "Epoch 145/150\n",
      "45/45 [==============================] - ETA: 0s - loss: 0.0757 - accuracy: 0.96 - 0s 347us/step - loss: 0.0608 - accuracy: 0.9778 - val_loss: 0.9465 - val_accuracy: 0.6667\n",
      "Epoch 146/150\n",
      "45/45 [==============================] - ETA: 0s - loss: 0.0355 - accuracy: 1.00 - 0s 694us/step - loss: 0.0604 - accuracy: 0.9778 - val_loss: 0.9476 - val_accuracy: 0.6667\n",
      "Epoch 147/150\n",
      "45/45 [==============================] - ETA: 0s - loss: 0.0545 - accuracy: 0.96 - 0s 347us/step - loss: 0.0599 - accuracy: 0.9778 - val_loss: 0.9483 - val_accuracy: 0.6667\n",
      "Epoch 148/150\n",
      "45/45 [==============================] - ETA: 0s - loss: 0.0647 - accuracy: 0.96 - 0s 347us/step - loss: 0.0596 - accuracy: 0.9778 - val_loss: 0.9493 - val_accuracy: 0.6667\n",
      "Epoch 149/150\n",
      "45/45 [==============================] - ETA: 0s - loss: 0.0693 - accuracy: 0.96 - 0s 347us/step - loss: 0.0595 - accuracy: 0.9778 - val_loss: 0.9493 - val_accuracy: 0.6667\n",
      "Epoch 150/150\n",
      "45/45 [==============================] - ETA: 0s - loss: 0.0711 - accuracy: 0.96 - 0s 347us/step - loss: 0.0591 - accuracy: 0.9778 - val_loss: 0.9484 - val_accuracy: 0.6667\n"
     ]
    }
   ],
   "source": [
    "n_timesteps = 1\n",
    "n_features = XX_train.shape[2]\n",
    "\n",
    "model = Sequential()\n",
    "model.add(Conv1D(filters=32, kernel_size=1, activation='relu', input_shape=(n_timesteps, n_features)))\n",
    "model.add(MaxPooling1D(pool_size=1))\n",
    "model.add(Flatten())\n",
    "model.add(Dense(16, activation='relu'))\n",
    "model.add(Dense(units=YY_train.shape[1], activation='softmax'))\n",
    "model.compile(loss='categorical_crossentropy', optimizer=\"adam\", metrics=['accuracy'])\n",
    "\n",
    "epochs = 150\n",
    "batch_size =32\n",
    "history = model.fit(XX_train, YY_train, epochs=epochs, batch_size=batch_size, validation_split=0.4)"
   ]
  },
  {
   "cell_type": "code",
   "execution_count": 21,
   "metadata": {},
   "outputs": [
    {
     "data": {
      "text/plain": [
       "0.6363636363636364"
      ]
     },
     "execution_count": 21,
     "metadata": {},
     "output_type": "execute_result"
    }
   ],
   "source": [
    "pred_proba=model.predict(XX_test)\n",
    "idx = np.argmax(pred_proba, axis=-1)\n",
    "YY_pred = np.zeros( pred_proba.shape )\n",
    "YY_pred[ np.arange(YY_pred.shape[0]), idx] = 1\n",
    "accuracy_score(YY_test, YY_pred)"
   ]
  },
  {
   "cell_type": "code",
   "execution_count": 22,
   "metadata": {},
   "outputs": [
    {
     "data": {
      "text/plain": [
       "['model_classif_theme.joblib']"
      ]
     },
     "execution_count": 22,
     "metadata": {},
     "output_type": "execute_result"
    }
   ],
   "source": [
    "from joblib import dump\n",
    "dump(model, 'model_classif_theme.joblib')"
   ]
  },
  {
   "cell_type": "code",
   "execution_count": null,
   "metadata": {},
   "outputs": [],
   "source": []
  }
 ],
 "metadata": {
  "kernelspec": {
   "display_name": "Python 3",
   "language": "python",
   "name": "python3"
  },
  "language_info": {
   "codemirror_mode": {
    "name": "ipython",
    "version": 3
   },
   "file_extension": ".py",
   "mimetype": "text/x-python",
   "name": "python",
   "nbconvert_exporter": "python",
   "pygments_lexer": "ipython3",
   "version": "3.7.3"
  }
 },
 "nbformat": 4,
 "nbformat_minor": 2
}
