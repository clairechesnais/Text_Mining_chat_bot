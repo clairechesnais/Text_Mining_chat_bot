{
 "cells": [
  {
   "cell_type": "markdown",
   "metadata": {},
   "source": [
    "# Classification de la question"
   ]
  },
  {
   "cell_type": "markdown",
   "metadata": {},
   "source": [
    "## 1. Prétraitement textuel de la base de données"
   ]
  },
  {
   "cell_type": "markdown",
   "metadata": {},
   "source": [
    "### A. Préparation du fichier"
   ]
  },
  {
   "cell_type": "code",
   "execution_count": 1,
   "metadata": {},
   "outputs": [],
   "source": [
    "import pandas as pd"
   ]
  },
  {
   "cell_type": "code",
   "execution_count": 2,
   "metadata": {},
   "outputs": [
    {
     "data": {
      "text/html": [
       "<div>\n",
       "<style scoped>\n",
       "    .dataframe tbody tr th:only-of-type {\n",
       "        vertical-align: middle;\n",
       "    }\n",
       "\n",
       "    .dataframe tbody tr th {\n",
       "        vertical-align: top;\n",
       "    }\n",
       "\n",
       "    .dataframe thead th {\n",
       "        text-align: right;\n",
       "    }\n",
       "</style>\n",
       "<table border=\"1\" class=\"dataframe\">\n",
       "  <thead>\n",
       "    <tr style=\"text-align: right;\">\n",
       "      <th></th>\n",
       "      <th>question</th>\n",
       "      <th>reponse</th>\n",
       "      <th>theme</th>\n",
       "    </tr>\n",
       "  </thead>\n",
       "  <tbody>\n",
       "    <tr>\n",
       "      <th>0</th>\n",
       "      <td>Quels sont les jours d’arrivée ?</td>\n",
       "      <td>Il est possible d’arriver n’importe quel jour ...</td>\n",
       "      <td>Préparer mon séjour</td>\n",
       "    </tr>\n",
       "    <tr>\n",
       "      <th>1</th>\n",
       "      <td>Comment évaluer le confort de mon domaine et d...</td>\n",
       "      <td>Le classement par « birdies » évalue l’offre C...</td>\n",
       "      <td>Préparer mon séjour</td>\n",
       "    </tr>\n",
       "    <tr>\n",
       "      <th>2</th>\n",
       "      <td>Quels sont les services et activités compris d...</td>\n",
       "      <td>En réservant votre hébergement, vous bénéficie...</td>\n",
       "      <td>Préparer mon séjour</td>\n",
       "    </tr>\n",
       "    <tr>\n",
       "      <th>3</th>\n",
       "      <td>Comment réserver mes activités ?</td>\n",
       "      <td>Lors de la réservation de votre hébergement, v...</td>\n",
       "      <td>Préparer mon séjour</td>\n",
       "    </tr>\n",
       "    <tr>\n",
       "      <th>4</th>\n",
       "      <td>Où trouver le plan du domaine ?</td>\n",
       "      <td>Sur la page d'accueil de notre site, cliquez s...</td>\n",
       "      <td>Préparer mon séjour</td>\n",
       "    </tr>\n",
       "  </tbody>\n",
       "</table>\n",
       "</div>"
      ],
      "text/plain": [
       "                                            question  \\\n",
       "0                   Quels sont les jours d’arrivée ?   \n",
       "1  Comment évaluer le confort de mon domaine et d...   \n",
       "2  Quels sont les services et activités compris d...   \n",
       "3                   Comment réserver mes activités ?   \n",
       "4                    Où trouver le plan du domaine ?   \n",
       "\n",
       "                                             reponse                theme  \n",
       "0  Il est possible d’arriver n’importe quel jour ...  Préparer mon séjour  \n",
       "1  Le classement par « birdies » évalue l’offre C...  Préparer mon séjour  \n",
       "2  En réservant votre hébergement, vous bénéficie...  Préparer mon séjour  \n",
       "3  Lors de la réservation de votre hébergement, v...  Préparer mon séjour  \n",
       "4  Sur la page d'accueil de notre site, cliquez s...  Préparer mon séjour  "
      ]
     },
     "execution_count": 2,
     "metadata": {},
     "output_type": "execute_result"
    }
   ],
   "source": [
    "df_faq = pd.read_pickle('faq_centerPark.pkl')\n",
    "df_faq.head()"
   ]
  },
  {
   "cell_type": "markdown",
   "metadata": {},
   "source": [
    "Notre jeu de données est composé de :\n",
    "    - 54 lignes\n",
    "    - 3 colonnes\n",
    "    - 5 thèmes différents\n",
    "On pose :\n",
    "    - 1 = Préparer mon séjour\n",
    "    - 2 = Réserver et payer\n",
    "    - 3 = Gérer ma réservation\n",
    "    - 4 = Mon séjour\n",
    "    - 5 = Assurances"
   ]
  },
  {
   "cell_type": "code",
   "execution_count": 3,
   "metadata": {},
   "outputs": [],
   "source": [
    "dic_code_theme = {\"Préparer mon séjour\": 1,\n",
    "                  \"Réserver et payer\": 2,\n",
    "                  \"Gérer ma réservation\": 3,\n",
    "                  \"Mon séjour\": 4,\n",
    "                  \"Assurances\": 5}\n",
    "dic_decode_theme = {val: key for key, val in dic_code_theme.items()}"
   ]
  },
  {
   "cell_type": "code",
   "execution_count": 4,
   "metadata": {},
   "outputs": [],
   "source": [
    "df_faq[\"theme\"].replace(dic_code_theme, inplace=True)"
   ]
  },
  {
   "cell_type": "code",
   "execution_count": 5,
   "metadata": {},
   "outputs": [
    {
     "name": "stderr",
     "output_type": "stream",
     "text": [
      "C:\\Users\\enora\\Anaconda3\\lib\\site-packages\\pandas\\core\\frame.py:4025: SettingWithCopyWarning: \n",
      "A value is trying to be set on a copy of a slice from a DataFrame\n",
      "\n",
      "See the caveats in the documentation: http://pandas.pydata.org/pandas-docs/stable/indexing.html#indexing-view-versus-copy\n",
      "  return super(DataFrame, self).rename(**kwargs)\n"
     ]
    }
   ],
   "source": [
    "df_question = df_faq[['question', 'theme']]\n",
    "df_question.rename(columns={'question': 'texte', 'theme': 'theme'}, inplace=True)\n",
    "df_reponse = df_faq[['reponse', 'theme']]\n",
    "df_reponse.rename(columns={'reponse': 'texte', 'theme': 'theme'}, inplace=True)"
   ]
  },
  {
   "cell_type": "code",
   "execution_count": 6,
   "metadata": {},
   "outputs": [],
   "source": [
    "df_concat = pd.concat([df_question, df_reponse])"
   ]
  },
  {
   "cell_type": "code",
   "execution_count": 7,
   "metadata": {},
   "outputs": [],
   "source": [
    "# Sauvegarde\n",
    "df_concat.to_pickle('df_concat.pkl')"
   ]
  },
  {
   "cell_type": "markdown",
   "metadata": {},
   "source": [
    "### B. Nettoyage du texte"
   ]
  },
  {
   "cell_type": "code",
   "execution_count": 8,
   "metadata": {},
   "outputs": [],
   "source": [
    "import os\n",
    "import numpy as np\n",
    "import re\n",
    "from collections import Counter\n",
    "\n",
    "# pour le nettoyage du texte\n",
    "import nltk\n",
    "import string\n",
    "import spacy\n",
    "from nltk.tokenize import word_tokenize\n",
    "from nltk.stem import SnowballStemmer\n",
    "from sklearn.feature_extraction.text import CountVectorizer, TfidfVectorizer\n",
    "\n",
    "#pour la classification\n",
    "from sklearn.linear_model import LogisticRegression\n",
    "from sklearn.naive_bayes import MultinomialNB\n",
    "from sklearn.metrics import accuracy_score, precision_score, recall_score, f1_score, classification_report, confusion_matrix\n",
    "from sklearn.svm import SVC\n",
    "\n",
    "import unidecode"
   ]
  },
  {
   "cell_type": "code",
   "execution_count": 9,
   "metadata": {},
   "outputs": [],
   "source": [
    "from sklearn.model_selection import train_test_split\n",
    "\n",
    "df_concat = pd.read_pickle('df_concat.pkl')\n",
    "X_train, X_test, y_train, y_test = train_test_split(df_concat['texte'], \n",
    "                                                    df_concat['theme'],\n",
    "                                                    train_size=0.7,\n",
    "                                                    random_state=5)"
   ]
  },
  {
   "cell_type": "code",
   "execution_count": 10,
   "metadata": {},
   "outputs": [],
   "source": [
    "stemmer = SnowballStemmer('french')\n",
    "#tokenizer = TweetTokenizer(strip_handles=True, reduce_len=True) # tokenizer for tweet\n",
    "nlp = spacy.load('fr_core_news_sm')\n",
    "\n",
    "sw = nltk.corpus.stopwords.words('french')\n",
    "sw += ['être', 'avoir']\n",
    "sw.sort()\n",
    "\n",
    "def lemmatise_text(text):\n",
    "    lst_lematised = [token.lemma_ for token in nlp(text)]\n",
    "    return ' '.join(lst_lematised).lower()\n",
    "\n",
    "\n",
    "def stem_text(text):\n",
    "    #lst_stemmerised = [stemmer.stem(token) for token in tokenizer.tokenize(text)] \n",
    "    lst_stemmerised = [stemmer.stem(token) for token in word_tokenize(text)]\n",
    "    return ' '.join(lst_stemmerised)\n",
    "\n",
    "\n",
    "def replace_words_with_pos_tag(text):\n",
    "    lst_tags = [token.pos_ for token in nlp(text)]\n",
    "    return ' '.join(lst_tags)\n",
    "\n",
    "\n",
    "def ner(text): #entites nommees\n",
    "    dico_remplacement = {entite_nommee.text : entite_nommee.label_ for entite_nommee in nlp(text).ents}\n",
    "    for entite_nommee, remplacement in dico_remplacement.items():\n",
    "        text = text.replace(entite_nommee, remplacement)\n",
    "    return text\n",
    "\n",
    "\n",
    "def substitute_punctuation(text):\n",
    "    return ' '.join(text.replace(\"'\", ' ').translate(str.maketrans('', '', string.punctuation)).split())\n",
    "\n",
    "\n",
    "def supp(text):\n",
    "    return text.replace(\"«\", \"\").replace(\"’\", \"\").replace(\"•\", \"\").replace(\"®\", \"\")\n",
    "\n",
    "\n",
    "def supprime_accent(txt):\n",
    "    return unidecode.unidecode(txt)"
   ]
  },
  {
   "cell_type": "code",
   "execution_count": 11,
   "metadata": {},
   "outputs": [],
   "source": [
    "X_train_clean = (X_train.apply(lemmatise_text)\n",
    "                        .apply(stem_text)\n",
    "                        .apply(substitute_punctuation)\n",
    "                        .apply(supp)\n",
    "                )\n",
    "\n",
    "X_test_clean = (X_test.apply(lemmatise_text)\n",
    "                      .apply(stem_text)\n",
    "                      .apply(substitute_punctuation)\n",
    "                      .apply(supp)\n",
    "               )"
   ]
  },
  {
   "cell_type": "markdown",
   "metadata": {},
   "source": [
    "## C. Test de différents modèles"
   ]
  },
  {
   "cell_type": "markdown",
   "metadata": {},
   "source": [
    "##### a. Les différents vectoriseurs"
   ]
  },
  {
   "cell_type": "code",
   "execution_count": 12,
   "metadata": {},
   "outputs": [],
   "source": [
    "#vectoriseur binaire\n",
    "\n",
    "bin_count = CountVectorizer(binary=True)\n",
    "bin_count.fit(X_train_clean)\n",
    "X_train_clean_vectorized_bin = bin_count.transform(X_train_clean)\n",
    "X_test_clean_vectorized_bin = bin_count.transform(X_test_clean)"
   ]
  },
  {
   "cell_type": "code",
   "execution_count": 13,
   "metadata": {},
   "outputs": [],
   "source": [
    "#vectoriseur numérique discret\n",
    "\n",
    "vect_count = CountVectorizer(binary=False)\n",
    "vect_count.fit(X_train_clean)\n",
    "X_train_clean_vectorized_count = vect_count.transform(X_train_clean)\n",
    "X_test_clean_vectorized_count = vect_count.transform(X_test_clean)"
   ]
  },
  {
   "cell_type": "code",
   "execution_count": 14,
   "metadata": {},
   "outputs": [
    {
     "data": {
      "text/plain": [
       "['vectorizer_classif_theme.joblib']"
      ]
     },
     "execution_count": 14,
     "metadata": {},
     "output_type": "execute_result"
    }
   ],
   "source": [
    "#vectoriseur numérique continu : TF-IDF\n",
    "\n",
    "vect_tfidf = TfidfVectorizer(stop_words=sw)\n",
    "vect_tfidf.fit(X_train_clean)\n",
    "X_train_clean_vectorized_tfidf = vect_tfidf.transform(X_train_clean)\n",
    "X_test_clean_vectorized_tfidf = vect_tfidf.transform(X_test_clean) \n",
    "\n",
    "## export vectorizer\n",
    "from joblib import dump\n",
    "dump(vect_tfidf, 'vectorizer_classif_theme.joblib')"
   ]
  },
  {
   "cell_type": "markdown",
   "metadata": {},
   "source": [
    "#### b. Les différents modèles"
   ]
  },
  {
   "cell_type": "markdown",
   "metadata": {},
   "source": [
    "Nous entraînerons des modèles de classification appartenant à quelques familles d'algorithmes d'apprentissage automatique classique. L'objectif est de comparer non seulement les performances des différentes méthodes entre elles, mais aussi la performance d'une même méthode sur des représentations différentes du texte."
   ]
  },
  {
   "cell_type": "markdown",
   "metadata": {},
   "source": [
    "##### b.1 DummyClassifier"
   ]
  },
  {
   "cell_type": "code",
   "execution_count": 15,
   "metadata": {},
   "outputs": [],
   "source": [
    "from sklearn.dummy import DummyClassifier"
   ]
  },
  {
   "cell_type": "code",
   "execution_count": 16,
   "metadata": {},
   "outputs": [
    {
     "data": {
      "text/plain": [
       "0.18181818181818182"
      ]
     },
     "execution_count": 16,
     "metadata": {},
     "output_type": "execute_result"
    }
   ],
   "source": [
    "random_uniform = DummyClassifier(strategy='uniform').fit(X_train_clean_vectorized_count, y_train)\n",
    "predictions_valid = random_uniform.predict(X_test_clean_vectorized_count)\n",
    "accuracy_score(y_test, predictions_valid)"
   ]
  },
  {
   "cell_type": "code",
   "execution_count": 17,
   "metadata": {},
   "outputs": [
    {
     "data": {
      "text/plain": [
       "0.21212121212121213"
      ]
     },
     "execution_count": 17,
     "metadata": {},
     "output_type": "execute_result"
    }
   ],
   "source": [
    "random_uniform = DummyClassifier(strategy='uniform').fit(X_train_clean_vectorized_bin, y_train)\n",
    "predictions_valid = random_uniform.predict(X_test_clean_vectorized_bin)\n",
    "accuracy_score(y_test, predictions_valid)"
   ]
  },
  {
   "cell_type": "code",
   "execution_count": 18,
   "metadata": {},
   "outputs": [
    {
     "data": {
      "text/plain": [
       "0.21212121212121213"
      ]
     },
     "execution_count": 18,
     "metadata": {},
     "output_type": "execute_result"
    }
   ],
   "source": [
    "random_uniform = DummyClassifier(strategy='uniform').fit(X_train_clean_vectorized_tfidf, y_train)\n",
    "predictions_valid = random_uniform.predict(X_test_clean_vectorized_tfidf)\n",
    "accuracy_score(y_test, predictions_valid)"
   ]
  },
  {
   "cell_type": "markdown",
   "metadata": {},
   "source": [
    "##### b.2 Classifieur naïf bayesien"
   ]
  },
  {
   "cell_type": "code",
   "execution_count": 19,
   "metadata": {},
   "outputs": [],
   "source": [
    "from sklearn.naive_bayes import MultinomialNB"
   ]
  },
  {
   "cell_type": "code",
   "execution_count": 20,
   "metadata": {},
   "outputs": [
    {
     "data": {
      "text/plain": [
       "0.5757575757575758"
      ]
     },
     "execution_count": 20,
     "metadata": {},
     "output_type": "execute_result"
    }
   ],
   "source": [
    "model_nb = MultinomialNB().fit(X_train_clean_vectorized_count, y_train)\n",
    "predictions_valid = model_nb.predict(X_test_clean_vectorized_count)\n",
    "accuracy_score(y_test, predictions_valid)"
   ]
  },
  {
   "cell_type": "code",
   "execution_count": 21,
   "metadata": {},
   "outputs": [
    {
     "data": {
      "text/plain": [
       "0.6060606060606061"
      ]
     },
     "execution_count": 21,
     "metadata": {},
     "output_type": "execute_result"
    }
   ],
   "source": [
    "model_nb = MultinomialNB().fit(X_train_clean_vectorized_bin, y_train)\n",
    "predictions_valid = model_nb.predict(X_test_clean_vectorized_bin)\n",
    "accuracy_score(y_test, predictions_valid)"
   ]
  },
  {
   "cell_type": "code",
   "execution_count": 22,
   "metadata": {},
   "outputs": [
    {
     "data": {
      "text/plain": [
       "0.5454545454545454"
      ]
     },
     "execution_count": 22,
     "metadata": {},
     "output_type": "execute_result"
    }
   ],
   "source": [
    "model_nb = MultinomialNB().fit(X_train_clean_vectorized_tfidf, y_train)\n",
    "predictions_valid = model_nb.predict(X_test_clean_vectorized_tfidf)\n",
    "accuracy_score(y_test, predictions_valid)"
   ]
  },
  {
   "cell_type": "markdown",
   "metadata": {},
   "source": [
    "#### b.3 Complement NB"
   ]
  },
  {
   "cell_type": "code",
   "execution_count": 24,
   "metadata": {},
   "outputs": [],
   "source": [
    "from sklearn.naive_bayes import ComplementNB"
   ]
  },
  {
   "cell_type": "code",
   "execution_count": 25,
   "metadata": {},
   "outputs": [
    {
     "data": {
      "text/plain": [
       "0.5454545454545454"
      ]
     },
     "execution_count": 25,
     "metadata": {},
     "output_type": "execute_result"
    }
   ],
   "source": [
    "model_comp = ComplementNB().fit(X_train_clean_vectorized_count, y_train)\n",
    "predictions_valid = model_comp.predict(X_test_clean_vectorized_count)\n",
    "accuracy_score(y_test, predictions_valid)"
   ]
  },
  {
   "cell_type": "code",
   "execution_count": 26,
   "metadata": {},
   "outputs": [
    {
     "data": {
      "text/plain": [
       "0.6060606060606061"
      ]
     },
     "execution_count": 26,
     "metadata": {},
     "output_type": "execute_result"
    }
   ],
   "source": [
    "model_comp = ComplementNB().fit(X_train_clean_vectorized_bin, y_train)\n",
    "predictions_valid = model_comp.predict(X_test_clean_vectorized_bin)\n",
    "accuracy_score(y_test, predictions_valid)"
   ]
  },
  {
   "cell_type": "code",
   "execution_count": 28,
   "metadata": {},
   "outputs": [
    {
     "data": {
      "text/plain": [
       "0.6666666666666666"
      ]
     },
     "execution_count": 28,
     "metadata": {},
     "output_type": "execute_result"
    }
   ],
   "source": [
    "model_comp = ComplementNB().fit(X_train_clean_vectorized_tfidf, y_train)\n",
    "predictions_valid = model_comp.predict(X_test_clean_vectorized_tfidf)\n",
    "accuracy_score(y_test, predictions_valid)"
   ]
  },
  {
   "cell_type": "markdown",
   "metadata": {},
   "source": [
    "#### b.4 BernoulliNB"
   ]
  },
  {
   "cell_type": "code",
   "execution_count": 29,
   "metadata": {},
   "outputs": [],
   "source": [
    "from sklearn.naive_bayes import BernoulliNB"
   ]
  },
  {
   "cell_type": "code",
   "execution_count": 30,
   "metadata": {},
   "outputs": [
    {
     "data": {
      "text/plain": [
       "0.36363636363636365"
      ]
     },
     "execution_count": 30,
     "metadata": {},
     "output_type": "execute_result"
    }
   ],
   "source": [
    "model_bern = BernoulliNB().fit(X_train_clean_vectorized_count, y_train)\n",
    "predictions_valid = model_bern.predict(X_test_clean_vectorized_count)\n",
    "accuracy_score(y_test, predictions_valid)"
   ]
  },
  {
   "cell_type": "code",
   "execution_count": 31,
   "metadata": {},
   "outputs": [
    {
     "data": {
      "text/plain": [
       "0.36363636363636365"
      ]
     },
     "execution_count": 31,
     "metadata": {},
     "output_type": "execute_result"
    }
   ],
   "source": [
    "model_bern = BernoulliNB().fit(X_train_clean_vectorized_bin, y_train)\n",
    "predictions_valid = model_bern.predict(X_test_clean_vectorized_bin)\n",
    "accuracy_score(y_test, predictions_valid)"
   ]
  },
  {
   "cell_type": "code",
   "execution_count": 32,
   "metadata": {},
   "outputs": [
    {
     "data": {
      "text/plain": [
       "0.36363636363636365"
      ]
     },
     "execution_count": 32,
     "metadata": {},
     "output_type": "execute_result"
    }
   ],
   "source": [
    "model_bern = BernoulliNB().fit(X_train_clean_vectorized_tfidf, y_train)\n",
    "predictions_valid = model_bern.predict(X_test_clean_vectorized_tfidf)\n",
    "accuracy_score(y_test, predictions_valid)"
   ]
  },
  {
   "cell_type": "markdown",
   "metadata": {},
   "source": [
    "#### b.6 KNeighborsClassifier"
   ]
  },
  {
   "cell_type": "code",
   "execution_count": 33,
   "metadata": {},
   "outputs": [],
   "source": [
    "from sklearn.neighbors import KNeighborsClassifier"
   ]
  },
  {
   "cell_type": "code",
   "execution_count": 34,
   "metadata": {},
   "outputs": [
    {
     "data": {
      "text/plain": [
       "0.2727272727272727"
      ]
     },
     "execution_count": 34,
     "metadata": {},
     "output_type": "execute_result"
    }
   ],
   "source": [
    "model_knn = KNeighborsClassifier(4).fit(X_train_clean_vectorized_count, y_train)\n",
    "predictions_valid = model_knn.predict(X_test_clean_vectorized_count)\n",
    "accuracy_score(y_test, predictions_valid)"
   ]
  },
  {
   "cell_type": "code",
   "execution_count": 35,
   "metadata": {},
   "outputs": [
    {
     "data": {
      "text/plain": [
       "0.30303030303030304"
      ]
     },
     "execution_count": 35,
     "metadata": {},
     "output_type": "execute_result"
    }
   ],
   "source": [
    "model_knn = KNeighborsClassifier(4).fit(X_train_clean_vectorized_bin, y_train)\n",
    "predictions_valid = model_knn.predict(X_test_clean_vectorized_bin)\n",
    "accuracy_score(y_test, predictions_valid)"
   ]
  },
  {
   "cell_type": "code",
   "execution_count": 36,
   "metadata": {},
   "outputs": [
    {
     "data": {
      "text/plain": [
       "0.6363636363636364"
      ]
     },
     "execution_count": 36,
     "metadata": {},
     "output_type": "execute_result"
    }
   ],
   "source": [
    "model_knn = KNeighborsClassifier(4).fit(X_train_clean_vectorized_tfidf, y_train)\n",
    "predictions_valid = model_knn.predict(X_test_clean_vectorized_tfidf)\n",
    "accuracy_score(y_test, predictions_valid)"
   ]
  },
  {
   "cell_type": "markdown",
   "metadata": {},
   "source": [
    "#### b.7. SVM"
   ]
  },
  {
   "cell_type": "code",
   "execution_count": 37,
   "metadata": {},
   "outputs": [],
   "source": [
    "from sklearn.svm import SVC"
   ]
  },
  {
   "cell_type": "code",
   "execution_count": 38,
   "metadata": {},
   "outputs": [
    {
     "data": {
      "text/plain": [
       "0.3939393939393939"
      ]
     },
     "execution_count": 38,
     "metadata": {},
     "output_type": "execute_result"
    }
   ],
   "source": [
    "model_svm = SVC(kernel='linear', C=0.9).fit(X_train_clean_vectorized_count, y_train)\n",
    "predictions_valid = model_svm.predict(X_test_clean_vectorized_count)\n",
    "accuracy_score(y_test, predictions_valid)"
   ]
  },
  {
   "cell_type": "code",
   "execution_count": 39,
   "metadata": {},
   "outputs": [
    {
     "data": {
      "text/plain": [
       "0.3939393939393939"
      ]
     },
     "execution_count": 39,
     "metadata": {},
     "output_type": "execute_result"
    }
   ],
   "source": [
    "model_svm = SVC(kernel='linear', C=0.9).fit(X_train_clean_vectorized_bin, y_train)\n",
    "predictions_valid = model_svm.predict(X_test_clean_vectorized_bin)\n",
    "accuracy_score(y_test, predictions_valid)"
   ]
  },
  {
   "cell_type": "code",
   "execution_count": 40,
   "metadata": {},
   "outputs": [
    {
     "data": {
      "text/plain": [
       "0.5757575757575758"
      ]
     },
     "execution_count": 40,
     "metadata": {},
     "output_type": "execute_result"
    }
   ],
   "source": [
    "model_svm = SVC(kernel='linear', C=0.9).fit(X_train_clean_vectorized_tfidf, y_train)\n",
    "predictions_valid = model_svm.predict(X_test_clean_vectorized_tfidf)\n",
    "accuracy_score(y_test, predictions_valid)"
   ]
  },
  {
   "cell_type": "markdown",
   "metadata": {},
   "source": [
    "#### b.8 Réseaux de neurones de convolution"
   ]
  },
  {
   "cell_type": "code",
   "execution_count": 41,
   "metadata": {},
   "outputs": [
    {
     "name": "stderr",
     "output_type": "stream",
     "text": [
      "Using TensorFlow backend.\n"
     ]
    }
   ],
   "source": [
    "from keras.models import Sequential\n",
    "from keras.layers import LSTM, Embedding, Dense, SpatialDropout1D, MaxPooling1D, Conv1D, Flatten, MaxPooling2D, Conv2D"
   ]
  },
  {
   "cell_type": "code",
   "execution_count": 42,
   "metadata": {},
   "outputs": [],
   "source": [
    "XX_train = X_train_clean_vectorized_tfidf.toarray().reshape(X_train_clean_vectorized_tfidf.shape[0],1,\n",
    "                                                X_train_clean_vectorized_tfidf.shape[1])\n",
    "XX_test = X_test_clean_vectorized_tfidf.toarray().reshape(X_test_clean_vectorized_tfidf.shape[0],1,\n",
    "                                                X_test_clean_vectorized_tfidf.shape[1])\n",
    "YY_train = pd.get_dummies(y_train)\n",
    "YY_test = pd.get_dummies(y_test)"
   ]
  },
  {
   "cell_type": "code",
   "execution_count": 43,
   "metadata": {},
   "outputs": [
    {
     "name": "stdout",
     "output_type": "stream",
     "text": [
      "Train on 45 samples, validate on 30 samples\n",
      "Epoch 1/150\n",
      "45/45 [==============================] - ETA: 0s - loss: 1.6094 - accuracy: 0.21 - 0s 7ms/step - loss: 1.6096 - accuracy: 0.2222 - val_loss: 1.6133 - val_accuracy: 0.2000\n",
      "Epoch 2/150\n",
      "45/45 [==============================] - ETA: 0s - loss: 1.6013 - accuracy: 0.37 - 0s 347us/step - loss: 1.5999 - accuracy: 0.3556 - val_loss: 1.6114 - val_accuracy: 0.1333\n",
      "Epoch 3/150\n",
      "45/45 [==============================] - ETA: 0s - loss: 1.5897 - accuracy: 0.56 - 0s 347us/step - loss: 1.5916 - accuracy: 0.5111 - val_loss: 1.6095 - val_accuracy: 0.1667\n",
      "Epoch 4/150\n",
      "45/45 [==============================] - ETA: 0s - loss: 1.5887 - accuracy: 0.56 - 0s 347us/step - loss: 1.5840 - accuracy: 0.6444 - val_loss: 1.6079 - val_accuracy: 0.2000\n",
      "Epoch 5/150\n",
      "45/45 [==============================] - ETA: 0s - loss: 1.5810 - accuracy: 0.68 - 0s 694us/step - loss: 1.5767 - accuracy: 0.7333 - val_loss: 1.6063 - val_accuracy: 0.2000\n",
      "Epoch 6/150\n",
      "45/45 [==============================] - ETA: 0s - loss: 1.5724 - accuracy: 0.71 - 0s 695us/step - loss: 1.5691 - accuracy: 0.7556 - val_loss: 1.6047 - val_accuracy: 0.2333\n",
      "Epoch 7/150\n",
      "45/45 [==============================] - ETA: 0s - loss: 1.5588 - accuracy: 0.87 - 0s 347us/step - loss: 1.5621 - accuracy: 0.8222 - val_loss: 1.6031 - val_accuracy: 0.2667\n",
      "Epoch 8/150\n",
      "45/45 [==============================] - ETA: 0s - loss: 1.5545 - accuracy: 0.81 - 0s 347us/step - loss: 1.5542 - accuracy: 0.8222 - val_loss: 1.6019 - val_accuracy: 0.2667\n",
      "Epoch 9/150\n",
      "45/45 [==============================] - ETA: 0s - loss: 1.5473 - accuracy: 0.75 - 0s 693us/step - loss: 1.5466 - accuracy: 0.8000 - val_loss: 1.6006 - val_accuracy: 0.2667\n",
      "Epoch 10/150\n",
      "45/45 [==============================] - ETA: 0s - loss: 1.5311 - accuracy: 0.87 - 0s 695us/step - loss: 1.5388 - accuracy: 0.8222 - val_loss: 1.5993 - val_accuracy: 0.2667\n",
      "Epoch 11/150\n",
      "45/45 [==============================] - ETA: 0s - loss: 1.5252 - accuracy: 0.87 - 0s 694us/step - loss: 1.5304 - accuracy: 0.8444 - val_loss: 1.5979 - val_accuracy: 0.3333\n",
      "Epoch 12/150\n",
      "45/45 [==============================] - ETA: 0s - loss: 1.5176 - accuracy: 0.87 - 0s 347us/step - loss: 1.5218 - accuracy: 0.8444 - val_loss: 1.5965 - val_accuracy: 0.3333\n",
      "Epoch 13/150\n",
      "45/45 [==============================] - ETA: 0s - loss: 1.5089 - accuracy: 0.87 - 0s 347us/step - loss: 1.5126 - accuracy: 0.8444 - val_loss: 1.5944 - val_accuracy: 0.3333\n",
      "Epoch 14/150\n",
      "45/45 [==============================] - ETA: 0s - loss: 1.5051 - accuracy: 0.84 - 0s 347us/step - loss: 1.5029 - accuracy: 0.8444 - val_loss: 1.5920 - val_accuracy: 0.3333\n",
      "Epoch 15/150\n",
      "45/45 [==============================] - ETA: 0s - loss: 1.4939 - accuracy: 0.84 - 0s 695us/step - loss: 1.4926 - accuracy: 0.8667 - val_loss: 1.5896 - val_accuracy: 0.3333\n",
      "Epoch 16/150\n",
      "45/45 [==============================] - ETA: 0s - loss: 1.4834 - accuracy: 0.87 - 0s 347us/step - loss: 1.4815 - accuracy: 0.8667 - val_loss: 1.5869 - val_accuracy: 0.3333\n",
      "Epoch 17/150\n",
      "45/45 [==============================] - ETA: 0s - loss: 1.4832 - accuracy: 0.84 - 0s 347us/step - loss: 1.4690 - accuracy: 0.8667 - val_loss: 1.5840 - val_accuracy: 0.3667\n",
      "Epoch 18/150\n",
      "45/45 [==============================] - ETA: 0s - loss: 1.4535 - accuracy: 0.90 - 0s 694us/step - loss: 1.4572 - accuracy: 0.8667 - val_loss: 1.5804 - val_accuracy: 0.3667\n",
      "Epoch 19/150\n",
      "45/45 [==============================] - ETA: 0s - loss: 1.4414 - accuracy: 0.90 - 0s 347us/step - loss: 1.4438 - accuracy: 0.8667 - val_loss: 1.5763 - val_accuracy: 0.3667\n",
      "Epoch 20/150\n",
      "45/45 [==============================] - ETA: 0s - loss: 1.4369 - accuracy: 0.90 - 0s 695us/step - loss: 1.4298 - accuracy: 0.8889 - val_loss: 1.5724 - val_accuracy: 0.4000\n",
      "Epoch 21/150\n",
      "45/45 [==============================] - ETA: 0s - loss: 1.4167 - accuracy: 0.90 - 0s 347us/step - loss: 1.4155 - accuracy: 0.8889 - val_loss: 1.5685 - val_accuracy: 0.4000\n",
      "Epoch 22/150\n",
      "45/45 [==============================] - ETA: 0s - loss: 1.4046 - accuracy: 0.87 - 0s 348us/step - loss: 1.4002 - accuracy: 0.8889 - val_loss: 1.5646 - val_accuracy: 0.3667\n",
      "Epoch 23/150\n",
      "45/45 [==============================] - ETA: 0s - loss: 1.3930 - accuracy: 0.84 - 0s 694us/step - loss: 1.3843 - accuracy: 0.8889 - val_loss: 1.5607 - val_accuracy: 0.4000\n",
      "Epoch 24/150\n",
      "45/45 [==============================] - ETA: 0s - loss: 1.3980 - accuracy: 0.84 - 0s 347us/step - loss: 1.3671 - accuracy: 0.8889 - val_loss: 1.5553 - val_accuracy: 0.4000\n",
      "Epoch 25/150\n",
      "45/45 [==============================] - ETA: 0s - loss: 1.3419 - accuracy: 0.93 - 0s 694us/step - loss: 1.3505 - accuracy: 0.9111 - val_loss: 1.5486 - val_accuracy: 0.4000\n",
      "Epoch 26/150\n",
      "45/45 [==============================] - ETA: 0s - loss: 1.3431 - accuracy: 0.87 - 0s 347us/step - loss: 1.3313 - accuracy: 0.9111 - val_loss: 1.5425 - val_accuracy: 0.4333\n",
      "Epoch 27/150\n",
      "45/45 [==============================] - ETA: 0s - loss: 1.3267 - accuracy: 0.90 - 0s 695us/step - loss: 1.3122 - accuracy: 0.9111 - val_loss: 1.5366 - val_accuracy: 0.4333\n",
      "Epoch 28/150\n",
      "45/45 [==============================] - ETA: 0s - loss: 1.2974 - accuracy: 0.93 - 0s 347us/step - loss: 1.2918 - accuracy: 0.9111 - val_loss: 1.5304 - val_accuracy: 0.4333\n",
      "Epoch 29/150\n",
      "45/45 [==============================] - ETA: 0s - loss: 1.2844 - accuracy: 0.87 - 0s 347us/step - loss: 1.2703 - accuracy: 0.9111 - val_loss: 1.5239 - val_accuracy: 0.4333\n",
      "Epoch 30/150\n",
      "45/45 [==============================] - ETA: 0s - loss: 1.2560 - accuracy: 0.93 - 0s 694us/step - loss: 1.2489 - accuracy: 0.9111 - val_loss: 1.5166 - val_accuracy: 0.4333\n",
      "Epoch 31/150\n",
      "45/45 [==============================] - ETA: 0s - loss: 1.2114 - accuracy: 0.90 - 0s 694us/step - loss: 1.2265 - accuracy: 0.9111 - val_loss: 1.5086 - val_accuracy: 0.4333\n",
      "Epoch 32/150\n",
      "45/45 [==============================] - ETA: 0s - loss: 1.1857 - accuracy: 0.90 - 0s 694us/step - loss: 1.2034 - accuracy: 0.9111 - val_loss: 1.4994 - val_accuracy: 0.4333\n",
      "Epoch 33/150\n",
      "45/45 [==============================] - ETA: 0s - loss: 1.1621 - accuracy: 0.93 - 0s 694us/step - loss: 1.1795 - accuracy: 0.9111 - val_loss: 1.4898 - val_accuracy: 0.4333\n",
      "Epoch 34/150\n",
      "45/45 [==============================] - ETA: 0s - loss: 1.1879 - accuracy: 0.87 - 0s 694us/step - loss: 1.1546 - accuracy: 0.9111 - val_loss: 1.4795 - val_accuracy: 0.4333\n",
      "Epoch 35/150\n",
      "45/45 [==============================] - ETA: 0s - loss: 1.1408 - accuracy: 0.90 - 0s 1ms/step - loss: 1.1296 - accuracy: 0.9111 - val_loss: 1.4696 - val_accuracy: 0.4333\n",
      "Epoch 36/150\n",
      "45/45 [==============================] - ETA: 0s - loss: 1.1500 - accuracy: 0.90 - 0s 694us/step - loss: 1.1034 - accuracy: 0.9111 - val_loss: 1.4596 - val_accuracy: 0.4333\n",
      "Epoch 37/150\n",
      "45/45 [==============================] - ETA: 0s - loss: 1.0499 - accuracy: 0.93 - 0s 694us/step - loss: 1.0783 - accuracy: 0.9111 - val_loss: 1.4496 - val_accuracy: 0.4333\n",
      "Epoch 38/150\n",
      "45/45 [==============================] - ETA: 0s - loss: 1.0412 - accuracy: 0.93 - 0s 1ms/step - loss: 1.0502 - accuracy: 0.9111 - val_loss: 1.4372 - val_accuracy: 0.4667\n",
      "Epoch 39/150\n",
      "45/45 [==============================] - ETA: 0s - loss: 1.0314 - accuracy: 0.90 - 0s 694us/step - loss: 1.0225 - accuracy: 0.9111 - val_loss: 1.4243 - val_accuracy: 0.4667\n",
      "Epoch 40/150\n",
      "45/45 [==============================] - ETA: 0s - loss: 0.9918 - accuracy: 0.93 - 0s 347us/step - loss: 0.9946 - accuracy: 0.9111 - val_loss: 1.4114 - val_accuracy: 0.4667\n",
      "Epoch 41/150\n",
      "45/45 [==============================] - ETA: 0s - loss: 0.9588 - accuracy: 0.87 - 0s 347us/step - loss: 0.9664 - accuracy: 0.9111 - val_loss: 1.3983 - val_accuracy: 0.4667\n",
      "Epoch 42/150\n",
      "45/45 [==============================] - ETA: 0s - loss: 0.9261 - accuracy: 0.90 - 0s 694us/step - loss: 0.9388 - accuracy: 0.9111 - val_loss: 1.3862 - val_accuracy: 0.5000\n",
      "Epoch 43/150\n",
      "45/45 [==============================] - ETA: 0s - loss: 0.8769 - accuracy: 0.90 - 0s 694us/step - loss: 0.9098 - accuracy: 0.9111 - val_loss: 1.3754 - val_accuracy: 0.5000\n",
      "Epoch 44/150\n",
      "45/45 [==============================] - ETA: 0s - loss: 0.8828 - accuracy: 0.93 - 0s 694us/step - loss: 0.8820 - accuracy: 0.9111 - val_loss: 1.3630 - val_accuracy: 0.5000\n"
     ]
    },
    {
     "name": "stdout",
     "output_type": "stream",
     "text": [
      "Epoch 45/150\n",
      "45/45 [==============================] - ETA: 0s - loss: 0.8522 - accuracy: 0.90 - 0s 348us/step - loss: 0.8533 - accuracy: 0.9111 - val_loss: 1.3493 - val_accuracy: 0.5000\n",
      "Epoch 46/150\n",
      "45/45 [==============================] - ETA: 0s - loss: 0.8650 - accuracy: 0.87 - 0s 694us/step - loss: 0.8249 - accuracy: 0.9111 - val_loss: 1.3348 - val_accuracy: 0.5000\n",
      "Epoch 47/150\n",
      "45/45 [==============================] - ETA: 0s - loss: 0.7950 - accuracy: 0.90 - 0s 347us/step - loss: 0.7976 - accuracy: 0.9111 - val_loss: 1.3211 - val_accuracy: 0.5000\n",
      "Epoch 48/150\n",
      "45/45 [==============================] - ETA: 0s - loss: 0.7833 - accuracy: 0.87 - 0s 694us/step - loss: 0.7696 - accuracy: 0.9111 - val_loss: 1.3075 - val_accuracy: 0.5000\n",
      "Epoch 49/150\n",
      "45/45 [==============================] - ETA: 0s - loss: 0.7068 - accuracy: 0.93 - 0s 694us/step - loss: 0.7433 - accuracy: 0.9111 - val_loss: 1.2940 - val_accuracy: 0.5000\n",
      "Epoch 50/150\n",
      "45/45 [==============================] - ETA: 0s - loss: 0.7357 - accuracy: 0.93 - 0s 694us/step - loss: 0.7164 - accuracy: 0.9111 - val_loss: 1.2800 - val_accuracy: 0.5000\n",
      "Epoch 51/150\n",
      "45/45 [==============================] - ETA: 0s - loss: 0.7385 - accuracy: 0.90 - 0s 347us/step - loss: 0.6903 - accuracy: 0.9111 - val_loss: 1.2660 - val_accuracy: 0.5000\n",
      "Epoch 52/150\n",
      "45/45 [==============================] - ETA: 0s - loss: 0.6457 - accuracy: 0.93 - 0s 694us/step - loss: 0.6640 - accuracy: 0.9333 - val_loss: 1.2541 - val_accuracy: 0.5000\n",
      "Epoch 53/150\n",
      "45/45 [==============================] - ETA: 0s - loss: 0.6499 - accuracy: 0.90 - 0s 347us/step - loss: 0.6391 - accuracy: 0.9333 - val_loss: 1.2424 - val_accuracy: 0.5000\n",
      "Epoch 54/150\n",
      "45/45 [==============================] - ETA: 0s - loss: 0.6843 - accuracy: 0.90 - 0s 694us/step - loss: 0.6143 - accuracy: 0.9333 - val_loss: 1.2307 - val_accuracy: 0.5000\n",
      "Epoch 55/150\n",
      "45/45 [==============================] - ETA: 0s - loss: 0.5884 - accuracy: 0.90 - 0s 347us/step - loss: 0.5905 - accuracy: 0.9333 - val_loss: 1.2185 - val_accuracy: 0.5000\n",
      "Epoch 56/150\n",
      "45/45 [==============================] - ETA: 0s - loss: 0.5799 - accuracy: 0.93 - 0s 695us/step - loss: 0.5676 - accuracy: 0.9333 - val_loss: 1.2056 - val_accuracy: 0.5000\n",
      "Epoch 57/150\n",
      "45/45 [==============================] - ETA: 0s - loss: 0.4951 - accuracy: 0.90 - 0s 1ms/step - loss: 0.5445 - accuracy: 0.9333 - val_loss: 1.1922 - val_accuracy: 0.5000\n",
      "Epoch 58/150\n",
      "45/45 [==============================] - ETA: 0s - loss: 0.4928 - accuracy: 0.96 - 0s 694us/step - loss: 0.5232 - accuracy: 0.9333 - val_loss: 1.1788 - val_accuracy: 0.5000\n",
      "Epoch 59/150\n",
      "45/45 [==============================] - ETA: 0s - loss: 0.5311 - accuracy: 0.93 - 0s 694us/step - loss: 0.5015 - accuracy: 0.9333 - val_loss: 1.1658 - val_accuracy: 0.5000\n",
      "Epoch 60/150\n",
      "45/45 [==============================] - ETA: 0s - loss: 0.5009 - accuracy: 0.93 - 0s 347us/step - loss: 0.4809 - accuracy: 0.9333 - val_loss: 1.1532 - val_accuracy: 0.5000\n",
      "Epoch 61/150\n",
      "45/45 [==============================] - ETA: 0s - loss: 0.4230 - accuracy: 0.93 - 0s 694us/step - loss: 0.4610 - accuracy: 0.9333 - val_loss: 1.1414 - val_accuracy: 0.5000\n",
      "Epoch 62/150\n",
      "45/45 [==============================] - ETA: 0s - loss: 0.4628 - accuracy: 0.90 - 0s 347us/step - loss: 0.4419 - accuracy: 0.9333 - val_loss: 1.1305 - val_accuracy: 0.5000\n",
      "Epoch 63/150\n",
      "45/45 [==============================] - ETA: 0s - loss: 0.4475 - accuracy: 0.90 - 0s 347us/step - loss: 0.4235 - accuracy: 0.9333 - val_loss: 1.1197 - val_accuracy: 0.5000\n",
      "Epoch 64/150\n",
      "45/45 [==============================] - ETA: 0s - loss: 0.4349 - accuracy: 0.93 - 0s 347us/step - loss: 0.4061 - accuracy: 0.9556 - val_loss: 1.1088 - val_accuracy: 0.5333\n",
      "Epoch 65/150\n",
      "45/45 [==============================] - ETA: 0s - loss: 0.3838 - accuracy: 0.96 - 0s 347us/step - loss: 0.3893 - accuracy: 0.9556 - val_loss: 1.0988 - val_accuracy: 0.5333\n",
      "Epoch 66/150\n",
      "45/45 [==============================] - ETA: 0s - loss: 0.3030 - accuracy: 1.00 - 0s 347us/step - loss: 0.3736 - accuracy: 0.9778 - val_loss: 1.0881 - val_accuracy: 0.5333\n",
      "Epoch 67/150\n",
      "45/45 [==============================] - ETA: 0s - loss: 0.3907 - accuracy: 0.96 - 0s 694us/step - loss: 0.3585 - accuracy: 0.9778 - val_loss: 1.0780 - val_accuracy: 0.5333\n",
      "Epoch 68/150\n",
      "45/45 [==============================] - ETA: 0s - loss: 0.3529 - accuracy: 0.96 - 0s 694us/step - loss: 0.3436 - accuracy: 0.9778 - val_loss: 1.0685 - val_accuracy: 0.5333\n",
      "Epoch 69/150\n",
      "45/45 [==============================] - ETA: 0s - loss: 0.3812 - accuracy: 0.96 - 0s 694us/step - loss: 0.3293 - accuracy: 0.9778 - val_loss: 1.0586 - val_accuracy: 0.5333\n",
      "Epoch 70/150\n",
      "45/45 [==============================] - ETA: 0s - loss: 0.3344 - accuracy: 0.96 - 0s 695us/step - loss: 0.3161 - accuracy: 0.9778 - val_loss: 1.0489 - val_accuracy: 0.5333\n",
      "Epoch 71/150\n",
      "45/45 [==============================] - ETA: 0s - loss: 0.2605 - accuracy: 1.00 - 0s 694us/step - loss: 0.3030 - accuracy: 0.9778 - val_loss: 1.0405 - val_accuracy: 0.5333\n",
      "Epoch 72/150\n",
      "45/45 [==============================] - ETA: 0s - loss: 0.3243 - accuracy: 0.96 - 0s 694us/step - loss: 0.2912 - accuracy: 0.9778 - val_loss: 1.0326 - val_accuracy: 0.5667\n",
      "Epoch 73/150\n",
      "45/45 [==============================] - ETA: 0s - loss: 0.2456 - accuracy: 1.00 - 0s 694us/step - loss: 0.2794 - accuracy: 0.9778 - val_loss: 1.0255 - val_accuracy: 0.5667\n",
      "Epoch 74/150\n",
      "45/45 [==============================] - ETA: 0s - loss: 0.2698 - accuracy: 0.96 - 0s 694us/step - loss: 0.2685 - accuracy: 0.9778 - val_loss: 1.0186 - val_accuracy: 0.5667\n",
      "Epoch 75/150\n",
      "45/45 [==============================] - ETA: 0s - loss: 0.2797 - accuracy: 0.96 - 0s 347us/step - loss: 0.2581 - accuracy: 0.9778 - val_loss: 1.0109 - val_accuracy: 0.5667\n",
      "Epoch 76/150\n",
      "45/45 [==============================] - ETA: 0s - loss: 0.2357 - accuracy: 0.96 - 0s 347us/step - loss: 0.2484 - accuracy: 0.9778 - val_loss: 1.0032 - val_accuracy: 0.5667\n",
      "Epoch 77/150\n",
      "45/45 [==============================] - ETA: 0s - loss: 0.2533 - accuracy: 1.00 - 0s 694us/step - loss: 0.2398 - accuracy: 0.9778 - val_loss: 0.9965 - val_accuracy: 0.6333\n",
      "Epoch 78/150\n",
      "45/45 [==============================] - ETA: 0s - loss: 0.2198 - accuracy: 0.96 - 0s 347us/step - loss: 0.2305 - accuracy: 0.9778 - val_loss: 0.9910 - val_accuracy: 0.6333\n",
      "Epoch 79/150\n",
      "45/45 [==============================] - ETA: 0s - loss: 0.2498 - accuracy: 0.96 - 0s 347us/step - loss: 0.2217 - accuracy: 0.9778 - val_loss: 0.9852 - val_accuracy: 0.6333\n",
      "Epoch 80/150\n",
      "45/45 [==============================] - ETA: 0s - loss: 0.2147 - accuracy: 0.96 - 0s 347us/step - loss: 0.2137 - accuracy: 0.9778 - val_loss: 0.9790 - val_accuracy: 0.6333\n",
      "Epoch 81/150\n",
      "45/45 [==============================] - ETA: 0s - loss: 0.1814 - accuracy: 1.00 - 0s 347us/step - loss: 0.2061 - accuracy: 0.9778 - val_loss: 0.9733 - val_accuracy: 0.6333\n",
      "Epoch 82/150\n",
      "45/45 [==============================] - ETA: 0s - loss: 0.1960 - accuracy: 0.96 - 0s 347us/step - loss: 0.1986 - accuracy: 0.9778 - val_loss: 0.9681 - val_accuracy: 0.6333\n",
      "Epoch 83/150\n",
      "45/45 [==============================] - ETA: 0s - loss: 0.1875 - accuracy: 0.96 - 0s 347us/step - loss: 0.1921 - accuracy: 0.9778 - val_loss: 0.9631 - val_accuracy: 0.6333\n",
      "Epoch 84/150\n",
      "45/45 [==============================] - ETA: 0s - loss: 0.2102 - accuracy: 0.96 - 0s 347us/step - loss: 0.1854 - accuracy: 0.9778 - val_loss: 0.9574 - val_accuracy: 0.6333\n",
      "Epoch 85/150\n",
      "45/45 [==============================] - ETA: 0s - loss: 0.1513 - accuracy: 0.96 - 0s 347us/step - loss: 0.1793 - accuracy: 0.9778 - val_loss: 0.9524 - val_accuracy: 0.6333\n",
      "Epoch 86/150\n",
      "45/45 [==============================] - ETA: 0s - loss: 0.1790 - accuracy: 0.96 - 0s 347us/step - loss: 0.1735 - accuracy: 0.9778 - val_loss: 0.9477 - val_accuracy: 0.6333\n",
      "Epoch 87/150\n",
      "45/45 [==============================] - ETA: 0s - loss: 0.1727 - accuracy: 0.96 - 0s 347us/step - loss: 0.1678 - accuracy: 0.9778 - val_loss: 0.9440 - val_accuracy: 0.6333\n",
      "Epoch 88/150\n",
      "45/45 [==============================] - ETA: 0s - loss: 0.1732 - accuracy: 0.96 - 0s 694us/step - loss: 0.1628 - accuracy: 0.9778 - val_loss: 0.9394 - val_accuracy: 0.6333\n",
      "Epoch 89/150\n",
      "45/45 [==============================] - ETA: 0s - loss: 0.1575 - accuracy: 0.96 - 0s 694us/step - loss: 0.1577 - accuracy: 0.9778 - val_loss: 0.9355 - val_accuracy: 0.6333\n",
      "Epoch 90/150\n",
      "45/45 [==============================] - ETA: 0s - loss: 0.1220 - accuracy: 1.00 - 0s 347us/step - loss: 0.1531 - accuracy: 0.9778 - val_loss: 0.9314 - val_accuracy: 0.6333\n",
      "Epoch 91/150\n",
      "45/45 [==============================] - ETA: 0s - loss: 0.1466 - accuracy: 0.96 - 0s 347us/step - loss: 0.1482 - accuracy: 0.9778 - val_loss: 0.9279 - val_accuracy: 0.6333\n",
      "Epoch 92/150\n",
      "45/45 [==============================] - ETA: 0s - loss: 0.1431 - accuracy: 1.00 - 0s 347us/step - loss: 0.1442 - accuracy: 0.9778 - val_loss: 0.9241 - val_accuracy: 0.6333\n",
      "Epoch 93/150\n",
      "45/45 [==============================] - ETA: 0s - loss: 0.1533 - accuracy: 0.96 - 0s 347us/step - loss: 0.1397 - accuracy: 0.9778 - val_loss: 0.9216 - val_accuracy: 0.6333\n",
      "Epoch 94/150\n",
      "45/45 [==============================] - ETA: 0s - loss: 0.1285 - accuracy: 1.00 - 0s 347us/step - loss: 0.1356 - accuracy: 0.9778 - val_loss: 0.9185 - val_accuracy: 0.6333\n",
      "Epoch 95/150\n",
      "45/45 [==============================] - ETA: 0s - loss: 0.1288 - accuracy: 0.96 - 0s 347us/step - loss: 0.1321 - accuracy: 0.9778 - val_loss: 0.9167 - val_accuracy: 0.6333\n",
      "Epoch 96/150\n",
      "45/45 [==============================] - ETA: 0s - loss: 0.1241 - accuracy: 0.96 - 0s 347us/step - loss: 0.1297 - accuracy: 0.9556 - val_loss: 0.9148 - val_accuracy: 0.6333\n",
      "Epoch 97/150\n",
      "45/45 [==============================] - ETA: 0s - loss: 0.1270 - accuracy: 0.96 - 0s 347us/step - loss: 0.1255 - accuracy: 0.9778 - val_loss: 0.9117 - val_accuracy: 0.6333\n",
      "Epoch 98/150\n",
      "45/45 [==============================] - ETA: 0s - loss: 0.1153 - accuracy: 0.96 - 0s 347us/step - loss: 0.1223 - accuracy: 0.9778 - val_loss: 0.9084 - val_accuracy: 0.6333\n",
      "Epoch 99/150\n",
      "45/45 [==============================] - ETA: 0s - loss: 0.0849 - accuracy: 1.00 - 0s 347us/step - loss: 0.1193 - accuracy: 0.9778 - val_loss: 0.9058 - val_accuracy: 0.6333\n",
      "Epoch 100/150\n",
      "45/45 [==============================] - ETA: 0s - loss: 0.0999 - accuracy: 0.96 - 0s 347us/step - loss: 0.1167 - accuracy: 0.9556 - val_loss: 0.9036 - val_accuracy: 0.6333\n",
      "Epoch 101/150\n",
      "45/45 [==============================] - ETA: 0s - loss: 0.1028 - accuracy: 1.00 - 0s 694us/step - loss: 0.1138 - accuracy: 0.9778 - val_loss: 0.9028 - val_accuracy: 0.6333\n",
      "Epoch 102/150\n",
      "45/45 [==============================] - ETA: 0s - loss: 0.1198 - accuracy: 0.96 - 0s 347us/step - loss: 0.1111 - accuracy: 0.9778 - val_loss: 0.9025 - val_accuracy: 0.6333\n",
      "Epoch 103/150\n",
      "45/45 [==============================] - ETA: 0s - loss: 0.1304 - accuracy: 0.96 - 0s 347us/step - loss: 0.1088 - accuracy: 0.9778 - val_loss: 0.9017 - val_accuracy: 0.6333\n",
      "Epoch 104/150\n",
      "45/45 [==============================] - ETA: 0s - loss: 0.0899 - accuracy: 0.96 - 0s 347us/step - loss: 0.1065 - accuracy: 0.9778 - val_loss: 0.9004 - val_accuracy: 0.6333\n",
      "Epoch 105/150\n",
      "45/45 [==============================] - ETA: 0s - loss: 0.1148 - accuracy: 0.96 - 0s 346us/step - loss: 0.1044 - accuracy: 0.9778 - val_loss: 0.8994 - val_accuracy: 0.6333\n",
      "Epoch 106/150\n",
      "45/45 [==============================] - ETA: 0s - loss: 0.0726 - accuracy: 1.00 - 0s 347us/step - loss: 0.1026 - accuracy: 0.9778 - val_loss: 0.8971 - val_accuracy: 0.6333\n",
      "Epoch 107/150\n",
      "45/45 [==============================] - ETA: 0s - loss: 0.0936 - accuracy: 0.96 - 0s 347us/step - loss: 0.1002 - accuracy: 0.9778 - val_loss: 0.8947 - val_accuracy: 0.6333\n",
      "Epoch 108/150\n",
      "45/45 [==============================] - ETA: 0s - loss: 0.1032 - accuracy: 0.96 - 0s 347us/step - loss: 0.0982 - accuracy: 0.9778 - val_loss: 0.8924 - val_accuracy: 0.6333\n",
      "Epoch 109/150\n",
      "45/45 [==============================] - ETA: 0s - loss: 0.0984 - accuracy: 0.96 - 0s 347us/step - loss: 0.0967 - accuracy: 0.9778 - val_loss: 0.8905 - val_accuracy: 0.6333\n",
      "Epoch 110/150\n",
      "45/45 [==============================] - ETA: 0s - loss: 0.0989 - accuracy: 1.00 - 0s 347us/step - loss: 0.0947 - accuracy: 0.9778 - val_loss: 0.8894 - val_accuracy: 0.6333\n",
      "Epoch 111/150\n",
      "45/45 [==============================] - ETA: 0s - loss: 0.1013 - accuracy: 0.96 - 0s 347us/step - loss: 0.0924 - accuracy: 0.9778 - val_loss: 0.8870 - val_accuracy: 0.6333\n",
      "Epoch 112/150\n",
      "45/45 [==============================] - ETA: 0s - loss: 0.0738 - accuracy: 1.00 - 0s 347us/step - loss: 0.0905 - accuracy: 0.9778 - val_loss: 0.8846 - val_accuracy: 0.6333\n",
      "Epoch 113/150\n",
      "45/45 [==============================] - ETA: 0s - loss: 0.0917 - accuracy: 0.96 - 0s 347us/step - loss: 0.0889 - accuracy: 0.9778 - val_loss: 0.8815 - val_accuracy: 0.6333\n",
      "Epoch 114/150\n",
      "45/45 [==============================] - ETA: 0s - loss: 0.1021 - accuracy: 0.96 - 0s 347us/step - loss: 0.0875 - accuracy: 0.9778 - val_loss: 0.8791 - val_accuracy: 0.6333\n",
      "Epoch 115/150\n",
      "45/45 [==============================] - ETA: 0s - loss: 0.0813 - accuracy: 0.96 - 0s 347us/step - loss: 0.0859 - accuracy: 0.9778 - val_loss: 0.8772 - val_accuracy: 0.6333\n",
      "Epoch 116/150\n",
      "45/45 [==============================] - ETA: 0s - loss: 0.0986 - accuracy: 0.96 - 0s 347us/step - loss: 0.0847 - accuracy: 0.9778 - val_loss: 0.8751 - val_accuracy: 0.6667\n",
      "Epoch 117/150\n",
      "45/45 [==============================] - ETA: 0s - loss: 0.1024 - accuracy: 0.96 - 0s 347us/step - loss: 0.0836 - accuracy: 0.9778 - val_loss: 0.8736 - val_accuracy: 0.6667\n",
      "Epoch 118/150\n",
      "45/45 [==============================] - ETA: 0s - loss: 0.0883 - accuracy: 0.96 - 0s 347us/step - loss: 0.0824 - accuracy: 0.9778 - val_loss: 0.8728 - val_accuracy: 0.6667\n",
      "Epoch 119/150\n",
      "45/45 [==============================] - ETA: 0s - loss: 0.0500 - accuracy: 1.00 - 0s 347us/step - loss: 0.0814 - accuracy: 0.9778 - val_loss: 0.8727 - val_accuracy: 0.6667\n",
      "Epoch 120/150\n",
      "45/45 [==============================] - ETA: 0s - loss: 0.0803 - accuracy: 0.96 - 0s 347us/step - loss: 0.0804 - accuracy: 0.9778 - val_loss: 0.8725 - val_accuracy: 0.6667\n",
      "Epoch 121/150\n",
      "45/45 [==============================] - ETA: 0s - loss: 0.0347 - accuracy: 1.00 - 0s 347us/step - loss: 0.0788 - accuracy: 0.9778 - val_loss: 0.8717 - val_accuracy: 0.6667\n",
      "Epoch 122/150\n",
      "45/45 [==============================] - ETA: 0s - loss: 0.0680 - accuracy: 1.00 - 0s 347us/step - loss: 0.0779 - accuracy: 0.9778 - val_loss: 0.8722 - val_accuracy: 0.6333\n",
      "Epoch 123/150\n",
      "45/45 [==============================] - ETA: 0s - loss: 0.0946 - accuracy: 0.96 - 0s 347us/step - loss: 0.0765 - accuracy: 0.9778 - val_loss: 0.8741 - val_accuracy: 0.6333\n",
      "Epoch 124/150\n",
      "45/45 [==============================] - ETA: 0s - loss: 0.0919 - accuracy: 0.96 - 0s 347us/step - loss: 0.0752 - accuracy: 0.9778 - val_loss: 0.8752 - val_accuracy: 0.6333\n",
      "Epoch 125/150\n",
      "45/45 [==============================] - ETA: 0s - loss: 0.0616 - accuracy: 1.00 - 0s 347us/step - loss: 0.0739 - accuracy: 0.9778 - val_loss: 0.8756 - val_accuracy: 0.6333\n",
      "Epoch 126/150\n",
      "45/45 [==============================] - ETA: 0s - loss: 0.0864 - accuracy: 0.96 - 0s 347us/step - loss: 0.0731 - accuracy: 0.9778 - val_loss: 0.8763 - val_accuracy: 0.6333\n",
      "Epoch 127/150\n",
      "45/45 [==============================] - ETA: 0s - loss: 0.0610 - accuracy: 0.96 - 0s 347us/step - loss: 0.0721 - accuracy: 0.9778 - val_loss: 0.8766 - val_accuracy: 0.6333\n",
      "Epoch 128/150\n",
      "45/45 [==============================] - ETA: 0s - loss: 0.0724 - accuracy: 0.96 - 0s 347us/step - loss: 0.0713 - accuracy: 0.9778 - val_loss: 0.8775 - val_accuracy: 0.6333\n",
      "Epoch 129/150\n",
      "45/45 [==============================] - ETA: 0s - loss: 0.0835 - accuracy: 0.96 - 0s 347us/step - loss: 0.0713 - accuracy: 0.9778 - val_loss: 0.8785 - val_accuracy: 0.6333\n",
      "Epoch 130/150\n",
      "45/45 [==============================] - ETA: 0s - loss: 0.0711 - accuracy: 0.96 - 0s 347us/step - loss: 0.0711 - accuracy: 0.9778 - val_loss: 0.8787 - val_accuracy: 0.6333\n",
      "Epoch 131/150\n",
      "45/45 [==============================] - ETA: 0s - loss: 0.0879 - accuracy: 0.96 - 0s 347us/step - loss: 0.0707 - accuracy: 0.9778 - val_loss: 0.8782 - val_accuracy: 0.6333\n",
      "Epoch 132/150\n",
      "45/45 [==============================] - ETA: 0s - loss: 0.0789 - accuracy: 0.96 - 0s 347us/step - loss: 0.0698 - accuracy: 0.9778 - val_loss: 0.8772 - val_accuracy: 0.6333\n"
     ]
    },
    {
     "name": "stdout",
     "output_type": "stream",
     "text": [
      "Epoch 133/150\n",
      "45/45 [==============================] - ETA: 0s - loss: 0.0702 - accuracy: 0.96 - 0s 347us/step - loss: 0.0688 - accuracy: 0.9778 - val_loss: 0.8756 - val_accuracy: 0.6333\n",
      "Epoch 134/150\n",
      "45/45 [==============================] - ETA: 0s - loss: 0.0344 - accuracy: 1.00 - 0s 347us/step - loss: 0.0677 - accuracy: 0.9778 - val_loss: 0.8732 - val_accuracy: 0.6333\n",
      "Epoch 135/150\n",
      "45/45 [==============================] - ETA: 0s - loss: 0.0823 - accuracy: 0.96 - 0s 347us/step - loss: 0.0667 - accuracy: 0.9778 - val_loss: 0.8703 - val_accuracy: 0.6333\n",
      "Epoch 136/150\n",
      "45/45 [==============================] - ETA: 0s - loss: 0.0564 - accuracy: 0.96 - 0s 694us/step - loss: 0.0661 - accuracy: 0.9778 - val_loss: 0.8677 - val_accuracy: 0.6333\n",
      "Epoch 137/150\n",
      "45/45 [==============================] - ETA: 0s - loss: 0.0779 - accuracy: 0.96 - 0s 694us/step - loss: 0.0644 - accuracy: 0.9778 - val_loss: 0.8661 - val_accuracy: 0.6333\n",
      "Epoch 138/150\n",
      "45/45 [==============================] - ETA: 0s - loss: 0.0506 - accuracy: 1.00 - 0s 347us/step - loss: 0.0638 - accuracy: 0.9778 - val_loss: 0.8641 - val_accuracy: 0.6333\n",
      "Epoch 139/150\n",
      "45/45 [==============================] - ETA: 0s - loss: 0.0658 - accuracy: 0.96 - 0s 347us/step - loss: 0.0627 - accuracy: 0.9778 - val_loss: 0.8610 - val_accuracy: 0.6333\n",
      "Epoch 140/150\n",
      "45/45 [==============================] - ETA: 0s - loss: 0.0617 - accuracy: 0.96 - 0s 347us/step - loss: 0.0630 - accuracy: 0.9556 - val_loss: 0.8592 - val_accuracy: 0.6667\n",
      "Epoch 141/150\n",
      "45/45 [==============================] - ETA: 0s - loss: 0.0571 - accuracy: 0.96 - 0s 347us/step - loss: 0.0617 - accuracy: 0.9778 - val_loss: 0.8589 - val_accuracy: 0.6667\n",
      "Epoch 142/150\n",
      "45/45 [==============================] - ETA: 0s - loss: 0.0556 - accuracy: 1.00 - 0s 347us/step - loss: 0.0615 - accuracy: 0.9778 - val_loss: 0.8581 - val_accuracy: 0.6667\n",
      "Epoch 143/150\n",
      "45/45 [==============================] - ETA: 0s - loss: 0.0512 - accuracy: 1.00 - 0s 694us/step - loss: 0.0603 - accuracy: 0.9778 - val_loss: 0.8592 - val_accuracy: 0.6667\n",
      "Epoch 144/150\n",
      "45/45 [==============================] - ETA: 0s - loss: 0.0435 - accuracy: 0.96 - 0s 694us/step - loss: 0.0605 - accuracy: 0.9556 - val_loss: 0.8612 - val_accuracy: 0.6333\n",
      "Epoch 145/150\n",
      "45/45 [==============================] - ETA: 0s - loss: 0.0749 - accuracy: 0.96 - 0s 347us/step - loss: 0.0591 - accuracy: 0.9778 - val_loss: 0.8613 - val_accuracy: 0.6333\n",
      "Epoch 146/150\n",
      "45/45 [==============================] - ETA: 0s - loss: 0.0324 - accuracy: 1.00 - 0s 347us/step - loss: 0.0585 - accuracy: 0.9778 - val_loss: 0.8612 - val_accuracy: 0.6333\n",
      "Epoch 147/150\n",
      "45/45 [==============================] - ETA: 0s - loss: 0.0418 - accuracy: 1.00 - 0s 347us/step - loss: 0.0583 - accuracy: 0.9778 - val_loss: 0.8604 - val_accuracy: 0.6333\n",
      "Epoch 148/150\n",
      "45/45 [==============================] - ETA: 0s - loss: 0.0660 - accuracy: 0.96 - 0s 347us/step - loss: 0.0575 - accuracy: 0.9778 - val_loss: 0.8585 - val_accuracy: 0.6667\n",
      "Epoch 149/150\n",
      "45/45 [==============================] - ETA: 0s - loss: 0.0298 - accuracy: 1.00 - 0s 347us/step - loss: 0.0571 - accuracy: 0.9778 - val_loss: 0.8571 - val_accuracy: 0.6667\n",
      "Epoch 150/150\n",
      "45/45 [==============================] - ETA: 0s - loss: 0.0673 - accuracy: 0.96 - 0s 347us/step - loss: 0.0566 - accuracy: 0.9778 - val_loss: 0.8561 - val_accuracy: 0.6667\n"
     ]
    }
   ],
   "source": [
    "n_timesteps = 1\n",
    "n_features = XX_train.shape[2]\n",
    "\n",
    "model = Sequential()\n",
    "model.add(Conv1D(filters=32, kernel_size=1, activation='relu', input_shape=(n_timesteps, n_features)))\n",
    "model.add(MaxPooling1D(pool_size=1))\n",
    "model.add(Flatten())\n",
    "model.add(Dense(16, activation='relu'))\n",
    "model.add(Dense(units=YY_train.shape[1], activation='softmax'))\n",
    "model.compile(loss='categorical_crossentropy', optimizer=\"adam\", metrics=['accuracy'])\n",
    "\n",
    "epochs = 150\n",
    "batch_size =32\n",
    "history = model.fit(XX_train, YY_train, epochs=epochs, batch_size=batch_size, validation_split=0.4)"
   ]
  },
  {
   "cell_type": "code",
   "execution_count": 44,
   "metadata": {},
   "outputs": [
    {
     "data": {
      "text/plain": [
       "0.6666666666666666"
      ]
     },
     "execution_count": 44,
     "metadata": {},
     "output_type": "execute_result"
    }
   ],
   "source": [
    "pred_proba=model.predict(XX_test)\n",
    "idx = np.argmax(pred_proba, axis=-1)\n",
    "YY_pred = np.zeros( pred_proba.shape )\n",
    "YY_pred[ np.arange(YY_pred.shape[0]), idx] = 1\n",
    "accuracy_score(YY_test, YY_pred)"
   ]
  },
  {
   "cell_type": "code",
   "execution_count": 45,
   "metadata": {},
   "outputs": [
    {
     "data": {
      "text/plain": [
       "['model_classif_theme.joblib']"
      ]
     },
     "execution_count": 45,
     "metadata": {},
     "output_type": "execute_result"
    }
   ],
   "source": [
    "from joblib import dump\n",
    "dump(model, 'model_classif_theme.joblib')"
   ]
  },
  {
   "cell_type": "code",
   "execution_count": null,
   "metadata": {},
   "outputs": [],
   "source": []
  }
 ],
 "metadata": {
  "kernelspec": {
   "display_name": "Python 3",
   "language": "python",
   "name": "python3"
  },
  "language_info": {
   "codemirror_mode": {
    "name": "ipython",
    "version": 3
   },
   "file_extension": ".py",
   "mimetype": "text/x-python",
   "name": "python",
   "nbconvert_exporter": "python",
   "pygments_lexer": "ipython3",
   "version": "3.7.3"
  }
 },
 "nbformat": 4,
 "nbformat_minor": 2
}
